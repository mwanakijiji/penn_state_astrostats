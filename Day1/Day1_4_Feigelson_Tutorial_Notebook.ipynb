{
 "cells": [
  {
   "cell_type": "markdown",
   "metadata": {
    "id": "spdr1DcPBu09"
   },
   "source": [
    "# R tutorial: Introduction to R\n",
    "### Summer School in Statistics for Astronomers\n",
    "### Instructor: Eric Feigelson (Penn State)"
   ]
  },
  {
   "cell_type": "markdown",
   "metadata": {
    "id": "D3x6fhQxBu0_"
   },
   "source": [
    "R is a powerful software environment for data analysis, graphics, and especially statistical analysis. It is available free to the public at www.r-project.org with easily installed binaries for Linux, MacOS and Windows.  This notebook provides an introduction to R designed for students and researchers in astronomy.  Some familiarity with scripting languages like Matlab or IDL is helpful.\n",
    "\n",
    "To use Jupyter notebooks, both Python and R need to be installed on your computer.  Python's *anaconda* distribution and *conda* package management system automatically include Jupyter Notebooks as an application accessed through the *Anaconda Navigator*.  \n",
    "\n",
    "However, it is possible that your Anaconda release did not automatically include the R kernel for Jupyter.  You can tell whether it is present if the R logo (blue R in front of gray ellipse) is shown at the top-right of the Jupyter page.  If it is missing, then the code cells below will fail upon execution. To install the R kernel within Python, type:\n",
    "\n",
    "    conda install -c r r-irkernel \n",
    "\n",
    "Alternatively, you can make R available to Jupyter from an R console by typing:\n",
    "\n",
    "    install.packages('IRkernel')  ;  IRkernel::installspec() \n",
    "\n",
    "For further discussion of the relationship between Python, R, Jupyter and other notebook environments, see https://www.datacamp.com/community/blog/jupyter-notebook-r\n",
    "\n",
    "---\n",
    "\n",
    "Some basic information:\n",
    "- R is driven by the command line in the R console.  Double-click the R icon or (in Linux) type 'R' in the terminal to open the console. \n",
    "- R has >100,000 'functions' that perform various tasks. Each function uses () brackets to list arguments and parameters.  \n",
    "- Every function has a 'help(fn)' page telling how it is used, what operation is run, and what output it produces with references an examples that can be cut-and-paste into an R console. It is essential for both novice and experienced R programmers to read help files.\n",
    "- A hash mark ( # ) denotes comments in an R script.  A semi-colon ( ; ) has the same action as a carriage return. Lines do not need to end with a semi-colon.\n",
    "- The commands in the Summer School tutorials can be run interactively in Jupyter, or cut-and-pasted into a separate R console."
   ]
  },
  {
   "cell_type": "code",
   "execution_count": 1,
   "metadata": {
    "id": "eAJABtv8Bu1A"
   },
   "outputs": [
    {
     "data": {
      "text/html": [
       "'/Users/eckhartspalding/Documents/git.repos/penn_state_astrostats/Day1'"
      ],
      "text/latex": [
       "'/Users/eckhartspalding/Documents/git.repos/penn\\_state\\_astrostats/Day1'"
      ],
      "text/markdown": [
       "'/Users/eckhartspalding/Documents/git.repos/penn_state_astrostats/Day1'"
      ],
      "text/plain": [
       "[1] \"/Users/eckhartspalding/Documents/git.repos/penn_state_astrostats/Day1\""
      ]
     },
     "metadata": {},
     "output_type": "display_data"
    },
    {
     "data": {
      "text/html": [
       "'/Users/eckhartspalding/Documents/git.repos/penn_state_astrostats/Day1'"
      ],
      "text/latex": [
       "'/Users/eckhartspalding/Documents/git.repos/penn\\_state\\_astrostats/Day1'"
      ],
      "text/markdown": [
       "'/Users/eckhartspalding/Documents/git.repos/penn_state_astrostats/Day1'"
      ],
      "text/plain": [
       "[1] \"/Users/eckhartspalding/Documents/git.repos/penn_state_astrostats/Day1\""
      ]
     },
     "metadata": {},
     "output_type": "display_data"
    },
    {
     "data": {
      "text/plain": [
       "\n",
       "To cite R in publications use:\n",
       "\n",
       "  R Core Team (2023). R: A language and environment for statistical\n",
       "  computing. R Foundation for Statistical Computing, Vienna, Austria.\n",
       "  URL https://www.R-project.org/.\n",
       "\n",
       "A BibTeX entry for LaTeX users is\n",
       "\n",
       "  @Manual{,\n",
       "    title = {R: A Language and Environment for Statistical Computing},\n",
       "    author = {{R Core Team}},\n",
       "    organization = {R Foundation for Statistical Computing},\n",
       "    address = {Vienna, Austria},\n",
       "    year = {2023},\n",
       "    url = {https://www.R-project.org/},\n",
       "  }\n",
       "\n",
       "We have invested a lot of time and effort in creating R, please cite it\n",
       "when using it for data analysis. See also ‘citation(\"pkgname\")’ for\n",
       "citing R packages.\n"
      ]
     },
     "metadata": {},
     "output_type": "display_data"
    }
   ],
   "source": [
    "# I.  Set up your session\n",
    "\n",
    "getwd()                     # find working directory.  \n",
    "#setwd('/Users/ericfeigelson/Desktop/Rdir')\n",
    "getwd()                     # see the working directory has changed\n",
    "citation()                  # quote this citation in any publication using R"
   ]
  },
  {
   "cell_type": "code",
   "execution_count": 2,
   "metadata": {
    "id": "50368P1KBu1B"
   },
   "outputs": [
    {
     "data": {
      "text/plain": [
       "R version 4.2.3 (2023-03-15)\n",
       "Platform: aarch64-apple-darwin20.0.0 (64-bit)\n",
       "Running under: macOS 15.5\n",
       "\n",
       "Matrix products: default\n",
       "BLAS:   /Users/eckhartspalding/miniconda3/envs/py310/lib/R/lib/libRblas.dylib\n",
       "LAPACK: /Users/eckhartspalding/miniconda3/envs/py310/lib/R/lib/libRlapack.dylib\n",
       "\n",
       "locale:\n",
       "[1] en_US.UTF-8/en_US.UTF-8/en_US.UTF-8/C/en_US.UTF-8/en_US.UTF-8\n",
       "\n",
       "attached base packages:\n",
       "[1] stats     graphics  grDevices utils     datasets  methods   base     \n",
       "\n",
       "loaded via a namespace (and not attached):\n",
       " [1] fansi_1.0.6     utf8_1.2.4      digest_0.6.31   crayon_1.5.1   \n",
       " [5] IRdisplay_1.1   repr_1.1.4      lifecycle_1.0.1 jsonlite_1.8.8 \n",
       " [9] evaluate_0.22   pillar_1.7.0    rlang_1.1.0     cli_3.6.1      \n",
       "[13] uuid_1.2-0      vctrs_0.4.2     ellipsis_0.3.2  IRkernel_1.3.2 \n",
       "[17] tools_4.2.3     glue_1.7.0      fastmap_1.1.1   compiler_4.2.3 \n",
       "[21] base64enc_0.1-3 pbdZMQ_0.3-10   htmltools_0.5.5"
      ]
     },
     "metadata": {},
     "output_type": "display_data"
    }
   ],
   "source": [
    "sessionInfo()               # learn about your software environment"
   ]
  },
  {
   "cell_type": "code",
   "execution_count": 3,
   "metadata": {
    "id": "NllX9mqjBu1C"
   },
   "outputs": [
    {
     "data": {
      "text/plain": [
       "R packages available\n",
       "\n",
       "Packages in library ‘/Users/eckhartspalding/miniconda3/envs/py310/lib/R/library’:\n",
       "\n",
       "base                    The R Base Package\n",
       "base64enc               Tools for base64 encoding\n",
       "cli                     Helpers for Developing Command Line Interfaces\n",
       "compiler                The R Compiler Package\n",
       "crayon                  Colored Terminal Output\n",
       "datasets                The R Datasets Package\n",
       "digest                  Create Compact Hash Digests of R Objects\n",
       "ellipsis                Tools for Working with ...\n",
       "evaluate                Parsing and Evaluation Tools that Provide More\n",
       "                        Details than the Default\n",
       "fansi                   ANSI Control Sequence Aware String Functions\n",
       "fastmap                 Fast Data Structures\n",
       "glue                    Interpreted String Literals\n",
       "graphics                The R Graphics Package\n",
       "grDevices               The R Graphics Devices and Support for Colours\n",
       "                        and Fonts\n",
       "grid                    The Grid Graphics Package\n",
       "htmltools               Tools for HTML\n",
       "IRdisplay               'Jupyter' Display Machinery\n",
       "IRkernel                Native R Kernel for the 'Jupyter Notebook'\n",
       "jsonlite                A Simple and Robust JSON Parser and Generator\n",
       "                        for R\n",
       "lifecycle               Manage the Life Cycle of your Package Functions\n",
       "methods                 Formal Methods and Classes\n",
       "parallel                Support for Parallel computation in R\n",
       "pbdZMQ                  Programming with Big Data -- Interface to\n",
       "                        'ZeroMQ'\n",
       "pillar                  Coloured Formatting for Columns\n",
       "repr                    Serializable Representations\n",
       "rlang                   Functions for Base Types and Core R and\n",
       "                        'Tidyverse' Features\n",
       "splines                 Regression Spline Functions and Classes\n",
       "stats                   The R Stats Package\n",
       "stats4                  Statistical Functions using S4 Classes\n",
       "tcltk                   Tcl/Tk Interface\n",
       "tools                   Tools for Package Development\n",
       "utf8                    Unicode Text Processing\n",
       "utils                   The R Utils Package\n",
       "uuid                    Tools for Generating and Handling of UUIDs\n",
       "vctrs                   Vector Helpers"
      ]
     },
     "metadata": {},
     "output_type": "display_data"
    }
   ],
   "source": [
    "library()                   # see packages installed on your computer\n",
    "                            # ~30 are installed automatically with R"
   ]
  },
  {
   "cell_type": "code",
   "execution_count": 4,
   "metadata": {
    "id": "MOe3iNpPBu1C"
   },
   "outputs": [
    {
     "data": {
      "text/html": [
       "4"
      ],
      "text/latex": [
       "4"
      ],
      "text/markdown": [
       "4"
      ],
      "text/plain": [
       "[1] 4"
      ]
     },
     "metadata": {},
     "output_type": "display_data"
    },
    {
     "data": {
      "text/html": [
       "'a'"
      ],
      "text/latex": [
       "'a'"
      ],
      "text/markdown": [
       "'a'"
      ],
      "text/plain": [
       "[1] \"a\""
      ]
     },
     "metadata": {},
     "output_type": "display_data"
    },
    {
     "data": {
      "text/html": [
       "'numeric'"
      ],
      "text/latex": [
       "'numeric'"
      ],
      "text/markdown": [
       "'numeric'"
      ],
      "text/plain": [
       "[1] \"numeric\""
      ]
     },
     "metadata": {},
     "output_type": "display_data"
    },
    {
     "name": "stdout",
     "output_type": "stream",
     "text": [
      " num [1:4] 33 44 92 58\n"
     ]
    },
    {
     "data": {
      "text/html": [
       "<style>\n",
       ".list-inline {list-style: none; margin:0; padding: 0}\n",
       ".list-inline>li {display: inline-block}\n",
       ".list-inline>li:not(:last-child)::after {content: \"\\00b7\"; padding: 0 .5ex}\n",
       "</style>\n",
       "<ol class=list-inline><li>33</li><li>44</li><li>92</li><li>58</li></ol>\n"
      ],
      "text/latex": [
       "\\begin{enumerate*}\n",
       "\\item 33\n",
       "\\item 44\n",
       "\\item 92\n",
       "\\item 58\n",
       "\\end{enumerate*}\n"
      ],
      "text/markdown": [
       "1. 33\n",
       "2. 44\n",
       "3. 92\n",
       "4. 58\n",
       "\n",
       "\n"
      ],
      "text/plain": [
       "[1] 33 44 92 58"
      ]
     },
     "metadata": {},
     "output_type": "display_data"
    }
   ],
   "source": [
    "# II. Create and characterize a vector\n",
    "\n",
    "a <- c(33, 44, 92, 58)      # combine numbers into a vector\n",
    "length(a)\n",
    "ls()                        # list names of objects in your environment\n",
    "class(a)                    # state the `class' of an R object (described in III below)\n",
    "str(a)                      # state the structure of an R object\n",
    "a                           # state the contents of an R object"
   ]
  },
  {
   "cell_type": "code",
   "execution_count": null,
   "metadata": {
    "id": "uombxsufBu1D"
   },
   "outputs": [],
   "source": [
    "# R vectors and arrays start at index 1, \n",
    "# unlike Python where the first element has index 0"
   ]
  },
  {
   "cell_type": "code",
   "execution_count": 5,
   "metadata": {
    "id": "-ElvNLprBu1D"
   },
   "outputs": [
    {
     "ename": "ERROR",
     "evalue": "Error in Save(file = \"output_bin\", a): could not find function \"Save\"\n",
     "output_type": "error",
     "traceback": [
      "Error in Save(file = \"output_bin\", a): could not find function \"Save\"\nTraceback:\n"
     ]
    }
   ],
   "source": [
    "write(file='output', a)     # write an ASCII file into the working directory\n",
    "save(file='output_bin', a)  # write a binary file\n",
    "Save(file='output_bin', a)  # error because 'Save' is not a known function.\n",
    "                            # R syntax is case sensitive."
   ]
  },
  {
   "cell_type": "code",
   "execution_count": 6,
   "metadata": {
    "id": "P_QsFqwcBu1E"
   },
   "outputs": [
    {
     "data": {
      "text/html": [
       "227"
      ],
      "text/latex": [
       "227"
      ],
      "text/markdown": [
       "227"
      ],
      "text/plain": [
       "[1] 227"
      ]
     },
     "metadata": {},
     "output_type": "display_data"
    },
    {
     "name": "stdout",
     "output_type": "stream",
     "text": [
      "Sum of  4  elements in the vector a =  227 \n"
     ]
    },
    {
     "data": {
      "text/plain": [
       "   Min. 1st Qu.  Median    Mean 3rd Qu.    Max. \n",
       "  33.00   41.25   51.00   56.75   66.50   92.00 "
      ]
     },
     "metadata": {},
     "output_type": "display_data"
    }
   ],
   "source": [
    "sum(a)\n",
    "\n",
    "# Annotated write to console. The \\n symbol is a carriage return.\n",
    "cat('Sum of ', length(a), ' elements in the vector a = ', sum(a), '\\n')\n",
    "summary(a)                  # many R objects have a built-in 'summary' function"
   ]
  },
  {
   "cell_type": "code",
   "execution_count": 7,
   "metadata": {
    "id": "HjYr11B9Bu1E"
   },
   "outputs": [
    {
     "data": {
      "text/html": [
       "<style>\n",
       ".list-inline {list-style: none; margin:0; padding: 0}\n",
       ".list-inline>li {display: inline-block}\n",
       ".list-inline>li:not(:last-child)::after {content: \"\\00b7\"; padding: 0 .5ex}\n",
       "</style>\n",
       "<ol class=list-inline><li>33</li><li>44</li><li>92</li><li>58</li></ol>\n"
      ],
      "text/latex": [
       "\\begin{enumerate*}\n",
       "\\item 33\n",
       "\\item 44\n",
       "\\item 92\n",
       "\\item 58\n",
       "\\end{enumerate*}\n"
      ],
      "text/markdown": [
       "1. 33\n",
       "2. 44\n",
       "3. 92\n",
       "4. 58\n",
       "\n",
       "\n"
      ],
      "text/plain": [
       "[1] 33 44 92 58"
      ]
     },
     "metadata": {},
     "output_type": "display_data"
    },
    {
     "data": {
      "text/html": [
       "92"
      ],
      "text/latex": [
       "92"
      ],
      "text/markdown": [
       "92"
      ],
      "text/plain": [
       "[1] 92"
      ]
     },
     "metadata": {},
     "output_type": "display_data"
    },
    {
     "data": {
      "text/html": [
       "<style>\n",
       ".list-inline {list-style: none; margin:0; padding: 0}\n",
       ".list-inline>li {display: inline-block}\n",
       ".list-inline>li:not(:last-child)::after {content: \"\\00b7\"; padding: 0 .5ex}\n",
       "</style>\n",
       "<ol class=list-inline><li>FALSE</li><li>TRUE</li><li>TRUE</li><li>TRUE</li></ol>\n"
      ],
      "text/latex": [
       "\\begin{enumerate*}\n",
       "\\item FALSE\n",
       "\\item TRUE\n",
       "\\item TRUE\n",
       "\\item TRUE\n",
       "\\end{enumerate*}\n"
      ],
      "text/markdown": [
       "1. FALSE\n",
       "2. TRUE\n",
       "3. TRUE\n",
       "4. TRUE\n",
       "\n",
       "\n"
      ],
      "text/plain": [
       "[1] FALSE  TRUE  TRUE  TRUE"
      ]
     },
     "metadata": {},
     "output_type": "display_data"
    },
    {
     "data": {
      "text/html": [
       "194"
      ],
      "text/latex": [
       "194"
      ],
      "text/markdown": [
       "194"
      ],
      "text/plain": [
       "[1] 194"
      ]
     },
     "metadata": {},
     "output_type": "display_data"
    },
    {
     "data": {
      "text/html": [
       "3"
      ],
      "text/latex": [
       "3"
      ],
      "text/markdown": [
       "3"
      ],
      "text/plain": [
       "[1] 3"
      ]
     },
     "metadata": {},
     "output_type": "display_data"
    },
    {
     "data": {
      "text/html": [
       "2"
      ],
      "text/latex": [
       "2"
      ],
      "text/markdown": [
       "2"
      ],
      "text/plain": [
       "[1] 2"
      ]
     },
     "metadata": {},
     "output_type": "display_data"
    }
   ],
   "source": [
    "# Manipulation of vector indices\n",
    "\n",
    "a[1:4]          # show all four elements of the vector\n",
    "a[3]            # note that R vectors start with index 1 not 0, unlike Python\n",
    "a > 40          # logical operation\n",
    "sum(a[a>40])    # note the self-referential use of vector/array indices here\n",
    "which.max(a)    # R has many built-in functions for vectors and arrays\n",
    "match(44, a)    # find the index of the element equal to 44"
   ]
  },
  {
   "cell_type": "markdown",
   "metadata": {
    "id": "E1HVblZ-Bu1F"
   },
   "source": [
    "### R classes\n",
    "\n",
    "R objects are placed into **classes**: numeric, character, logical, vector, matrix, factor, data.frame, list, and dozens of others designed by advanced R functions and CRAN packages. *plot, print, summary* functions are adapted to class objects; see e.g. methods(summary).  \n",
    "\n",
    "Two particularly important classes are the 'data frame' used for tabular data and the 'list' used as a bucket with heterogeneous content.  The data frame is a 2-dimensional array with associated column names. The list class allows a hierarchical structure of R objects such as scalars, vectors, arrays, and attributes.  Here we make a hierarchical list, use 'str' (structure) to show its contents, and access an element of the list using the $ delimiter. "
   ]
  },
  {
   "cell_type": "code",
   "execution_count": 8,
   "metadata": {
    "id": "MVbc0JZzBu1F"
   },
   "outputs": [
    {
     "data": {
      "text/html": [
       "<table class=\"dataframe\">\n",
       "<caption>A data.frame: 4 × 3</caption>\n",
       "<thead>\n",
       "\t<tr><th scope=col>ID</th><th scope=col>a</th><th scope=col>a_cubed</th></tr>\n",
       "\t<tr><th scope=col>&lt;dbl&gt;</th><th scope=col>&lt;dbl&gt;</th><th scope=col>&lt;dbl&gt;</th></tr>\n",
       "</thead>\n",
       "<tbody>\n",
       "\t<tr><td>1</td><td>33</td><td> 35937</td></tr>\n",
       "\t<tr><td>2</td><td>44</td><td> 85184</td></tr>\n",
       "\t<tr><td>3</td><td>92</td><td>778688</td></tr>\n",
       "\t<tr><td>4</td><td>58</td><td>195112</td></tr>\n",
       "</tbody>\n",
       "</table>\n"
      ],
      "text/latex": [
       "A data.frame: 4 × 3\n",
       "\\begin{tabular}{lll}\n",
       " ID & a & a\\_cubed\\\\\n",
       " <dbl> & <dbl> & <dbl>\\\\\n",
       "\\hline\n",
       "\t 1 & 33 &  35937\\\\\n",
       "\t 2 & 44 &  85184\\\\\n",
       "\t 3 & 92 & 778688\\\\\n",
       "\t 4 & 58 & 195112\\\\\n",
       "\\end{tabular}\n"
      ],
      "text/markdown": [
       "\n",
       "A data.frame: 4 × 3\n",
       "\n",
       "| ID &lt;dbl&gt; | a &lt;dbl&gt; | a_cubed &lt;dbl&gt; |\n",
       "|---|---|---|\n",
       "| 1 | 33 |  35937 |\n",
       "| 2 | 44 |  85184 |\n",
       "| 3 | 92 | 778688 |\n",
       "| 4 | 58 | 195112 |\n",
       "\n"
      ],
      "text/plain": [
       "  ID a  a_cubed\n",
       "1 1  33  35937 \n",
       "2 2  44  85184 \n",
       "3 3  92 778688 \n",
       "4 4  58 195112 "
      ]
     },
     "metadata": {},
     "output_type": "display_data"
    },
    {
     "data": {
      "text/html": [
       "<table class=\"dataframe\">\n",
       "<caption>A data.frame: 3 × 2</caption>\n",
       "<thead>\n",
       "\t<tr><th></th><th scope=col>a</th><th scope=col>a_cubed</th></tr>\n",
       "\t<tr><th></th><th scope=col>&lt;dbl&gt;</th><th scope=col>&lt;dbl&gt;</th></tr>\n",
       "</thead>\n",
       "<tbody>\n",
       "\t<tr><th scope=row>1</th><td>33</td><td> 35937</td></tr>\n",
       "\t<tr><th scope=row>2</th><td>44</td><td> 85184</td></tr>\n",
       "\t<tr><th scope=row>3</th><td>92</td><td>778688</td></tr>\n",
       "</tbody>\n",
       "</table>\n"
      ],
      "text/latex": [
       "A data.frame: 3 × 2\n",
       "\\begin{tabular}{r|ll}\n",
       "  & a & a\\_cubed\\\\\n",
       "  & <dbl> & <dbl>\\\\\n",
       "\\hline\n",
       "\t1 & 33 &  35937\\\\\n",
       "\t2 & 44 &  85184\\\\\n",
       "\t3 & 92 & 778688\\\\\n",
       "\\end{tabular}\n"
      ],
      "text/markdown": [
       "\n",
       "A data.frame: 3 × 2\n",
       "\n",
       "| <!--/--> | a &lt;dbl&gt; | a_cubed &lt;dbl&gt; |\n",
       "|---|---|---|\n",
       "| 1 | 33 |  35937 |\n",
       "| 2 | 44 |  85184 |\n",
       "| 3 | 92 | 778688 |\n",
       "\n"
      ],
      "text/plain": [
       "  a  a_cubed\n",
       "1 33  35937 \n",
       "2 44  85184 \n",
       "3 92 778688 "
      ]
     },
     "metadata": {},
     "output_type": "display_data"
    }
   ],
   "source": [
    "# III.  R classes and packages\n",
    "\n",
    "# Make and write a data.frame, a 2D array with column names\n",
    "\n",
    "d <- data.frame(cbind(seq(1:4), a, a^3))  # Bind columns into data frame\n",
    "names(d) <- c('ID', 'a', 'a_cubed') # Column names for data frame                                         \n",
    "d2 <- d[-4,-1]                            # Remove 4th row and 1st column\n",
    "d ; d2\n",
    "write.table(d, file='d.txt', quote=FALSE, row.names=FALSE)"
   ]
  },
  {
   "cell_type": "code",
   "execution_count": 11,
   "metadata": {
    "id": "ztTRx65CBu1G"
   },
   "outputs": [
    {
     "name": "stdout",
     "output_type": "stream",
     "text": [
      "List of 3\n",
      " $ star       : chr [1:2] \"Sirius\" \"Procyon\"\n",
      " $ SpTy       : chr [1:3] \"O\" \"B\" \"A\"\n",
      " $ Hubble_km.s: num 68\n",
      "List of 3\n",
      " $ star       : chr [1:2] \"Sirius\" \"Procyon\"\n",
      " $ SpTy       :List of 1\n",
      "  ..$ subtype: num [1:10] 0.1 0.2 0.3 0.4 0.5 0.6 0.7 0.8 0.9 1\n",
      " $ Hubble_km.s: num 68\n"
     ]
    },
    {
     "data": {
      "text/html": [
       "<style>\n",
       ".list-inline {list-style: none; margin:0; padding: 0}\n",
       ".list-inline>li {display: inline-block}\n",
       ".list-inline>li:not(:last-child)::after {content: \"\\00b7\"; padding: 0 .5ex}\n",
       "</style>\n",
       "<ol class=list-inline><li>0.1</li><li>0.2</li><li>0.3</li></ol>\n"
      ],
      "text/latex": [
       "\\begin{enumerate*}\n",
       "\\item 0.1\n",
       "\\item 0.2\n",
       "\\item 0.3\n",
       "\\end{enumerate*}\n"
      ],
      "text/markdown": [
       "1. 0.1\n",
       "2. 0.2\n",
       "3. 0.3\n",
       "\n",
       "\n"
      ],
      "text/plain": [
       "[1] 0.1 0.2 0.3"
      ]
     },
     "metadata": {},
     "output_type": "display_data"
    }
   ],
   "source": [
    "# Make and show a list.\n",
    "\n",
    "b_list <- list(star=c('Sirius', 'Procyon'), SpTy=c('O','B','A'), Hubble_km.s=68)\n",
    "str(b_list)\n",
    "b_list[['SpTy']] = list(subtype=seq(0.1:0.9, by=0.1))\n",
    "str(b_list)\n",
    "\n",
    "# Access named elements of a list with the dollar sign ($)\n",
    "b_list$SpTy$subtype[1:3]"
   ]
  },
  {
   "cell_type": "markdown",
   "metadata": {
    "id": "l3gzeeavBu1G"
   },
   "source": [
    "### R packages\n",
    "\n",
    "The ~20,000 CRAN packages are obtained on-the-fly when they are needed. Several dozen packages are already in the base-R release, and can be used with the *library* or *require* command.  Most packages are on mirror sites hosted by institutions around the world, but are most easily downloaded from the commercial cloud at *https://cloud.r-project.org*. \n",
    "\n",
    "There is no useful index of the CRAN packages and their many functions. The collection expanded exponentially during the 2000s and is now growing by sevearal packages every day.  Expert volunteers in ~40 statistical areas update lists of CRAN packages in their area; these are accesses on the Web at [CRAN Task Views](https://cran.r-project.org/web/views/). Task Views of particular interest to astronomers include _Bayesian_, _Cluster_, _HighPerformanceComputing_, _MachineLearning_, _Multivariate_, _Optimization_, _Robust_, _Spatial_, _Survival_, and _TimeSeries_. \n",
    "\n",
    "Astronomy-specific packages (e.g. stellar evolutionary tracks, celestial mechanics) are listed in the _ChemPhys_ CRAN Task View. The package _FITSio_ reads astronomical FITS formatted files and headers, converting them into an R list. The package _astrolibR_ is a collection of long-established functionalities useful in astronomical research, translated from the _IDL Astronomy Library_."
   ]
  },
  {
   "cell_type": "code",
   "execution_count": 12,
   "metadata": {
    "id": "CfyTfVFjBu1H"
   },
   "outputs": [
    {
     "name": "stderr",
     "output_type": "stream",
     "text": [
      "Updating HTML index of packages in '.Library'\n",
      "\n",
      "Making 'packages.html' ...\n",
      " done\n",
      "\n"
     ]
    }
   ],
   "source": [
    "# Download and use a CRAN package\n",
    "install.packages('xtable') # Download CRAN package\n",
    "library(xtable)                         # Bring LaTeX package into this R session\n",
    "print(xtable(d), file='d.tex')          # Use a function in the package\n",
    "                                        # Here we write an ASCII table with LaTeX format"
   ]
  },
  {
   "cell_type": "markdown",
   "metadata": {
    "id": "y3wODSx7Bu1H"
   },
   "source": [
    "### R help files\n",
    "\n",
    "R help files give essential information on all functions in a standard format:  \n",
    "1. The top lines give the package where the function resides and a brief description.  \n",
    "2. _Usage_ gives the list of inputs for the function.  Input parameters with an _=_ have a default and do not need to be specified by the user.  \n",
    "3. _Arguments_ describes these input parameters.  \n",
    "4. _Details_ summarizes the functionality including formulae and algorithms. \n",
    "5. _Value_ gives the output of the function.  Typically the program specifies _outfn <- fn(x,y,z, option='special')_ so the full list of output values are available for use, such as _plot(outfn$x, outfn$y)_. \n",
    "6. _References_ to published literature where the function is described.\n",
    "7. _See also_ links to R functions with related purpose to the current function.\n",
    "8. _Examples_ show usage of the function, often with a built-in dataset.  Examples in R help files can always be cut-and-pasted into any R console.\n",
    "9. Use the arrow keys to scroll. Press the space bar to page down. Type 'q' to exit.\n",
    "\n",
    "R programmers are constantly referring help files.  Read a few help files used below in this tutorial, such as _seq_, _mad_, and _integrate_. "
   ]
  },
  {
   "cell_type": "code",
   "execution_count": 13,
   "metadata": {
    "id": "9oz0EHpqBu1I"
   },
   "outputs": [
    {
     "data": {
      "text/html": [
       "\n",
       "<table style=\"width: 100%;\"><tr><td>seq {base}</td><td style=\"text-align: right;\">R Documentation</td></tr></table>\n",
       "\n",
       "<h2>Sequence Generation</h2>\n",
       "\n",
       "<h3>Description</h3>\n",
       "\n",
       "<p>Generate regular sequences.  <code>seq</code> is a standard generic with a\n",
       "default method.  <code>seq.int</code> is a primitive which can be\n",
       "much faster but has a few restrictions.  <code>seq_along</code> and\n",
       "<code>seq_len</code> are very fast primitives for two common cases.\n",
       "</p>\n",
       "\n",
       "\n",
       "<h3>Usage</h3>\n",
       "\n",
       "<pre><code class='language-R'>seq(...)\n",
       "\n",
       "## Default S3 method:\n",
       "seq(from = 1, to = 1, by = ((to - from)/(length.out - 1)),\n",
       "    length.out = NULL, along.with = NULL, ...)\n",
       "\n",
       "seq.int(from, to, by, length.out, along.with, ...)\n",
       "\n",
       "seq_along(along.with)\n",
       "seq_len(length.out)\n",
       "</code></pre>\n",
       "\n",
       "\n",
       "<h3>Arguments</h3>\n",
       "\n",
       "<table>\n",
       "<tr style=\"vertical-align: top;\"><td><code>...</code></td>\n",
       "<td>\n",
       "<p>arguments passed to or from methods.</p>\n",
       "</td></tr>\n",
       "<tr style=\"vertical-align: top;\"><td><code>from, to</code></td>\n",
       "<td>\n",
       "<p>the starting and (maximal) end values of the\n",
       "sequence.  Of length <code>1</code> unless just <code>from</code> is supplied as\n",
       "an unnamed argument.</p>\n",
       "</td></tr>\n",
       "<tr style=\"vertical-align: top;\"><td><code>by</code></td>\n",
       "<td>\n",
       "<p>number: increment of the sequence.</p>\n",
       "</td></tr>\n",
       "<tr style=\"vertical-align: top;\"><td><code>length.out</code></td>\n",
       "<td>\n",
       "<p>desired length of the sequence.  A\n",
       "non-negative number, which for <code>seq</code> and <code>seq.int</code> will be\n",
       "rounded up if fractional.</p>\n",
       "</td></tr>\n",
       "<tr style=\"vertical-align: top;\"><td><code>along.with</code></td>\n",
       "<td>\n",
       "<p>take the length from the length of this argument.</p>\n",
       "</td></tr>\n",
       "</table>\n",
       "\n",
       "\n",
       "<h3>Details</h3>\n",
       "\n",
       "<p>Numerical inputs should all be finite (that is, not infinite,\n",
       "<code>NaN</code> or <code>NA</code>).\n",
       "</p>\n",
       "<p>The interpretation of the unnamed arguments of <code>seq</code> and\n",
       "<code>seq.int</code> is <em>not</em> standard, and it is recommended always to\n",
       "name the arguments when programming.\n",
       "</p>\n",
       "<p><code>seq</code> is  generic, and only the default method is described here.\n",
       "Note that it dispatches on the class of the <strong>first</strong> argument\n",
       "irrespective of argument names.  This can have unintended consequences\n",
       "if it is called with just one argument intending this to be taken as\n",
       "<code>along.with</code>: it is much better to use <code>seq_along</code> in that\n",
       "case.\n",
       "</p>\n",
       "<p><code>seq.int</code> is an internal generic which dispatches on\n",
       "methods for <code>\"seq\"</code> based on the class of the first supplied\n",
       "argument (before argument matching).\n",
       "</p>\n",
       "<p>Typical usages are\n",
       "</p>\n",
       "<pre>seq(from, to)\n",
       "seq(from, to, by= )\n",
       "seq(from, to, length.out= )\n",
       "seq(along.with= )\n",
       "seq(from)\n",
       "seq(length.out= )\n",
       "</pre>\n",
       "<p>The first form generates the sequence <code>from, from+/-1, ..., to</code>\n",
       "(identical to <code>from:to</code>).\n",
       "</p>\n",
       "<p>The second form generates <code>from, from+by</code>, ..., up to the\n",
       "sequence value less than or equal to <code>to</code>.  Specifying <code>to -\n",
       "  from</code> and <code>by</code> of opposite signs is an error.  Note that the\n",
       "computed final value can go just beyond <code>to</code> to allow for\n",
       "rounding error, but is truncated to <code>to</code>.  (&lsquo;Just beyond&rsquo;\n",
       "is by up to <code class=\"reqn\">10^{-10}</code> times <code>abs(from - to)</code>.)\n",
       "</p>\n",
       "<p>The third generates a sequence of <code>length.out</code> equally spaced\n",
       "values from <code>from</code> to <code>to</code>.  (<code>length.out</code> is usually\n",
       "abbreviated to <code>length</code> or <code>len</code>, and <code>seq_len</code> is much\n",
       "faster.)\n",
       "</p>\n",
       "<p>The fourth form generates the integer sequence <code>1, 2, ...,\n",
       "    length(along.with)</code>.  (<code>along.with</code> is usually abbreviated to\n",
       "<code>along</code>, and <code>seq_along</code> is much faster.)\n",
       "</p>\n",
       "<p>The fifth form generates the sequence <code>1, 2, ..., length(from)</code>\n",
       "(as if argument <code>along.with</code> had been specified), <em>unless</em>\n",
       "the argument is numeric of length 1 when it is interpreted as\n",
       "<code>1:from</code> (even for <code>seq(0)</code> for compatibility with S).\n",
       "Using either <code>seq_along</code> or <code>seq_len</code> is much preferred\n",
       "(unless strict S compatibility is essential).\n",
       "</p>\n",
       "<p>The final form generates the integer sequence <code>1, 2, ...,\n",
       "  length.out</code> unless <code>length.out = 0</code>, when it generates\n",
       "<code>integer(0)</code>.\n",
       "</p>\n",
       "<p>Very small sequences (with <code>from - to</code> of the order of <code class=\"reqn\">10^{-14}</code>\n",
       "times the larger of the ends) will return <code>from</code>.\n",
       "</p>\n",
       "<p>For <code>seq</code> (only), up to two of <code>from</code>, <code>to</code> and\n",
       "<code>by</code> can be supplied as complex values provided <code>length.out</code>\n",
       "or <code>along.with</code> is specified.  More generally, the default method\n",
       "of <code>seq</code> will handle classed objects with methods for\n",
       "the <code>Math</code>, <code>Ops</code> and <code>Summary</code> group generics.\n",
       "</p>\n",
       "<p><code>seq.int</code>, <code>seq_along</code> and <code>seq_len</code> are\n",
       "primitive.\n",
       "</p>\n",
       "\n",
       "\n",
       "<h3>Value</h3>\n",
       "\n",
       "<p><code>seq.int</code> and the default method of <code>seq</code> for numeric\n",
       "arguments return a vector of type <code>\"integer\"</code> or <code>\"double\"</code>:\n",
       "programmers should not rely on which.\n",
       "</p>\n",
       "<p><code>seq_along</code> and <code>seq_len</code> return an integer vector, unless\n",
       "it is a <em>long vector</em> when it will be double.\n",
       "</p>\n",
       "\n",
       "\n",
       "<h3>References</h3>\n",
       "\n",
       "<p>Becker, R. A., Chambers, J. M. and Wilks, A. R. (1988)\n",
       "<em>The New S Language</em>.\n",
       "Wadsworth &amp; Brooks/Cole.\n",
       "</p>\n",
       "\n",
       "\n",
       "<h3>See Also</h3>\n",
       "\n",
       "<p>The methods <code>seq.Date</code> and <code>seq.POSIXt</code>.\n",
       "</p>\n",
       "<p><code>:</code>,\n",
       "<code>rep</code>,\n",
       "<code>sequence</code>,\n",
       "<code>row</code>,\n",
       "<code>col</code>.\n",
       "</p>\n",
       "\n",
       "\n",
       "<h3>Examples</h3>\n",
       "\n",
       "<pre><code class='language-R'>seq(0, 1, length.out = 11)\n",
       "seq(stats::rnorm(20)) # effectively 'along'\n",
       "seq(1, 9, by = 2)     # matches 'end'\n",
       "seq(1, 9, by = pi)    # stays below 'end'\n",
       "seq(1, 6, by = 3)\n",
       "seq(1.575, 5.125, by = 0.05)\n",
       "seq(17) # same as 1:17, or even better seq_len(17)\n",
       "</code></pre>\n",
       "\n",
       "<hr /><div style=\"text-align: center;\">[Package <em>base</em> version 4.2.3 ]</div>\n",
       "</div>"
      ],
      "text/latex": [
       "\\inputencoding{utf8}\n",
       "\\HeaderA{seq}{Sequence Generation}{seq}\n",
       "\\aliasA{seq\\_along}{seq}{seq.Rul.along}\n",
       "\\aliasA{seq\\_len}{seq}{seq.Rul.len}\n",
       "\\aliasA{seq.default}{seq}{seq.default}\n",
       "\\aliasA{seq.int}{seq}{seq.int}\n",
       "\\keyword{manip}{seq}\n",
       "%\n",
       "\\begin{Description}\\relax\n",
       "Generate regular sequences.  \\code{seq} is a standard generic with a\n",
       "default method.  \\code{seq.int} is a primitive which can be\n",
       "much faster but has a few restrictions.  \\code{seq\\_along} and\n",
       "\\code{seq\\_len} are very fast primitives for two common cases.\n",
       "\\end{Description}\n",
       "%\n",
       "\\begin{Usage}\n",
       "\\begin{verbatim}\n",
       "seq(...)\n",
       "\n",
       "## Default S3 method:\n",
       "seq(from = 1, to = 1, by = ((to - from)/(length.out - 1)),\n",
       "    length.out = NULL, along.with = NULL, ...)\n",
       "\n",
       "seq.int(from, to, by, length.out, along.with, ...)\n",
       "\n",
       "seq_along(along.with)\n",
       "seq_len(length.out)\n",
       "\\end{verbatim}\n",
       "\\end{Usage}\n",
       "%\n",
       "\\begin{Arguments}\n",
       "\\begin{ldescription}\n",
       "\\item[\\code{...}] arguments passed to or from methods.\n",
       "\\item[\\code{from, to}] the starting and (maximal) end values of the\n",
       "sequence.  Of length \\code{1} unless just \\code{from} is supplied as\n",
       "an unnamed argument.\n",
       "\\item[\\code{by}] number: increment of the sequence.\n",
       "\\item[\\code{length.out}] desired length of the sequence.  A\n",
       "non-negative number, which for \\code{seq} and \\code{seq.int} will be\n",
       "rounded up if fractional.\n",
       "\\item[\\code{along.with}] take the length from the length of this argument.\n",
       "\\end{ldescription}\n",
       "\\end{Arguments}\n",
       "%\n",
       "\\begin{Details}\\relax\n",
       "Numerical inputs should all be \\LinkA{finite}{finite} (that is, not infinite,\n",
       "\\code{\\LinkA{NaN}{NaN}} or \\code{NA}).\n",
       "\n",
       "The interpretation of the unnamed arguments of \\code{seq} and\n",
       "\\code{seq.int} is \\emph{not} standard, and it is recommended always to\n",
       "name the arguments when programming.\n",
       "\n",
       "\\code{seq} is  generic, and only the default method is described here.\n",
       "Note that it dispatches on the class of the \\strong{first} argument\n",
       "irrespective of argument names.  This can have unintended consequences\n",
       "if it is called with just one argument intending this to be taken as\n",
       "\\code{along.with}: it is much better to use \\code{seq\\_along} in that\n",
       "case.\n",
       "\n",
       "\\code{seq.int} is an \\LinkA{internal generic}{internal generic} which dispatches on\n",
       "methods for \\code{\"seq\"} based on the class of the first supplied\n",
       "argument (before argument matching).\n",
       "\n",
       "Typical usages are\n",
       "\\begin{alltt}seq(from, to)\n",
       "seq(from, to, by= )\n",
       "seq(from, to, length.out= )\n",
       "seq(along.with= )\n",
       "seq(from)\n",
       "seq(length.out= )\n",
       "\\end{alltt}\n",
       "\n",
       "The first form generates the sequence \\code{from, from+/-1, ..., to}\n",
       "(identical to \\code{from:to}).\n",
       "\n",
       "The second form generates \\code{from, from+by}, \\ldots, up to the\n",
       "sequence value less than or equal to \\code{to}.  Specifying \\code{to -\n",
       "  from} and \\code{by} of opposite signs is an error.  Note that the\n",
       "computed final value can go just beyond \\code{to} to allow for\n",
       "rounding error, but is truncated to \\code{to}.  (`Just beyond'\n",
       "is by up to \\eqn{10^{-10}}{} times \\code{abs(from - to)}.)\n",
       "\n",
       "The third generates a sequence of \\code{length.out} equally spaced\n",
       "values from \\code{from} to \\code{to}.  (\\code{length.out} is usually\n",
       "abbreviated to \\code{length} or \\code{len}, and \\code{seq\\_len} is much\n",
       "faster.)\n",
       "\n",
       "The fourth form generates the integer sequence \\code{1, 2, ...,\n",
       "    length(along.with)}.  (\\code{along.with} is usually abbreviated to\n",
       "\\code{along}, and \\code{seq\\_along} is much faster.)\n",
       "\n",
       "The fifth form generates the sequence \\code{1, 2, ..., length(from)}\n",
       "(as if argument \\code{along.with} had been specified), \\emph{unless}\n",
       "the argument is numeric of length 1 when it is interpreted as\n",
       "\\code{1:from} (even for \\code{seq(0)} for compatibility with S).\n",
       "Using either \\code{seq\\_along} or \\code{seq\\_len} is much preferred\n",
       "(unless strict S compatibility is essential).\n",
       "\n",
       "The final form generates the integer sequence \\code{1, 2, ...,\n",
       "  length.out} unless \\code{length.out = 0}, when it generates\n",
       "\\code{integer(0)}.\n",
       "\n",
       "Very small sequences (with \\code{from - to} of the order of \\eqn{10^{-14}}{}\n",
       "times the larger of the ends) will return \\code{from}.\n",
       "\n",
       "For \\code{seq} (only), up to two of \\code{from}, \\code{to} and\n",
       "\\code{by} can be supplied as complex values provided \\code{length.out}\n",
       "or \\code{along.with} is specified.  More generally, the default method\n",
       "of \\code{seq} will handle classed objects with methods for\n",
       "the \\code{Math}, \\code{Ops} and \\code{Summary} group generics.\n",
       "\n",
       "\\code{seq.int}, \\code{seq\\_along} and \\code{seq\\_len} are\n",
       "\\LinkA{primitive}{primitive}.\n",
       "\\end{Details}\n",
       "%\n",
       "\\begin{Value}\n",
       "\\code{seq.int} and the default method of \\code{seq} for numeric\n",
       "arguments return a vector of type \\code{\"integer\"} or \\code{\"double\"}:\n",
       "programmers should not rely on which.\n",
       "\n",
       "\\code{seq\\_along} and \\code{seq\\_len} return an integer vector, unless\n",
       "it is a \\emph{\\LinkA{long vector}{long vector}} when it will be double.\n",
       "\\end{Value}\n",
       "%\n",
       "\\begin{References}\\relax\n",
       "Becker, R. A., Chambers, J. M. and Wilks, A. R. (1988)\n",
       "\\emph{The New S Language}.\n",
       "Wadsworth \\& Brooks/Cole.\n",
       "\\end{References}\n",
       "%\n",
       "\\begin{SeeAlso}\\relax\n",
       "The methods \\code{\\LinkA{seq.Date}{seq.Date}} and \\code{\\LinkA{seq.POSIXt}{seq.POSIXt}}.\n",
       "\n",
       "\\code{\\LinkA{:}{:}},\n",
       "\\code{\\LinkA{rep}{rep}},\n",
       "\\code{\\LinkA{sequence}{sequence}},\n",
       "\\code{\\LinkA{row}{row}},\n",
       "\\code{\\LinkA{col}{col}}.\n",
       "\\end{SeeAlso}\n",
       "%\n",
       "\\begin{Examples}\n",
       "\\begin{ExampleCode}\n",
       "seq(0, 1, length.out = 11)\n",
       "seq(stats::rnorm(20)) # effectively 'along'\n",
       "seq(1, 9, by = 2)     # matches 'end'\n",
       "seq(1, 9, by = pi)    # stays below 'end'\n",
       "seq(1, 6, by = 3)\n",
       "seq(1.575, 5.125, by = 0.05)\n",
       "seq(17) # same as 1:17, or even better seq_len(17)\n",
       "\\end{ExampleCode}\n",
       "\\end{Examples}"
      ],
      "text/plain": [
       "seq                    package:base                    R Documentation\n",
       "\n",
       "_\bS_\be_\bq_\bu_\be_\bn_\bc_\be _\bG_\be_\bn_\be_\br_\ba_\bt_\bi_\bo_\bn\n",
       "\n",
       "_\bD_\be_\bs_\bc_\br_\bi_\bp_\bt_\bi_\bo_\bn:\n",
       "\n",
       "     Generate regular sequences.  ‘seq’ is a standard generic with a\n",
       "     default method.  ‘seq.int’ is a primitive which can be much faster\n",
       "     but has a few restrictions.  ‘seq_along’ and ‘seq_len’ are very\n",
       "     fast primitives for two common cases.\n",
       "\n",
       "_\bU_\bs_\ba_\bg_\be:\n",
       "\n",
       "     seq(...)\n",
       "     \n",
       "     ## Default S3 method:\n",
       "     seq(from = 1, to = 1, by = ((to - from)/(length.out - 1)),\n",
       "         length.out = NULL, along.with = NULL, ...)\n",
       "     \n",
       "     seq.int(from, to, by, length.out, along.with, ...)\n",
       "     \n",
       "     seq_along(along.with)\n",
       "     seq_len(length.out)\n",
       "     \n",
       "_\bA_\br_\bg_\bu_\bm_\be_\bn_\bt_\bs:\n",
       "\n",
       "     ...: arguments passed to or from methods.\n",
       "\n",
       "from, to: the starting and (maximal) end values of the sequence.  Of\n",
       "          length ‘1’ unless just ‘from’ is supplied as an unnamed\n",
       "          argument.\n",
       "\n",
       "      by: number: increment of the sequence.\n",
       "\n",
       "length.out: desired length of the sequence.  A non-negative number,\n",
       "          which for ‘seq’ and ‘seq.int’ will be rounded up if\n",
       "          fractional.\n",
       "\n",
       "along.with: take the length from the length of this argument.\n",
       "\n",
       "_\bD_\be_\bt_\ba_\bi_\bl_\bs:\n",
       "\n",
       "     Numerical inputs should all be finite (that is, not infinite,\n",
       "     ‘NaN’ or ‘NA’).\n",
       "\n",
       "     The interpretation of the unnamed arguments of ‘seq’ and ‘seq.int’\n",
       "     is _not_ standard, and it is recommended always to name the\n",
       "     arguments when programming.\n",
       "\n",
       "     ‘seq’ is generic, and only the default method is described here.\n",
       "     Note that it dispatches on the class of the *first* argument\n",
       "     irrespective of argument names.  This can have unintended\n",
       "     consequences if it is called with just one argument intending this\n",
       "     to be taken as ‘along.with’: it is much better to use ‘seq_along’\n",
       "     in that case.\n",
       "\n",
       "     ‘seq.int’ is an internal generic which dispatches on methods for\n",
       "     ‘\"seq\"’ based on the class of the first supplied argument (before\n",
       "     argument matching).\n",
       "\n",
       "     Typical usages are\n",
       "\n",
       "     seq(from, to)\n",
       "     seq(from, to, by= )\n",
       "     seq(from, to, length.out= )\n",
       "     seq(along.with= )\n",
       "     seq(from)\n",
       "     seq(length.out= )\n",
       "     \n",
       "     The first form generates the sequence ‘from, from+/-1, ..., to’\n",
       "     (identical to ‘from:to’).\n",
       "\n",
       "     The second form generates ‘from, from+by’, ..., up to the sequence\n",
       "     value less than or equal to ‘to’.  Specifying ‘to - from’ and ‘by’\n",
       "     of opposite signs is an error.  Note that the computed final value\n",
       "     can go just beyond ‘to’ to allow for rounding error, but is\n",
       "     truncated to ‘to’.  (‘Just beyond’ is by up to 1e-10 times\n",
       "     ‘abs(from - to)’.)\n",
       "\n",
       "     The third generates a sequence of ‘length.out’ equally spaced\n",
       "     values from ‘from’ to ‘to’.  (‘length.out’ is usually abbreviated\n",
       "     to ‘length’ or ‘len’, and ‘seq_len’ is much faster.)\n",
       "\n",
       "     The fourth form generates the integer sequence ‘1, 2, ...,\n",
       "     length(along.with)’.  (‘along.with’ is usually abbreviated to\n",
       "     ‘along’, and ‘seq_along’ is much faster.)\n",
       "\n",
       "     The fifth form generates the sequence ‘1, 2, ..., length(from)’\n",
       "     (as if argument ‘along.with’ had been specified), _unless_ the\n",
       "     argument is numeric of length 1 when it is interpreted as ‘1:from’\n",
       "     (even for ‘seq(0)’ for compatibility with S).  Using either\n",
       "     ‘seq_along’ or ‘seq_len’ is much preferred (unless strict S\n",
       "     compatibility is essential).\n",
       "\n",
       "     The final form generates the integer sequence ‘1, 2, ...,\n",
       "     length.out’ unless ‘length.out = 0’, when it generates\n",
       "     ‘integer(0)’.\n",
       "\n",
       "     Very small sequences (with ‘from - to’ of the order of 10^{-14}\n",
       "     times the larger of the ends) will return ‘from’.\n",
       "\n",
       "     For ‘seq’ (only), up to two of ‘from’, ‘to’ and ‘by’ can be\n",
       "     supplied as complex values provided ‘length.out’ or ‘along.with’\n",
       "     is specified.  More generally, the default method of ‘seq’ will\n",
       "     handle classed objects with methods for the ‘Math’, ‘Ops’ and\n",
       "     ‘Summary’ group generics.\n",
       "\n",
       "     ‘seq.int’, ‘seq_along’ and ‘seq_len’ are primitive.\n",
       "\n",
       "_\bV_\ba_\bl_\bu_\be:\n",
       "\n",
       "     ‘seq.int’ and the default method of ‘seq’ for numeric arguments\n",
       "     return a vector of type ‘\"integer\"’ or ‘\"double\"’: programmers\n",
       "     should not rely on which.\n",
       "\n",
       "     ‘seq_along’ and ‘seq_len’ return an integer vector, unless it is a\n",
       "     _long vector_ when it will be double.\n",
       "\n",
       "_\bR_\be_\bf_\be_\br_\be_\bn_\bc_\be_\bs:\n",
       "\n",
       "     Becker, R. A., Chambers, J. M. and Wilks, A. R. (1988) _The New S\n",
       "     Language_.  Wadsworth & Brooks/Cole.\n",
       "\n",
       "_\bS_\be_\be _\bA_\bl_\bs_\bo:\n",
       "\n",
       "     The methods ‘seq.Date’ and ‘seq.POSIXt’.\n",
       "\n",
       "     ‘:’, ‘rep’, ‘sequence’, ‘row’, ‘col’.\n",
       "\n",
       "_\bE_\bx_\ba_\bm_\bp_\bl_\be_\bs:\n",
       "\n",
       "     seq(0, 1, length.out = 11)\n",
       "     seq(stats::rnorm(20)) # effectively 'along'\n",
       "     seq(1, 9, by = 2)     # matches 'end'\n",
       "     seq(1, 9, by = pi)    # stays below 'end'\n",
       "     seq(1, 6, by = 3)\n",
       "     seq(1.575, 5.125, by = 0.05)\n",
       "     seq(17) # same as 1:17, or even better seq_len(17)\n",
       "     "
      ]
     },
     "metadata": {},
     "output_type": "display_data"
    }
   ],
   "source": [
    "help(seq)"
   ]
  },
  {
   "cell_type": "code",
   "execution_count": 14,
   "metadata": {
    "id": "Xsoo2wwXBu1I"
   },
   "outputs": [
    {
     "data": {
      "text/html": [
       "\n",
       "<table style=\"width: 100%;\"><tr><td>mad {stats}</td><td style=\"text-align: right;\">R Documentation</td></tr></table>\n",
       "\n",
       "<h2>Median Absolute Deviation</h2>\n",
       "\n",
       "<h3>Description</h3>\n",
       "\n",
       "<p>Compute the median absolute deviation, i.e., the (lo-/hi-) median of\n",
       "the absolute deviations from the median, and (by default) adjust by a\n",
       "factor for asymptotically normal consistency.\n",
       "</p>\n",
       "\n",
       "\n",
       "<h3>Usage</h3>\n",
       "\n",
       "<pre><code class='language-R'>mad(x, center = median(x), constant = 1.4826, na.rm = FALSE,\n",
       "    low = FALSE, high = FALSE)\n",
       "</code></pre>\n",
       "\n",
       "\n",
       "<h3>Arguments</h3>\n",
       "\n",
       "<table>\n",
       "<tr style=\"vertical-align: top;\"><td><code>x</code></td>\n",
       "<td>\n",
       "<p>a numeric vector.</p>\n",
       "</td></tr>\n",
       "<tr style=\"vertical-align: top;\"><td><code>center</code></td>\n",
       "<td>\n",
       "<p>Optionally, the centre: defaults to the median.</p>\n",
       "</td></tr>\n",
       "<tr style=\"vertical-align: top;\"><td><code>constant</code></td>\n",
       "<td>\n",
       "<p>scale factor.</p>\n",
       "</td></tr>\n",
       "<tr style=\"vertical-align: top;\"><td><code>na.rm</code></td>\n",
       "<td>\n",
       "<p>if <code>TRUE</code> then <code>NA</code> values are stripped\n",
       "from <code>x</code> before computation takes place.</p>\n",
       "</td></tr>\n",
       "<tr style=\"vertical-align: top;\"><td><code>low</code></td>\n",
       "<td>\n",
       "<p>if <code>TRUE</code>, compute the &lsquo;lo-median&rsquo;, i.e., for even\n",
       "sample size, do not average the two middle values, but take the\n",
       "smaller one.</p>\n",
       "</td></tr>\n",
       "<tr style=\"vertical-align: top;\"><td><code>high</code></td>\n",
       "<td>\n",
       "<p>if <code>TRUE</code>, compute the &lsquo;hi-median&rsquo;, i.e., take the\n",
       "larger of the two middle values for even sample size.</p>\n",
       "</td></tr>\n",
       "</table>\n",
       "\n",
       "\n",
       "<h3>Details</h3>\n",
       "\n",
       "<p>The actual value calculated is <code>constant * cMedian(abs(x - center))</code>\n",
       "with the default value of <code>center</code> being <code>median(x)</code>, and\n",
       "<code>cMedian</code> being the usual, the &lsquo;low&rsquo; or &lsquo;high&rsquo; median, see\n",
       "the arguments description for <code>low</code> and <code>high</code> above.\n",
       "</p>\n",
       "<p>In the case of <code class=\"reqn\">n = 1</code> non-missing values and default <code>center</code>, the\n",
       "result is <code>0</code>, consistent with &ldquo;no deviation from the center&rdquo;.\n",
       "</p>\n",
       "<p>The default <code>constant = 1.4826</code> (approximately\n",
       "<code class=\"reqn\">1/\\Phi^{-1}(\\frac 3 4)</code> = <code>1/qnorm(3/4)</code>)\n",
       "ensures consistency, i.e.,\n",
       "</p>\n",
       "<p style=\"text-align: center;\"><code class=\"reqn\">E[mad(X_1,\\dots,X_n)] = \\sigma</code>\n",
       "</p>\n",
       "\n",
       "<p>for <code class=\"reqn\">X_i</code> distributed as <code class=\"reqn\">N(\\mu, \\sigma^2)</code>\n",
       "and large <code class=\"reqn\">n</code>.\n",
       "</p>\n",
       "<p>If <code>na.rm</code> is <code>TRUE</code> then <code>NA</code>\n",
       "values are stripped from <code>x</code> before computation takes place.\n",
       "If this is not done then an <code>NA</code> value in\n",
       "<code>x</code> will cause <code>mad</code> to return <code>NA</code>.\n",
       "</p>\n",
       "\n",
       "\n",
       "<h3>See Also</h3>\n",
       "\n",
       "<p><code>IQR</code> which is simpler but less robust,\n",
       "<code>median</code>, <code>var</code>.\n",
       "</p>\n",
       "\n",
       "\n",
       "<h3>Examples</h3>\n",
       "\n",
       "<pre><code class='language-R'>mad(c(1:9))\n",
       "print(mad(c(1:9),     constant = 1)) ==\n",
       "      mad(c(1:8, 100), constant = 1)       # = 2 ; TRUE\n",
       "x &lt;- c(1,2,3,5,7,8)\n",
       "sort(abs(x - median(x)))\n",
       "c(mad(x, constant = 1),\n",
       "  mad(x, constant = 1, low = TRUE),\n",
       "  mad(x, constant = 1, high = TRUE))\n",
       "</code></pre>\n",
       "\n",
       "<hr /><div style=\"text-align: center;\">[Package <em>stats</em> version 4.2.3 ]</div>\n",
       "</div>"
      ],
      "text/latex": [
       "\\inputencoding{utf8}\n",
       "\\HeaderA{mad}{Median Absolute Deviation}{mad}\n",
       "\\keyword{univar}{mad}\n",
       "\\keyword{robust}{mad}\n",
       "%\n",
       "\\begin{Description}\\relax\n",
       "Compute the median absolute deviation, i.e., the (lo-/hi-) median of\n",
       "the absolute deviations from the median, and (by default) adjust by a\n",
       "factor for asymptotically normal consistency.\n",
       "\\end{Description}\n",
       "%\n",
       "\\begin{Usage}\n",
       "\\begin{verbatim}\n",
       "mad(x, center = median(x), constant = 1.4826, na.rm = FALSE,\n",
       "    low = FALSE, high = FALSE)\n",
       "\\end{verbatim}\n",
       "\\end{Usage}\n",
       "%\n",
       "\\begin{Arguments}\n",
       "\\begin{ldescription}\n",
       "\\item[\\code{x}] a numeric vector.\n",
       "\\item[\\code{center}] Optionally, the centre: defaults to the median.\n",
       "\\item[\\code{constant}] scale factor.\n",
       "\\item[\\code{na.rm}] if \\code{TRUE} then \\code{NA} values are stripped\n",
       "from \\code{x} before computation takes place.\n",
       "\\item[\\code{low}] if \\code{TRUE}, compute the `lo-median', i.e., for even\n",
       "sample size, do not average the two middle values, but take the\n",
       "smaller one.\n",
       "\\item[\\code{high}] if \\code{TRUE}, compute the `hi-median', i.e., take the\n",
       "larger of the two middle values for even sample size.\n",
       "\\end{ldescription}\n",
       "\\end{Arguments}\n",
       "%\n",
       "\\begin{Details}\\relax\n",
       "The actual value calculated is \\code{constant * cMedian(abs(x - center))}\n",
       "with the default value of \\code{center} being \\code{median(x)}, and\n",
       "\\code{cMedian} being the usual, the `low' or `high' median, see\n",
       "the arguments description for \\code{low} and \\code{high} above.\n",
       "\n",
       "In the case of \\eqn{n = 1}{} non-missing values and default \\code{center}, the\n",
       "result is \\code{0}, consistent with ``no deviation from the center''.\n",
       "\n",
       "The default \\code{constant = 1.4826} (approximately\n",
       "\\eqn{1/\\Phi^{-1}(\\frac 3 4)}{} = \\code{1/qnorm(3/4)})\n",
       "ensures consistency, i.e.,\n",
       "\\deqn{E[mad(X_1,\\dots,X_n)] = \\sigma}{}\n",
       "for \\eqn{X_i}{} distributed as \\eqn{N(\\mu, \\sigma^2)}{}\n",
       "and large \\eqn{n}{}.\n",
       "\n",
       "If \\code{na.rm} is \\code{TRUE} then \\code{NA}\n",
       "values are stripped from \\code{x} before computation takes place.\n",
       "If this is not done then an \\code{NA} value in\n",
       "\\code{x} will cause \\code{mad} to return \\code{NA}.\n",
       "\\end{Details}\n",
       "%\n",
       "\\begin{SeeAlso}\\relax\n",
       "\\code{\\LinkA{IQR}{IQR}} which is simpler but less robust,\n",
       "\\code{\\LinkA{median}{median}}, \\code{\\LinkA{var}{var}}.\n",
       "\\end{SeeAlso}\n",
       "%\n",
       "\\begin{Examples}\n",
       "\\begin{ExampleCode}\n",
       "mad(c(1:9))\n",
       "print(mad(c(1:9),     constant = 1)) ==\n",
       "      mad(c(1:8, 100), constant = 1)       # = 2 ; TRUE\n",
       "x <- c(1,2,3,5,7,8)\n",
       "sort(abs(x - median(x)))\n",
       "c(mad(x, constant = 1),\n",
       "  mad(x, constant = 1, low = TRUE),\n",
       "  mad(x, constant = 1, high = TRUE))\n",
       "\\end{ExampleCode}\n",
       "\\end{Examples}"
      ],
      "text/plain": [
       "mad                   package:stats                    R Documentation\n",
       "\n",
       "_\bM_\be_\bd_\bi_\ba_\bn _\bA_\bb_\bs_\bo_\bl_\bu_\bt_\be _\bD_\be_\bv_\bi_\ba_\bt_\bi_\bo_\bn\n",
       "\n",
       "_\bD_\be_\bs_\bc_\br_\bi_\bp_\bt_\bi_\bo_\bn:\n",
       "\n",
       "     Compute the median absolute deviation, i.e., the (lo-/hi-) median\n",
       "     of the absolute deviations from the median, and (by default)\n",
       "     adjust by a factor for asymptotically normal consistency.\n",
       "\n",
       "_\bU_\bs_\ba_\bg_\be:\n",
       "\n",
       "     mad(x, center = median(x), constant = 1.4826, na.rm = FALSE,\n",
       "         low = FALSE, high = FALSE)\n",
       "     \n",
       "_\bA_\br_\bg_\bu_\bm_\be_\bn_\bt_\bs:\n",
       "\n",
       "       x: a numeric vector.\n",
       "\n",
       "  center: Optionally, the centre: defaults to the median.\n",
       "\n",
       "constant: scale factor.\n",
       "\n",
       "   na.rm: if ‘TRUE’ then ‘NA’ values are stripped from ‘x’ before\n",
       "          computation takes place.\n",
       "\n",
       "     low: if ‘TRUE’, compute the ‘lo-median’, i.e., for even sample\n",
       "          size, do not average the two middle values, but take the\n",
       "          smaller one.\n",
       "\n",
       "    high: if ‘TRUE’, compute the ‘hi-median’, i.e., take the larger of\n",
       "          the two middle values for even sample size.\n",
       "\n",
       "_\bD_\be_\bt_\ba_\bi_\bl_\bs:\n",
       "\n",
       "     The actual value calculated is ‘constant * cMedian(abs(x -\n",
       "     center))’ with the default value of ‘center’ being ‘median(x)’,\n",
       "     and ‘cMedian’ being the usual, the ‘low’ or ‘high’ median, see the\n",
       "     arguments description for ‘low’ and ‘high’ above.\n",
       "\n",
       "     In the case of n = 1 non-missing values and default ‘center’, the\n",
       "     result is ‘0’, consistent with “no deviation from the center”.\n",
       "\n",
       "     The default ‘constant = 1.4826’ (approximately 1/ Phi^(-1)(3/4) =\n",
       "     ‘1/qnorm(3/4)’) ensures consistency, i.e.,\n",
       "\n",
       "                         E[mad(X_1,...,X_n)] = sigma                    \n",
       "     \n",
       "     for X_i distributed as N(mu, sigma^2) and large n.\n",
       "\n",
       "     If ‘na.rm’ is ‘TRUE’ then ‘NA’ values are stripped from ‘x’ before\n",
       "     computation takes place.  If this is not done then an ‘NA’ value\n",
       "     in ‘x’ will cause ‘mad’ to return ‘NA’.\n",
       "\n",
       "_\bS_\be_\be _\bA_\bl_\bs_\bo:\n",
       "\n",
       "     ‘IQR’ which is simpler but less robust, ‘median’, ‘var’.\n",
       "\n",
       "_\bE_\bx_\ba_\bm_\bp_\bl_\be_\bs:\n",
       "\n",
       "     mad(c(1:9))\n",
       "     print(mad(c(1:9),     constant = 1)) ==\n",
       "           mad(c(1:8, 100), constant = 1)       # = 2 ; TRUE\n",
       "     x <- c(1,2,3,5,7,8)\n",
       "     sort(abs(x - median(x)))\n",
       "     c(mad(x, constant = 1),\n",
       "       mad(x, constant = 1, low = TRUE),\n",
       "       mad(x, constant = 1, high = TRUE))\n",
       "     "
      ]
     },
     "metadata": {},
     "output_type": "display_data"
    }
   ],
   "source": [
    "help(mad)"
   ]
  },
  {
   "cell_type": "code",
   "execution_count": 15,
   "metadata": {
    "id": "E8FVcV7qBu1I"
   },
   "outputs": [
    {
     "data": {
      "text/html": [
       "\n",
       "<table style=\"width: 100%;\"><tr><td>integrate {stats}</td><td style=\"text-align: right;\">R Documentation</td></tr></table>\n",
       "\n",
       "<h2>Integration of One-Dimensional Functions</h2>\n",
       "\n",
       "<h3>Description</h3>\n",
       "\n",
       "<p>Adaptive quadrature of functions of one variable over a finite or\n",
       "infinite interval.\n",
       "</p>\n",
       "\n",
       "\n",
       "<h3>Usage</h3>\n",
       "\n",
       "<pre><code class='language-R'>integrate(f, lower, upper, ..., subdivisions = 100L,\n",
       "          rel.tol = .Machine$double.eps^0.25, abs.tol = rel.tol,\n",
       "          stop.on.error = TRUE, keep.xy = FALSE, aux = NULL)\n",
       "</code></pre>\n",
       "\n",
       "\n",
       "<h3>Arguments</h3>\n",
       "\n",
       "<table>\n",
       "<tr style=\"vertical-align: top;\"><td><code>f</code></td>\n",
       "<td>\n",
       "<p>an <span style=\"font-family: Courier New, Courier; color: #666666;\"><b>R</b></span> function taking a numeric first argument and returning\n",
       "a numeric vector of the same length.  Returning a non-finite element will\n",
       "generate an error.</p>\n",
       "</td></tr>\n",
       "<tr style=\"vertical-align: top;\"><td><code>lower, upper</code></td>\n",
       "<td>\n",
       "<p>the limits of integration.  Can be infinite.</p>\n",
       "</td></tr>\n",
       "<tr style=\"vertical-align: top;\"><td><code>...</code></td>\n",
       "<td>\n",
       "<p>additional arguments to be passed to <code>f</code>.</p>\n",
       "</td></tr>\n",
       "<tr style=\"vertical-align: top;\"><td><code>subdivisions</code></td>\n",
       "<td>\n",
       "<p>the maximum number of subintervals.</p>\n",
       "</td></tr>\n",
       "<tr style=\"vertical-align: top;\"><td><code>rel.tol</code></td>\n",
       "<td>\n",
       "<p>relative accuracy requested.</p>\n",
       "</td></tr>\n",
       "<tr style=\"vertical-align: top;\"><td><code>abs.tol</code></td>\n",
       "<td>\n",
       "<p>absolute accuracy requested.</p>\n",
       "</td></tr>\n",
       "<tr style=\"vertical-align: top;\"><td><code>stop.on.error</code></td>\n",
       "<td>\n",
       "<p>logical. If true (the default) an error stops the\n",
       "function.  If false some errors will give a result with a warning in\n",
       "the <code>message</code> component.</p>\n",
       "</td></tr>\n",
       "<tr style=\"vertical-align: top;\"><td><code>keep.xy</code></td>\n",
       "<td>\n",
       "<p>unused.  For compatibility with S.</p>\n",
       "</td></tr>\n",
       "<tr style=\"vertical-align: top;\"><td><code>aux</code></td>\n",
       "<td>\n",
       "<p>unused.  For compatibility with S.</p>\n",
       "</td></tr>\n",
       "</table>\n",
       "\n",
       "\n",
       "<h3>Details</h3>\n",
       "\n",
       "<p>Note that arguments after <code>...</code> must be matched exactly.\n",
       "</p>\n",
       "<p>If one or both limits are infinite, the infinite range is mapped onto\n",
       "a finite interval.\n",
       "</p>\n",
       "<p>For a finite interval, globally adaptive interval subdivision is used\n",
       "in connection with extrapolation by Wynn's Epsilon algorithm, with the\n",
       "basic step being Gauss&ndash;Kronrod quadrature.\n",
       "</p>\n",
       "<p><code>rel.tol</code> cannot be less than <code>max(50*.Machine$double.eps,\n",
       "    0.5e-28)</code> if <code>abs.tol &lt;= 0</code>.\n",
       "</p>\n",
       "<p>Note that the comments in the C source code in\n",
       "&lsquo;<span class=\"file\">&lt;R&gt;/src/appl/integrate.c</span>&rsquo; give more details, particularly about\n",
       "reasons for failure (internal error code <code>ier &gt;= 1</code>).\n",
       "</p>\n",
       "<p>In <span style=\"font-family: Courier New, Courier; color: #666666;\"><b>R</b></span> versions <code class=\"reqn\">\\le</code> 3.2.x, the first entries of\n",
       "<code>lower</code> and <code>upper</code> were used whereas an error is signalled\n",
       "now if they are not of length one.\n",
       "</p>\n",
       "\n",
       "\n",
       "<h3>Value</h3>\n",
       "\n",
       "<p>A list of class <code>\"integrate\"</code> with components\n",
       "</p>\n",
       "<table>\n",
       "<tr style=\"vertical-align: top;\"><td><code>value</code></td>\n",
       "<td>\n",
       "<p>the final estimate of the integral.</p>\n",
       "</td></tr>\n",
       "<tr style=\"vertical-align: top;\"><td><code>abs.error</code></td>\n",
       "<td>\n",
       "<p>estimate of the modulus of the absolute error.</p>\n",
       "</td></tr>\n",
       "<tr style=\"vertical-align: top;\"><td><code>subdivisions</code></td>\n",
       "<td>\n",
       "<p>the number of subintervals produced in the\n",
       "subdivision process.</p>\n",
       "</td></tr>\n",
       "<tr style=\"vertical-align: top;\"><td><code>message</code></td>\n",
       "<td>\n",
       "<p><code>\"OK\"</code> or a character string giving the error message.</p>\n",
       "</td></tr>\n",
       "<tr style=\"vertical-align: top;\"><td><code>call</code></td>\n",
       "<td>\n",
       "<p>the matched call.</p>\n",
       "</td></tr>\n",
       "</table>\n",
       "\n",
       "\n",
       "<h3>Note</h3>\n",
       "\n",
       "<p>Like all numerical integration routines, these evaluate the function\n",
       "on a finite set of points.  If the function is approximately constant\n",
       "(in particular, zero) over nearly all its range it is possible that\n",
       "the result and error estimate may be seriously wrong.\n",
       "</p>\n",
       "<p>When integrating over infinite intervals do so explicitly, rather than\n",
       "just using a large number as the endpoint.  This increases the chance\n",
       "of a correct answer &ndash; any function whose integral over an infinite\n",
       "interval is finite must be near zero for most of that interval.\n",
       "</p>\n",
       "<p>For values at a finite set of points to be a fair reflection of the\n",
       "behaviour of the function elsewhere, the function needs to be\n",
       "well-behaved, for example differentiable except perhaps for a small\n",
       "number of jumps or integrable singularities.\n",
       "</p>\n",
       "<p><code>f</code> must accept a vector of inputs and produce a vector of function\n",
       "evaluations at those points.  The <code>Vectorize</code> function\n",
       "may be helpful to convert <code>f</code> to this form.\n",
       "</p>\n",
       "\n",
       "\n",
       "<h3>Source</h3>\n",
       "\n",
       "<p>Based on QUADPACK routines <code>dqags</code> and <code>dqagi</code> by\n",
       "R. Piessens and E. deDoncker&ndash;Kapenga, available from Netlib.\n",
       "</p>\n",
       "\n",
       "\n",
       "<h3>References</h3>\n",
       "\n",
       "<p>R. Piessens, E. deDoncker&ndash;Kapenga, C. Uberhuber, D. Kahaner (1983)\n",
       "<em>Quadpack: a Subroutine Package for Automatic Integration</em>;\n",
       "Springer Verlag.\n",
       "</p>\n",
       "\n",
       "\n",
       "<h3>Examples</h3>\n",
       "\n",
       "<pre><code class='language-R'>integrate(dnorm, -1.96, 1.96)\n",
       "integrate(dnorm, -Inf, Inf)\n",
       "\n",
       "## a slowly-convergent integral\n",
       "integrand &lt;- function(x) {1/((x+1)*sqrt(x))}\n",
       "integrate(integrand, lower = 0, upper = Inf)\n",
       "\n",
       "## don't do this if you really want the integral from 0 to Inf\n",
       "integrate(integrand, lower = 0, upper = 10)\n",
       "integrate(integrand, lower = 0, upper = 100000)\n",
       "integrate(integrand, lower = 0, upper = 1000000, stop.on.error = FALSE)\n",
       "\n",
       "## some functions do not handle vector input properly\n",
       "f &lt;- function(x) 2.0\n",
       "try(integrate(f, 0, 1))\n",
       "integrate(Vectorize(f), 0, 1)  ## correct\n",
       "integrate(function(x) rep(2.0, length(x)), 0, 1)  ## correct\n",
       "\n",
       "## integrate can fail if misused\n",
       "integrate(dnorm, 0, 2)\n",
       "integrate(dnorm, 0, 20)\n",
       "integrate(dnorm, 0, 200)\n",
       "integrate(dnorm, 0, 2000)\n",
       "integrate(dnorm, 0, 20000) ## fails on many systems\n",
       "integrate(dnorm, 0, Inf)   ## works\n",
       "\n",
       "integrate(dnorm, 0:1, 20) #-&gt; error!\n",
       "## \"silently\" gave  integrate(dnorm, 0, 20)  in earlier versions of R\n",
       "\n",
       "</code></pre>\n",
       "\n",
       "<hr /><div style=\"text-align: center;\">[Package <em>stats</em> version 4.2.3 ]</div>\n",
       "</div>"
      ],
      "text/latex": [
       "\\inputencoding{utf8}\n",
       "\\HeaderA{integrate}{Integration of One-Dimensional Functions}{integrate}\n",
       "\\aliasA{print.integrate}{integrate}{print.integrate}\n",
       "\\keyword{math}{integrate}\n",
       "\\keyword{utilities}{integrate}\n",
       "%\n",
       "\\begin{Description}\\relax\n",
       "Adaptive quadrature of functions of one variable over a finite or\n",
       "infinite interval.\n",
       "\\end{Description}\n",
       "%\n",
       "\\begin{Usage}\n",
       "\\begin{verbatim}\n",
       "integrate(f, lower, upper, ..., subdivisions = 100L,\n",
       "          rel.tol = .Machine$double.eps^0.25, abs.tol = rel.tol,\n",
       "          stop.on.error = TRUE, keep.xy = FALSE, aux = NULL)\n",
       "\\end{verbatim}\n",
       "\\end{Usage}\n",
       "%\n",
       "\\begin{Arguments}\n",
       "\\begin{ldescription}\n",
       "\\item[\\code{f}] an \\R{} function taking a numeric first argument and returning\n",
       "a numeric vector of the same length.  Returning a non-finite element will\n",
       "generate an error.\n",
       "\\item[\\code{lower, upper}] the limits of integration.  Can be infinite.\n",
       "\\item[\\code{...}] additional arguments to be passed to \\code{f}.\n",
       "\\item[\\code{subdivisions}] the maximum number of subintervals.\n",
       "\\item[\\code{rel.tol}] relative accuracy requested.\n",
       "\\item[\\code{abs.tol}] absolute accuracy requested.\n",
       "\\item[\\code{stop.on.error}] logical. If true (the default) an error stops the\n",
       "function.  If false some errors will give a result with a warning in\n",
       "the \\code{message} component.\n",
       "\\item[\\code{keep.xy}] unused.  For compatibility with S.\n",
       "\\item[\\code{aux}] unused.  For compatibility with S.\n",
       "\\end{ldescription}\n",
       "\\end{Arguments}\n",
       "%\n",
       "\\begin{Details}\\relax\n",
       "Note that arguments after \\code{...} must be matched exactly.\n",
       "\n",
       "If one or both limits are infinite, the infinite range is mapped onto\n",
       "a finite interval.\n",
       "\n",
       "For a finite interval, globally adaptive interval subdivision is used\n",
       "in connection with extrapolation by Wynn's Epsilon algorithm, with the\n",
       "basic step being Gauss--Kronrod quadrature.\n",
       "\n",
       "\\code{rel.tol} cannot be less than \\code{max(50*.Machine\\$double.eps,\n",
       "    0.5e-28)} if \\code{abs.tol <= 0}.\n",
       "\n",
       "Note that the comments in the C source code in\n",
       "\\file{<R>/src/appl/integrate.c} give more details, particularly about\n",
       "reasons for failure (internal error code \\code{ier >= 1}).\n",
       "\n",
       "In \\R{} versions \\eqn{\\le}{} 3.2.x, the first entries of\n",
       "\\code{lower} and \\code{upper} were used whereas an error is signalled\n",
       "now if they are not of length one.\n",
       "\\end{Details}\n",
       "%\n",
       "\\begin{Value}\n",
       "A list of class \\code{\"integrate\"} with components\n",
       "\\begin{ldescription}\n",
       "\\item[\\code{value}] the final estimate of the integral.\n",
       "\\item[\\code{abs.error}] estimate of the modulus of the absolute error.\n",
       "\\item[\\code{subdivisions}] the number of subintervals produced in the\n",
       "subdivision process.\n",
       "\\item[\\code{message}] \\code{\"OK\"} or a character string giving the error message.\n",
       "\\item[\\code{call}] the matched call.\n",
       "\\end{ldescription}\n",
       "\\end{Value}\n",
       "%\n",
       "\\begin{Note}\\relax\n",
       "Like all numerical integration routines, these evaluate the function\n",
       "on a finite set of points.  If the function is approximately constant\n",
       "(in particular, zero) over nearly all its range it is possible that\n",
       "the result and error estimate may be seriously wrong.\n",
       "\n",
       "When integrating over infinite intervals do so explicitly, rather than\n",
       "just using a large number as the endpoint.  This increases the chance\n",
       "of a correct answer -- any function whose integral over an infinite\n",
       "interval is finite must be near zero for most of that interval.\n",
       "\n",
       "For values at a finite set of points to be a fair reflection of the\n",
       "behaviour of the function elsewhere, the function needs to be\n",
       "well-behaved, for example differentiable except perhaps for a small\n",
       "number of jumps or integrable singularities.\n",
       "\n",
       "\\code{f} must accept a vector of inputs and produce a vector of function\n",
       "evaluations at those points.  The \\code{\\LinkA{Vectorize}{Vectorize}} function\n",
       "may be helpful to convert \\code{f} to this form.\n",
       "\\end{Note}\n",
       "%\n",
       "\\begin{Source}\\relax\n",
       "Based on QUADPACK routines \\code{dqags} and \\code{dqagi} by\n",
       "R. Piessens and E. deDoncker--Kapenga, available from Netlib.\n",
       "\\end{Source}\n",
       "%\n",
       "\\begin{References}\\relax\n",
       "R. Piessens, E. deDoncker--Kapenga, C. Uberhuber, D. Kahaner (1983)\n",
       "\\emph{Quadpack: a Subroutine Package for Automatic Integration};\n",
       "Springer Verlag.\n",
       "\\end{References}\n",
       "%\n",
       "\\begin{Examples}\n",
       "\\begin{ExampleCode}\n",
       "integrate(dnorm, -1.96, 1.96)\n",
       "integrate(dnorm, -Inf, Inf)\n",
       "\n",
       "## a slowly-convergent integral\n",
       "integrand <- function(x) {1/((x+1)*sqrt(x))}\n",
       "integrate(integrand, lower = 0, upper = Inf)\n",
       "\n",
       "## don't do this if you really want the integral from 0 to Inf\n",
       "integrate(integrand, lower = 0, upper = 10)\n",
       "integrate(integrand, lower = 0, upper = 100000)\n",
       "integrate(integrand, lower = 0, upper = 1000000, stop.on.error = FALSE)\n",
       "\n",
       "## some functions do not handle vector input properly\n",
       "f <- function(x) 2.0\n",
       "try(integrate(f, 0, 1))\n",
       "integrate(Vectorize(f), 0, 1)  ## correct\n",
       "integrate(function(x) rep(2.0, length(x)), 0, 1)  ## correct\n",
       "\n",
       "## integrate can fail if misused\n",
       "integrate(dnorm, 0, 2)\n",
       "integrate(dnorm, 0, 20)\n",
       "integrate(dnorm, 0, 200)\n",
       "integrate(dnorm, 0, 2000)\n",
       "integrate(dnorm, 0, 20000) ## fails on many systems\n",
       "integrate(dnorm, 0, Inf)   ## works\n",
       "\n",
       "integrate(dnorm, 0:1, 20) #-> error!\n",
       "## \"silently\" gave  integrate(dnorm, 0, 20)  in earlier versions of R\n",
       "\n",
       "\\end{ExampleCode}\n",
       "\\end{Examples}"
      ],
      "text/plain": [
       "integrate                package:stats                 R Documentation\n",
       "\n",
       "_\bI_\bn_\bt_\be_\bg_\br_\ba_\bt_\bi_\bo_\bn _\bo_\bf _\bO_\bn_\be-_\bD_\bi_\bm_\be_\bn_\bs_\bi_\bo_\bn_\ba_\bl _\bF_\bu_\bn_\bc_\bt_\bi_\bo_\bn_\bs\n",
       "\n",
       "_\bD_\be_\bs_\bc_\br_\bi_\bp_\bt_\bi_\bo_\bn:\n",
       "\n",
       "     Adaptive quadrature of functions of one variable over a finite or\n",
       "     infinite interval.\n",
       "\n",
       "_\bU_\bs_\ba_\bg_\be:\n",
       "\n",
       "     integrate(f, lower, upper, ..., subdivisions = 100L,\n",
       "               rel.tol = .Machine$double.eps^0.25, abs.tol = rel.tol,\n",
       "               stop.on.error = TRUE, keep.xy = FALSE, aux = NULL)\n",
       "     \n",
       "_\bA_\br_\bg_\bu_\bm_\be_\bn_\bt_\bs:\n",
       "\n",
       "       f: an R function taking a numeric first argument and returning a\n",
       "          numeric vector of the same length.  Returning a non-finite\n",
       "          element will generate an error.\n",
       "\n",
       "lower, upper: the limits of integration.  Can be infinite.\n",
       "\n",
       "     ...: additional arguments to be passed to ‘f’.\n",
       "\n",
       "subdivisions: the maximum number of subintervals.\n",
       "\n",
       " rel.tol: relative accuracy requested.\n",
       "\n",
       " abs.tol: absolute accuracy requested.\n",
       "\n",
       "stop.on.error: logical. If true (the default) an error stops the\n",
       "          function.  If false some errors will give a result with a\n",
       "          warning in the ‘message’ component.\n",
       "\n",
       " keep.xy: unused.  For compatibility with S.\n",
       "\n",
       "     aux: unused.  For compatibility with S.\n",
       "\n",
       "_\bD_\be_\bt_\ba_\bi_\bl_\bs:\n",
       "\n",
       "     Note that arguments after ‘...’ must be matched exactly.\n",
       "\n",
       "     If one or both limits are infinite, the infinite range is mapped\n",
       "     onto a finite interval.\n",
       "\n",
       "     For a finite interval, globally adaptive interval subdivision is\n",
       "     used in connection with extrapolation by Wynn's Epsilon algorithm,\n",
       "     with the basic step being Gauss-Kronrod quadrature.\n",
       "\n",
       "     ‘rel.tol’ cannot be less than ‘max(50*.Machine$double.eps,\n",
       "     0.5e-28)’ if ‘abs.tol <= 0’.\n",
       "\n",
       "     Note that the comments in the C source code in\n",
       "     ‘<R>/src/appl/integrate.c’ give more details, particularly about\n",
       "     reasons for failure (internal error code ‘ier >= 1’).\n",
       "\n",
       "     In R versions <= 3.2.x, the first entries of ‘lower’ and ‘upper’\n",
       "     were used whereas an error is signalled now if they are not of\n",
       "     length one.\n",
       "\n",
       "_\bV_\ba_\bl_\bu_\be:\n",
       "\n",
       "     A list of class ‘\"integrate\"’ with components\n",
       "\n",
       "   value: the final estimate of the integral.\n",
       "\n",
       "abs.error: estimate of the modulus of the absolute error.\n",
       "\n",
       "subdivisions: the number of subintervals produced in the subdivision\n",
       "          process.\n",
       "\n",
       " message: ‘\"OK\"’ or a character string giving the error message.\n",
       "\n",
       "    call: the matched call.\n",
       "\n",
       "_\bN_\bo_\bt_\be:\n",
       "\n",
       "     Like all numerical integration routines, these evaluate the\n",
       "     function on a finite set of points.  If the function is\n",
       "     approximately constant (in particular, zero) over nearly all its\n",
       "     range it is possible that the result and error estimate may be\n",
       "     seriously wrong.\n",
       "\n",
       "     When integrating over infinite intervals do so explicitly, rather\n",
       "     than just using a large number as the endpoint.  This increases\n",
       "     the chance of a correct answer - any function whose integral over\n",
       "     an infinite interval is finite must be near zero for most of that\n",
       "     interval.\n",
       "\n",
       "     For values at a finite set of points to be a fair reflection of\n",
       "     the behaviour of the function elsewhere, the function needs to be\n",
       "     well-behaved, for example differentiable except perhaps for a\n",
       "     small number of jumps or integrable singularities.\n",
       "\n",
       "     ‘f’ must accept a vector of inputs and produce a vector of\n",
       "     function evaluations at those points.  The ‘Vectorize’ function\n",
       "     may be helpful to convert ‘f’ to this form.\n",
       "\n",
       "_\bS_\bo_\bu_\br_\bc_\be:\n",
       "\n",
       "     Based on QUADPACK routines ‘dqags’ and ‘dqagi’ by R. Piessens and\n",
       "     E. deDoncker-Kapenga, available from Netlib.\n",
       "\n",
       "_\bR_\be_\bf_\be_\br_\be_\bn_\bc_\be_\bs:\n",
       "\n",
       "     R. Piessens, E. deDoncker-Kapenga, C. Uberhuber, D. Kahaner (1983)\n",
       "     _Quadpack: a Subroutine Package for Automatic Integration_;\n",
       "     Springer Verlag.\n",
       "\n",
       "_\bE_\bx_\ba_\bm_\bp_\bl_\be_\bs:\n",
       "\n",
       "     integrate(dnorm, -1.96, 1.96)\n",
       "     integrate(dnorm, -Inf, Inf)\n",
       "     \n",
       "     ## a slowly-convergent integral\n",
       "     integrand <- function(x) {1/((x+1)*sqrt(x))}\n",
       "     integrate(integrand, lower = 0, upper = Inf)\n",
       "     \n",
       "     ## don't do this if you really want the integral from 0 to Inf\n",
       "     integrate(integrand, lower = 0, upper = 10)\n",
       "     integrate(integrand, lower = 0, upper = 100000)\n",
       "     integrate(integrand, lower = 0, upper = 1000000, stop.on.error = FALSE)\n",
       "     \n",
       "     ## some functions do not handle vector input properly\n",
       "     f <- function(x) 2.0\n",
       "     try(integrate(f, 0, 1))\n",
       "     integrate(Vectorize(f), 0, 1)  ## correct\n",
       "     integrate(function(x) rep(2.0, length(x)), 0, 1)  ## correct\n",
       "     \n",
       "     ## integrate can fail if misused\n",
       "     integrate(dnorm, 0, 2)\n",
       "     integrate(dnorm, 0, 20)\n",
       "     integrate(dnorm, 0, 200)\n",
       "     integrate(dnorm, 0, 2000)\n",
       "     integrate(dnorm, 0, 20000) ## fails on many systems\n",
       "     integrate(dnorm, 0, Inf)   ## works\n",
       "     \n",
       "     integrate(dnorm, 0:1, 20) #-> error!\n",
       "     ## \"silently\" gave  integrate(dnorm, 0, 20)  in earlier versions of R\n",
       "     "
      ]
     },
     "metadata": {},
     "output_type": "display_data"
    }
   ],
   "source": [
    "help(integrate)"
   ]
  },
  {
   "cell_type": "code",
   "execution_count": 16,
   "metadata": {
    "id": "jR8gkmzYBu1J"
   },
   "outputs": [
    {
     "data": {
      "text/html": [
       "8"
      ],
      "text/latex": [
       "8"
      ],
      "text/markdown": [
       "8"
      ],
      "text/plain": [
       "[1] 8"
      ]
     },
     "metadata": {},
     "output_type": "display_data"
    },
    {
     "data": {
      "text/html": [
       "2"
      ],
      "text/latex": [
       "2"
      ],
      "text/markdown": [
       "2"
      ],
      "text/plain": [
       "[1] 2"
      ]
     },
     "metadata": {},
     "output_type": "display_data"
    },
    {
     "data": {
      "text/html": [
       "15"
      ],
      "text/latex": [
       "15"
      ],
      "text/markdown": [
       "15"
      ],
      "text/plain": [
       "[1] 15"
      ]
     },
     "metadata": {},
     "output_type": "display_data"
    },
    {
     "data": {
      "text/html": [
       "1.66666666666667"
      ],
      "text/latex": [
       "1.66666666666667"
      ],
      "text/markdown": [
       "1.66666666666667"
      ],
      "text/plain": [
       "[1] 1.666667"
      ]
     },
     "metadata": {},
     "output_type": "display_data"
    },
    {
     "data": {
      "text/html": [
       "125"
      ],
      "text/latex": [
       "125"
      ],
      "text/markdown": [
       "125"
      ],
      "text/plain": [
       "[1] 125"
      ]
     },
     "metadata": {},
     "output_type": "display_data"
    },
    {
     "data": {
      "text/html": [
       "8"
      ],
      "text/latex": [
       "8"
      ],
      "text/markdown": [
       "8"
      ],
      "text/plain": [
       "[1] 8"
      ]
     },
     "metadata": {},
     "output_type": "display_data"
    }
   ],
   "source": [
    "# IV. Arithmetic, algebra, trigonometry, and formatting numerics\n",
    "\n",
    "5 + 3 ; 5-3 ; 5*3 ; 5/3 ; 5^3\n",
    "x <- 5 ; y <- 3\n",
    "x+y "
   ]
  },
  {
   "cell_type": "code",
   "execution_count": 17,
   "metadata": {
    "id": "aSxCAf16Bu1J"
   },
   "outputs": [
    {
     "data": {
      "text/html": [
       "0"
      ],
      "text/latex": [
       "0"
      ],
      "text/markdown": [
       "0"
      ],
      "text/plain": [
       "[1] 0"
      ]
     },
     "metadata": {},
     "output_type": "display_data"
    },
    {
     "data": {
      "text/html": [
       "1"
      ],
      "text/latex": [
       "1"
      ],
      "text/markdown": [
       "1"
      ],
      "text/plain": [
       "[1] 1"
      ]
     },
     "metadata": {},
     "output_type": "display_data"
    },
    {
     "data": {
      "text/html": [
       "<style>\n",
       ".list-inline {list-style: none; margin:0; padding: 0}\n",
       ".list-inline>li {display: inline-block}\n",
       ".list-inline>li:not(:last-child)::after {content: \"\\00b7\"; padding: 0 .5ex}\n",
       "</style>\n",
       "<ol class=list-inline><li>0</li><li>0.0541389085854175</li><li>0.108119018423942</li><li>0.161781996552765</li><li>0.214970440211024</li><li>0.267528338529221</li><li>0.31930153013598</li><li>0.370138155339914</li><li>0.419889101560265</li><li>0.46840844069979</li><li>0.515553857177022</li><li>0.561187065362382</li><li>0.605174215193765</li><li>0.647386284781828</li><li>0.687699458853423</li><li>0.725995491923131</li><li>0.762162055127636</li><li>0.796093065705644</li><li>0.827688998156891</li><li>0.856857176167589</li><li>0.883512044446023</li><li>0.907575419670957</li><li>0.928976719816791</li><li>0.947653171182802</li><li>0.963549992519223</li><li>0.976620555710087</li><li>0.986826522541526</li><li>0.99413795715436</li><li>0.998533413851124</li><li>1</li></ol>\n"
      ],
      "text/latex": [
       "\\begin{enumerate*}\n",
       "\\item 0\n",
       "\\item 0.0541389085854175\n",
       "\\item 0.108119018423942\n",
       "\\item 0.161781996552765\n",
       "\\item 0.214970440211024\n",
       "\\item 0.267528338529221\n",
       "\\item 0.31930153013598\n",
       "\\item 0.370138155339914\n",
       "\\item 0.419889101560265\n",
       "\\item 0.46840844069979\n",
       "\\item 0.515553857177022\n",
       "\\item 0.561187065362382\n",
       "\\item 0.605174215193765\n",
       "\\item 0.647386284781828\n",
       "\\item 0.687699458853423\n",
       "\\item 0.725995491923131\n",
       "\\item 0.762162055127636\n",
       "\\item 0.796093065705644\n",
       "\\item 0.827688998156891\n",
       "\\item 0.856857176167589\n",
       "\\item 0.883512044446023\n",
       "\\item 0.907575419670957\n",
       "\\item 0.928976719816791\n",
       "\\item 0.947653171182802\n",
       "\\item 0.963549992519223\n",
       "\\item 0.976620555710087\n",
       "\\item 0.986826522541526\n",
       "\\item 0.99413795715436\n",
       "\\item 0.998533413851124\n",
       "\\item 1\n",
       "\\end{enumerate*}\n"
      ],
      "text/markdown": [
       "1. 0\n",
       "2. 0.0541389085854175\n",
       "3. 0.108119018423942\n",
       "4. 0.161781996552765\n",
       "5. 0.214970440211024\n",
       "6. 0.267528338529221\n",
       "7. 0.31930153013598\n",
       "8. 0.370138155339914\n",
       "9. 0.419889101560265\n",
       "10. 0.46840844069979\n",
       "11. 0.515553857177022\n",
       "12. 0.561187065362382\n",
       "13. 0.605174215193765\n",
       "14. 0.647386284781828\n",
       "15. 0.687699458853423\n",
       "16. 0.725995491923131\n",
       "17. 0.762162055127636\n",
       "18. 0.796093065705644\n",
       "19. 0.827688998156891\n",
       "20. 0.856857176167589\n",
       "21. 0.883512044446023\n",
       "22. 0.907575419670957\n",
       "23. 0.928976719816791\n",
       "24. 0.947653171182802\n",
       "25. 0.963549992519223\n",
       "26. 0.976620555710087\n",
       "27. 0.986826522541526\n",
       "28. 0.99413795715436\n",
       "29. 0.998533413851124\n",
       "30. 1\n",
       "\n",
       "\n"
      ],
      "text/plain": [
       " [1] 0.00000000 0.05413891 0.10811902 0.16178200 0.21497044 0.26752834\n",
       " [7] 0.31930153 0.37013816 0.41988910 0.46840844 0.51555386 0.56118707\n",
       "[13] 0.60517422 0.64738628 0.68769946 0.72599549 0.76216206 0.79609307\n",
       "[19] 0.82768900 0.85685718 0.88351204 0.90757542 0.92897672 0.94765317\n",
       "[25] 0.96354999 0.97662056 0.98682652 0.99413796 0.99853341 1.00000000"
      ]
     },
     "metadata": {},
     "output_type": "display_data"
    }
   ],
   "source": [
    "sin(0)  ; sin(pi/2)         # note angles are in radians\n",
    "ang <- seq(0, pi/2, length=30) \n",
    "sin(ang)"
   ]
  },
  {
   "cell_type": "code",
   "execution_count": 18,
   "metadata": {
    "id": "Q9KE-u3wBu1K"
   },
   "outputs": [
    {
     "data": {
      "text/html": [
       "12345"
      ],
      "text/latex": [
       "12345"
      ],
      "text/markdown": [
       "12345"
      ],
      "text/plain": [
       "[1] 12345"
      ]
     },
     "metadata": {},
     "output_type": "display_data"
    },
    {
     "data": {
      "text/html": [
       "12346"
      ],
      "text/latex": [
       "12346"
      ],
      "text/markdown": [
       "12346"
      ],
      "text/plain": [
       "[1] 12346"
      ]
     },
     "metadata": {},
     "output_type": "display_data"
    },
    {
     "data": {
      "text/html": [
       "'1.2e+04'"
      ],
      "text/latex": [
       "'1.2e+04'"
      ],
      "text/markdown": [
       "'1.2e+04'"
      ],
      "text/plain": [
       "[1] \"1.2e+04\""
      ]
     },
     "metadata": {},
     "output_type": "display_data"
    },
    {
     "data": {
      "text/html": [
       "2.99573227355399"
      ],
      "text/latex": [
       "2.99573227355399"
      ],
      "text/markdown": [
       "2.99573227355399"
      ],
      "text/plain": [
       "[1] 2.995732"
      ]
     },
     "metadata": {},
     "output_type": "display_data"
    },
    {
     "data": {
      "text/html": [
       "1.30102999566398"
      ],
      "text/latex": [
       "1.30102999566398"
      ],
      "text/markdown": [
       "1.30102999566398"
      ],
      "text/plain": [
       "[1] 1.30103"
      ]
     },
     "metadata": {},
     "output_type": "display_data"
    }
   ],
   "source": [
    "trunc(12345.6789) ; round(12345.6789)  \n",
    "format(12345.6789, digits=2, scientific=TRUE)   \n",
    "\n",
    "log(20)  ;  log10(20)   # log() in R is base-e. Use log10() for base-10 logarithms."
   ]
  },
  {
   "cell_type": "markdown",
   "metadata": {
    "id": "EKXQQmynBu1K"
   },
   "source": [
    "> **Exercise 1:** Practice R syntax.  Practice with some elementary R functions: arithmetic and algebra, 2-dimensional array manipulation, producing multi-element lists.  Write a brief program exercising program flow control (if, ifelse, when, repeat, break, stop, etc.)"
   ]
  },
  {
   "cell_type": "code",
   "execution_count": 32,
   "metadata": {},
   "outputs": [
    {
     "data": {
      "text/html": [
       "<table class=\"dataframe\">\n",
       "<caption>A data.frame: 4 × 3</caption>\n",
       "<thead>\n",
       "\t<tr><th scope=col>a</th><th scope=col>b</th><th scope=col>c</th></tr>\n",
       "\t<tr><th scope=col>&lt;dbl&gt;</th><th scope=col>&lt;dbl&gt;</th><th scope=col>&lt;dbl&gt;</th></tr>\n",
       "</thead>\n",
       "<tbody>\n",
       "\t<tr><td>1</td><td>33</td><td> 35937</td></tr>\n",
       "\t<tr><td>2</td><td>44</td><td> 85184</td></tr>\n",
       "\t<tr><td>3</td><td>92</td><td>778688</td></tr>\n",
       "\t<tr><td>4</td><td>58</td><td>195112</td></tr>\n",
       "</tbody>\n",
       "</table>\n"
      ],
      "text/latex": [
       "A data.frame: 4 × 3\n",
       "\\begin{tabular}{lll}\n",
       " a & b & c\\\\\n",
       " <dbl> & <dbl> & <dbl>\\\\\n",
       "\\hline\n",
       "\t 1 & 33 &  35937\\\\\n",
       "\t 2 & 44 &  85184\\\\\n",
       "\t 3 & 92 & 778688\\\\\n",
       "\t 4 & 58 & 195112\\\\\n",
       "\\end{tabular}\n"
      ],
      "text/markdown": [
       "\n",
       "A data.frame: 4 × 3\n",
       "\n",
       "| a &lt;dbl&gt; | b &lt;dbl&gt; | c &lt;dbl&gt; |\n",
       "|---|---|---|\n",
       "| 1 | 33 |  35937 |\n",
       "| 2 | 44 |  85184 |\n",
       "| 3 | 92 | 778688 |\n",
       "| 4 | 58 | 195112 |\n",
       "\n"
      ],
      "text/plain": [
       "  a b  c     \n",
       "1 1 33  35937\n",
       "2 2 44  85184\n",
       "3 3 92 778688\n",
       "4 4 58 195112"
      ]
     },
     "metadata": {},
     "output_type": "display_data"
    },
    {
     "data": {
      "text/html": [
       "<table class=\"dataframe\">\n",
       "<caption>A data.frame: 4 × 3</caption>\n",
       "<thead>\n",
       "\t<tr><th scope=col>a</th><th scope=col>b</th><th scope=col>c</th></tr>\n",
       "\t<tr><th scope=col>&lt;dbl&gt;</th><th scope=col>&lt;dbl&gt;</th><th scope=col>&lt;dbl&gt;</th></tr>\n",
       "</thead>\n",
       "<tbody>\n",
       "\t<tr><td>1</td><td> 33</td><td>  35937</td></tr>\n",
       "\t<tr><td>2</td><td> 44</td><td>  85184</td></tr>\n",
       "\t<tr><td>6</td><td>184</td><td>1557376</td></tr>\n",
       "\t<tr><td>4</td><td> 58</td><td> 195112</td></tr>\n",
       "</tbody>\n",
       "</table>\n"
      ],
      "text/latex": [
       "A data.frame: 4 × 3\n",
       "\\begin{tabular}{lll}\n",
       " a & b & c\\\\\n",
       " <dbl> & <dbl> & <dbl>\\\\\n",
       "\\hline\n",
       "\t 1 &  33 &   35937\\\\\n",
       "\t 2 &  44 &   85184\\\\\n",
       "\t 6 & 184 & 1557376\\\\\n",
       "\t 4 &  58 &  195112\\\\\n",
       "\\end{tabular}\n"
      ],
      "text/markdown": [
       "\n",
       "A data.frame: 4 × 3\n",
       "\n",
       "| a &lt;dbl&gt; | b &lt;dbl&gt; | c &lt;dbl&gt; |\n",
       "|---|---|---|\n",
       "| 1 |  33 |   35937 |\n",
       "| 2 |  44 |   85184 |\n",
       "| 6 | 184 | 1557376 |\n",
       "| 4 |  58 |  195112 |\n",
       "\n"
      ],
      "text/plain": [
       "  a b   c      \n",
       "1 1  33   35937\n",
       "2 2  44   85184\n",
       "3 6 184 1557376\n",
       "4 4  58  195112"
      ]
     },
     "metadata": {},
     "output_type": "display_data"
    },
    {
     "data": {
      "text/html": [
       "<table class=\"dataframe\">\n",
       "<caption>A data.frame: 1 × 3</caption>\n",
       "<thead>\n",
       "\t<tr><th></th><th scope=col>a</th><th scope=col>b</th><th scope=col>c</th></tr>\n",
       "\t<tr><th></th><th scope=col>&lt;dbl&gt;</th><th scope=col>&lt;dbl&gt;</th><th scope=col>&lt;dbl&gt;</th></tr>\n",
       "</thead>\n",
       "<tbody>\n",
       "\t<tr><th scope=row>3</th><td>6</td><td>184</td><td>1557376</td></tr>\n",
       "</tbody>\n",
       "</table>\n"
      ],
      "text/latex": [
       "A data.frame: 1 × 3\n",
       "\\begin{tabular}{r|lll}\n",
       "  & a & b & c\\\\\n",
       "  & <dbl> & <dbl> & <dbl>\\\\\n",
       "\\hline\n",
       "\t3 & 6 & 184 & 1557376\\\\\n",
       "\\end{tabular}\n"
      ],
      "text/markdown": [
       "\n",
       "A data.frame: 1 × 3\n",
       "\n",
       "| <!--/--> | a &lt;dbl&gt; | b &lt;dbl&gt; | c &lt;dbl&gt; |\n",
       "|---|---|---|---|\n",
       "| 3 | 6 | 184 | 1557376 |\n",
       "\n"
      ],
      "text/plain": [
       "  a b   c      \n",
       "3 6 184 1557376"
      ]
     },
     "metadata": {},
     "output_type": "display_data"
    }
   ],
   "source": [
    "# 2D array manipulation\n",
    "\n",
    "d <- data.frame(cbind(seq(1:4), a, a^3))  # Bind columns into data frame\n",
    "names(d) <- c('a', 'b', 'c') # Column names for data frame                                         \n",
    "#d2 <- d[-4,-1]                            # Remove 4th row and 1st column\n",
    "\n",
    "d\n",
    "\n",
    "# multiply row 3 by 2\n",
    "d2 <- d[3, , drop = FALSE] * 2\n",
    "\n",
    "# do in-place\n",
    "d[3, ] <- d[3, ] * 2\n",
    "\n",
    "d ; d2"
   ]
  },
  {
   "cell_type": "code",
   "execution_count": 37,
   "metadata": {},
   "outputs": [],
   "source": [
    "# simple function\n",
    "\n",
    "fcn <- function(redshift) {  \n",
    "  if (redshift > 1) {\n",
    "    print('greater than 1')\n",
    "  } else if (redshift < 1) {\n",
    "    print('less than 1')\n",
    "  }\n",
    "  return()\n",
    "}"
   ]
  },
  {
   "cell_type": "code",
   "execution_count": 38,
   "metadata": {},
   "outputs": [
    {
     "name": "stdout",
     "output_type": "stream",
     "text": [
      "[1] \"less than 1\"\n"
     ]
    },
    {
     "data": {
      "text/plain": [
       "NULL"
      ]
     },
     "metadata": {},
     "output_type": "display_data"
    }
   ],
   "source": [
    "fcn(0.5)"
   ]
  },
  {
   "cell_type": "code",
   "execution_count": 39,
   "metadata": {},
   "outputs": [
    {
     "name": "stdout",
     "output_type": "stream",
     "text": [
      "[1] 0\n",
      "[1] 1\n",
      "[1] 2\n",
      "[1] 3\n",
      "[1] 4\n",
      "[1] 5\n",
      "[1] 6\n",
      "[1] 7\n",
      "[1] 8\n",
      "[1] 9\n",
      "[1] \"break\"\n"
     ]
    }
   ],
   "source": [
    "# when, repeat, break, stop\n",
    "\n",
    "i <- 0\n",
    "while (TRUE) {\n",
    "  if (i < 10) {\n",
    "    print(i)\n",
    "    i <- i + 1\n",
    "  } else {\n",
    "    print('break')\n",
    "    break\n",
    "  }\n",
    "}"
   ]
  },
  {
   "cell_type": "code",
   "execution_count": 19,
   "metadata": {
    "id": "xedKpyEZBu1K"
   },
   "outputs": [
    {
     "data": {
      "text/html": [
       "<style>\n",
       ".list-inline {list-style: none; margin:0; padding: 0}\n",
       ".list-inline>li {display: inline-block}\n",
       ".list-inline>li:not(:last-child)::after {content: \"\\00b7\"; padding: 0 .5ex}\n",
       "</style>\n",
       "<ol class=list-inline><li>0</li><li>0.1</li><li>0.2</li><li>0.3</li><li>0.4</li><li>0.5</li></ol>\n"
      ],
      "text/latex": [
       "\\begin{enumerate*}\n",
       "\\item 0\n",
       "\\item 0.1\n",
       "\\item 0.2\n",
       "\\item 0.3\n",
       "\\item 0.4\n",
       "\\item 0.5\n",
       "\\end{enumerate*}\n"
      ],
      "text/markdown": [
       "1. 0\n",
       "2. 0.1\n",
       "3. 0.2\n",
       "4. 0.3\n",
       "5. 0.4\n",
       "6. 0.5\n",
       "\n",
       "\n"
      ],
      "text/plain": [
       "[1] 0.0 0.1 0.2 0.3 0.4 0.5"
      ]
     },
     "metadata": {},
     "output_type": "display_data"
    },
    {
     "data": {
      "text/html": [
       "<style>\n",
       ".list-inline {list-style: none; margin:0; padding: 0}\n",
       ".list-inline>li {display: inline-block}\n",
       ".list-inline>li:not(:last-child)::after {content: \"\\00b7\"; padding: 0 .5ex}\n",
       "</style>\n",
       "<ol class=list-inline><li>0</li><li>441.176470588235</li><li>882.352941176471</li><li>1323.52941176471</li><li>1764.70588235294</li><li>2205.88235294118</li></ol>\n"
      ],
      "text/latex": [
       "\\begin{enumerate*}\n",
       "\\item 0\n",
       "\\item 441.176470588235\n",
       "\\item 882.352941176471\n",
       "\\item 1323.52941176471\n",
       "\\item 1764.70588235294\n",
       "\\item 2205.88235294118\n",
       "\\end{enumerate*}\n"
      ],
      "text/markdown": [
       "1. 0\n",
       "2. 441.176470588235\n",
       "3. 882.352941176471\n",
       "4. 1323.52941176471\n",
       "5. 1764.70588235294\n",
       "6. 2205.88235294118\n",
       "\n",
       "\n"
      ],
      "text/plain": [
       "[1]    0.0000  441.1765  882.3529 1323.5294 1764.7059 2205.8824"
      ]
     },
     "metadata": {},
     "output_type": "display_data"
    },
    {
     "data": {
      "text/html": [
       "'numeric'"
      ],
      "text/latex": [
       "'numeric'"
      ],
      "text/markdown": [
       "'numeric'"
      ],
      "text/plain": [
       "[1] \"numeric\""
      ]
     },
     "metadata": {},
     "output_type": "display_data"
    }
   ],
   "source": [
    "# V. Astrophysical calculations of galaxy distances \n",
    "\n",
    "# The `function' function: Note how one function uses another\n",
    "# This how R builds new capabilities based on old capabilities in a compact syntax.\n",
    "\n",
    "# First, make a simple calculation without functions\n",
    "\n",
    "z <- seq(0.0, 0.5, 0.1)\n",
    "z\n",
    "H_0 <- 68  \t \t\t\t# km/s/Mpc,  Planck value\n",
    "\n",
    "# Unlike in Python, names of variables and functions are allowed to contain period\n",
    "# characters. The period is not an operator.\n",
    "speed.light <- 3.0E5  \t# km/s\n",
    "dist <- speed.light*z / H_0\n",
    "dist\n",
    "class(dist)"
   ]
  },
  {
   "cell_type": "code",
   "execution_count": 22,
   "metadata": {
    "id": "0XeBS0vYBu1L"
   },
   "outputs": [],
   "source": [
    "# Now, make a more complicated calculation with function\n",
    "\n",
    "Omega_m <- (0.022068 + 0.12029) / (H_0/100)^2    \n",
    "Omega_Lambda <- 0.6825                    # Planck satellite values\n",
    "\n",
    "E.H0 <- function(redshift) {sqrt(Omega_m*(1+redshift)^3 + Omega_Lambda)}\n",
    "\n",
    "lum.dist <- function(redshift) {  \n",
    "\tluminosity.distance = (speed.light/H_0) * integrate(E.H0, 0, redshift)$value \n",
    "\treturn(luminosity.distance)\n",
    "}\n",
    "\n",
    "# Vectorize() takes the name of a function and creates a new function which\n",
    "# can be applied to a vector, rather than a number. In the line below we\n",
    "# create a vectorized version of `lum.dist` and immediately call it with our\n",
    "# vector `z` as the argument to compute the distance to each value in `z`.\n",
    "distGR <- Vectorize(lum.dist)(z)"
   ]
  },
  {
   "cell_type": "code",
   "execution_count": 23,
   "metadata": {
    "id": "GVUw7oudBu1L"
   },
   "outputs": [
    {
     "data": {
      "image/png": "[encoded data removed]",
      "text/plain": [
       "plot without title"
      ]
     },
     "metadata": {
      "image/png": {
       "height": 600,
       "width": 840
      }
     },
     "output_type": "display_data"
    }
   ],
   "source": [
    "# Plot the results\n",
    "# The 'plot' function has extensive options to change format; see 'help(par)'\n",
    "\n",
    "options(jupyter.plot_scale=1)\n",
    "options(repr.plot.width = 7, repr.plot.height = 5)\n",
    "\n",
    "plot(z, distGR, type='l', lty=2, lwd=2, ylab='Distance (Mpc)')\n",
    "lines(z, dist, lty=1, lwd=2)   \n",
    "legend(0.0, 2500, lty=c(1,2), lwd=c(2,2), title='Galaxy distances', \n",
    "     \tlegend=c('Euclidean', expression(Lambda*CDM)))"
   ]
  },
  {
   "cell_type": "markdown",
   "metadata": {
    "id": "DzR3md3qBu1L"
   },
   "source": [
    "> **Exercise 2.** Integrate an astrophysical function.  Estimate the age of the Universe as a function of redshift for a standard $\\Lambda$CDM universe model: \n",
    "$$ t(z) = H_0^{-1} \\int_{z}^{\\infty}\\frac{dz'}{(1+z')h(z')} $$ \n",
    "where $ h(z) = \\sqrt{(1-\\Omega_{total})(1+z)^2 + \\Omega_m(1+z)^3 + \\Omega_{\\Lambda} } $, $\\Omega_m$ is the matter density parameter, and $\\Omega_{\\Lambda}$ is the dark energy density parameter. Plot the age of the Universe vs. redshift ($z=0$ to 10) for three hypothetical universes: matter-dominated ($\\Omega_m=1.0$ and $\\Omega_{\\Lambda}=0.0$), dark-energy-dominated ($\\Omega_m=0.01$ and $\\Omega_{\\Lambda}=0.99$), and a realistic universe ($\\Omega_m=0.31$ and $\\Omega_{\\Lambda}=0.69$).  This problem and solution is courtesy of graduate student Phoebe Sandhaus, Penn State."
   ]
  },
  {
   "cell_type": "code",
   "execution_count": 49,
   "metadata": {},
   "outputs": [],
   "source": [
    "univ.age <- function(redshift, Omega_m, Omega_lambda, H0) {\n",
    "  Omega_tot <- Omega_m + Omega_lambda\n",
    "  \n",
    "  # Define 1/E(z)\n",
    "  integrand <- function(z) {\n",
    "    1 / sqrt(Omega_m * (1 + z)^3 + \n",
    "             (1 - Omega_tot) * (1 + z)^2 + \n",
    "             Omega_lambda)\n",
    "  }\n",
    "  \n",
    "  # Integrate from z to a very large z to get the age at that redshift\n",
    "  result <- integrate(integrand, lower = redshift, upper = 1e5)$value\n",
    "  \n",
    "  # Convert H0 [km/s/Mpc] to Hubble time in Gyr\n",
    "  H0_Gyr <- 9.778 / (H0 / 100)\n",
    "  \n",
    "  # Age in Gyr\n",
    "  age_Gyr <- result * H0_Gyr\n",
    "  \n",
    "  return(age_Gyr)\n",
    "}"
   ]
  },
  {
   "cell_type": "code",
   "execution_count": 50,
   "metadata": {},
   "outputs": [
    {
     "data": {
      "text/html": [
       "20.2446162061471"
      ],
      "text/latex": [
       "20.2446162061471"
      ],
      "text/markdown": [
       "20.2446162061471"
      ],
      "text/plain": [
       "[1] 20.24462"
      ]
     },
     "metadata": {},
     "output_type": "display_data"
    }
   ],
   "source": [
    "univ.age(redshift=1, Omega_m=1.0, Omega_lambda=0.0, H0=68)"
   ]
  },
  {
   "cell_type": "code",
   "execution_count": 73,
   "metadata": {},
   "outputs": [
    {
     "data": {
      "image/png": "[encoded data removed]",
      "text/plain": [
       "plot without title"
      ]
     },
     "metadata": {
      "image/png": {
       "height": 600,
       "width": 840
      }
     },
     "output_type": "display_data"
    }
   ],
   "source": [
    "# Plot for age of the Universe vs. redshift ($z=0$ to 10) for matter-dominated ($\\Omega_m=1.0$ and $\\Omega_{\\Lambda}=0.0$)\n",
    "\n",
    "z <- seq(0.0, 0.5, 0.1)\n",
    "ageUniv_matter <- Vectorize(univ.age)(redshift=z, Omega_m=1.0, Omega_lambda=0.0, H0=68)\n",
    "ageUniv_DE <- Vectorize(univ.age)(redshift=z, Omega_m=0.01, Omega_lambda=0.99, H0=68)\n",
    "ageUniv_realistic <- Vectorize(univ.age)(redshift=z, Omega_m=0.31, Omega_lambda=0.69, H0=68)\n",
    "\n",
    "# Compute y-axis limits across all models\n",
    "ymin <- min(c(ageUniv_matter, ageUniv_DE, ageUniv_realistic))\n",
    "ymax <- max(c(ageUniv_matter, ageUniv_DE, ageUniv_realistic))\n",
    "ymax <- ymax * 1.05 # buffer\n",
    "\n",
    "options(jupyter.plot_scale=1)\n",
    "options(repr.plot.width = 7, repr.plot.height = 5)\n",
    "\n",
    "plot(z, ageUniv_matter, type='l', lty=2, lwd=2, ylab='Age (Gyr)', ylim = c(ymin, ymax), col='black')\n",
    "lines(z, ageUniv_DE, type='l', ylab='Age (Gyr)', lty = 3, lwd = 2, col='blue')\n",
    "lines(z, ageUniv_realistic, type='l', ylab='Age (Gyr)', lty = 1, lwd = 2, col='red')\n",
    "\n",
    "#lines(z, dist, lty=1, lwd=2)   \n",
    "legend(0.0, 100, lty=c(1,2), lwd=c(2,2), title='Models', \n",
    "     \tlegend=c('Matter-dom', 'DE-dom', 'Realistic'), \n",
    "       col = c('black', 'blue', 'red'))"
   ]
  },
  {
   "cell_type": "code",
   "execution_count": 74,
   "metadata": {
    "id": "12_Y8En8Bu1M"
   },
   "outputs": [
    {
     "data": {
      "text/plain": [
       "   Min. 1st Qu.  Median    Mean 3rd Qu.    Max. \n",
       " 0.0100  0.7575  1.5050  1.5050  2.2525  3.0000 "
      ]
     },
     "metadata": {},
     "output_type": "display_data"
    },
    {
     "data": {
      "text/plain": [
       "   Min. 1st Qu.  Median    Mean 3rd Qu.    Max. \n",
       " 0.2424  0.8173  0.9772  1.0224  1.1093  2.4776 "
      ]
     },
     "metadata": {},
     "output_type": "display_data"
    },
    {
     "data": {
      "image/png": "[encoded data removed]",
      "text/plain": [
       "plot without title"
      ]
     },
     "metadata": {
      "image/png": {
       "height": 600,
       "width": 840
      }
     },
     "output_type": "display_data"
    }
   ],
   "source": [
    "# VI. Examine, summarize and plot univariate distributions: \n",
    "# dot plot, box plot, histogram\n",
    "\n",
    "set.seed(1)\n",
    "x <- sample(seq(0.01, 3, length.out=500))\n",
    "y <- 0.5*x + 0.3^(x^2) + rnorm(500, mean=0, sd=(0.05*(1+x^2)))\n",
    "xy <- cbind(x, y)\n",
    "\n",
    "plot(xy, pch=20)\n",
    "summary(x) ; summary(y)   \t# Summarizes properties of an R object"
   ]
  },
  {
   "cell_type": "code",
   "execution_count": 76,
   "metadata": {
    "id": "ij9bEU1hBu1M"
   },
   "outputs": [
    {
     "data": {
      "text/html": [
       "<strong>pdf:</strong> 2"
      ],
      "text/latex": [
       "\\textbf{pdf:} 2"
      ],
      "text/markdown": [
       "**pdf:** 2"
      ],
      "text/plain": [
       "pdf \n",
       "  2 "
      ]
     },
     "metadata": {},
     "output_type": "display_data"
    },
    {
     "data": {
      "image/png": "[encoded data removed]",
      "text/plain": [
       "Plot with title “Boxplot for Y”"
      ]
     },
     "metadata": {
      "image/png": {
       "height": 600,
       "width": 840
      }
     },
     "output_type": "display_data"
    }
   ],
   "source": [
    "par(mfrow=c(1,2))  \t\t# Set up a two-panel figure\n",
    "boxplot(x,  notch=T, main='Boxplot for X')\n",
    "boxplot(y,  notch=T, pch=20, cex=0.5, main='Boxplot for Y')\n",
    "dev.copy2pdf(file='box.pdf')"
   ]
  },
  {
   "cell_type": "code",
   "execution_count": 77,
   "metadata": {
    "id": "DLtSdNdaBu1M"
   },
   "outputs": [
    {
     "data": {
      "image/png": "[encoded data removed]",
      "text/plain": [
       "Plot with title “”"
      ]
     },
     "metadata": {
      "image/png": {
       "height": 600,
       "width": 840
      }
     },
     "output_type": "display_data"
    }
   ],
   "source": [
    "par(mfrow=c(1,1))\n",
    "hist(x, breaks=30, main='', xlim=range(x), ylim=c(0,100), \n",
    "     xlab='Yvar', col='royalblue4')\n",
    "\n",
    "# add=TRUE suppresses a new plot, and plots on top of the existing one instead\n",
    "hist(y, breaks=30, main='', xlab='Yvar', \n",
    "     col='#ee3b3b70', add=TRUE)"
   ]
  },
  {
   "cell_type": "code",
   "execution_count": 78,
   "metadata": {
    "id": "ok9hIMnSBu1N"
   },
   "outputs": [
    {
     "data": {
      "image/png": "[encoded data removed]",
      "text/plain": [
       "Plot with title “Normal Q-Q Plot”"
      ]
     },
     "metadata": {
      "image/png": {
       "height": 600,
       "width": 840
      }
     },
     "output_type": "display_data"
    }
   ],
   "source": [
    "qqnorm(y, pch=20, cex=0.5)  # Quantile function of y compared to normal distribution\n",
    "qqline(y)\t\t\t\t\t# Expected relationship if y is normal"
   ]
  },
  {
   "cell_type": "code",
   "execution_count": 81,
   "metadata": {
    "id": "YpY2ku3QBu1N"
   },
   "outputs": [
    {
     "data": {
      "text/html": [
       "<strong>pdf:</strong> 2"
      ],
      "text/latex": [
       "\\textbf{pdf:} 2"
      ],
      "text/markdown": [
       "**pdf:** 2"
      ],
      "text/plain": [
       "pdf \n",
       "  2 "
      ]
     },
     "metadata": {},
     "output_type": "display_data"
    },
    {
     "data": {
      "image/png": "[encoded data removed]",
      "text/plain": [
       "Plot with title “”"
      ]
     },
     "metadata": {
      "image/png": {
       "height": 600,
       "width": 840
      }
     },
     "output_type": "display_data"
    }
   ],
   "source": [
    "plot(ecdf(x), pch=20, cex=0.0, verticals=TRUE, main='',ylab='EDF',xlab='')  \n",
    "plot(ecdf(y), pch=20, cex=0.0, verticals=TRUE, add=T)\n",
    "text(2.0,0.5,\"X\") ; text(1.4,0.8,\"Y\")             # text adds annotation within a plot\n",
    "dev.copy2pdf(file='ecdf.pdf')"
   ]
  },
  {
   "cell_type": "code",
   "execution_count": 90,
   "metadata": {
    "id": "ncdJ73d5Bu1N"
   },
   "outputs": [
    {
     "name": "stdout",
     "output_type": "stream",
     "text": [
      " num [1:500, 1:2] 1.945 1.005 0.777 2.509 2.826 ...\n",
      " - attr(*, \"dimnames\")=List of 2\n",
      "  ..$ : NULL\n",
      "  ..$ : chr [1:2] \"x\" \"y\"\n"
     ]
    },
    {
     "data": {
      "text/html": [
       "1.94541082164329"
      ],
      "text/latex": [
       "1.94541082164329"
      ],
      "text/markdown": [
       "1.94541082164329"
      ],
      "text/plain": [
       "[1] 1.945411"
      ]
     },
     "metadata": {},
     "output_type": "display_data"
    },
    {
     "data": {
      "text/html": [
       "TRUE"
      ],
      "text/latex": [
       "TRUE"
      ],
      "text/markdown": [
       "TRUE"
      ],
      "text/plain": [
       "[1] TRUE"
      ]
     },
     "metadata": {},
     "output_type": "display_data"
    }
   ],
   "source": [
    "# VII. Arrays, data frames and filtering\n",
    "\n",
    "# Here xy is an `array' of numbers created by `column bind'\n",
    "\n",
    "xy <- cbind(x, y)  ;  str(xy)\n",
    "\n",
    "# A data.frame associates names to the columns\n",
    "\n",
    "xy <- as.data.frame(xy)         \n",
    "names(xy) <- c('Xvar', 'Yvar')\n",
    "\n",
    "# As with lists, access named columns with $\n",
    "\n",
    "xy$Xvar[1]\n",
    "\n",
    "# Collect rows where the first column value exceeds 2\n",
    "# A lack of index means \"all indices\". Spaces added here for readability\n",
    "high_x1 <- xy[xy[ ,1]>2, ]\n",
    "high_x2 <- subset(xy, xy[ ,1]>2)\t# Another way to extract rows\n",
    "setequal(high_x1, high_x2)      # test equality of two vectors"
   ]
  },
  {
   "cell_type": "code",
   "execution_count": 94,
   "metadata": {},
   "outputs": [
    {
     "data": {
      "text/html": [
       "\n",
       "<table style=\"width: 100%;\"><tr><td>sample {base}</td><td style=\"text-align: right;\">R Documentation</td></tr></table>\n",
       "\n",
       "<h2>Random Samples and Permutations</h2>\n",
       "\n",
       "<h3>Description</h3>\n",
       "\n",
       "<p><code>sample</code> takes a sample of the specified size from the elements\n",
       "of <code>x</code> using either with or without replacement.\n",
       "</p>\n",
       "\n",
       "\n",
       "<h3>Usage</h3>\n",
       "\n",
       "<pre><code class='language-R'>sample(x, size, replace = FALSE, prob = NULL)\n",
       "\n",
       "sample.int(n, size = n, replace = FALSE, prob = NULL,\n",
       "           useHash = (n &gt; 1e+07 &amp;&amp; !replace &amp;&amp; is.null(prob) &amp;&amp; size &lt;= n/2))\n",
       "</code></pre>\n",
       "\n",
       "\n",
       "<h3>Arguments</h3>\n",
       "\n",
       "<table>\n",
       "<tr style=\"vertical-align: top;\"><td><code>x</code></td>\n",
       "<td>\n",
       "<p>either a vector of one or more elements from which to choose,\n",
       "or a positive integer.  See &lsquo;Details.&rsquo;</p>\n",
       "</td></tr>\n",
       "<tr style=\"vertical-align: top;\"><td><code>n</code></td>\n",
       "<td>\n",
       "<p>a positive number, the number of items to choose from.  See\n",
       "&lsquo;Details.&rsquo;</p>\n",
       "</td></tr>\n",
       "<tr style=\"vertical-align: top;\"><td><code>size</code></td>\n",
       "<td>\n",
       "<p>a non-negative integer giving the number of items to choose.</p>\n",
       "</td></tr>\n",
       "<tr style=\"vertical-align: top;\"><td><code>replace</code></td>\n",
       "<td>\n",
       "<p>should sampling be with replacement?</p>\n",
       "</td></tr>\n",
       "<tr style=\"vertical-align: top;\"><td><code>prob</code></td>\n",
       "<td>\n",
       "<p>a vector of probability weights for obtaining the elements\n",
       "of the vector being sampled.</p>\n",
       "</td></tr>\n",
       "<tr style=\"vertical-align: top;\"><td><code>useHash</code></td>\n",
       "<td>\n",
       "<p><code>logical</code> indicating if the hash-version of\n",
       "the algorithm should be used.  Can only be used for <code>replace =\n",
       "      FALSE</code>, <code>prob = NULL</code>, and <code>size &lt;= n/2</code>, and really\n",
       "should be used for large <code>n</code>, as <code>useHash=FALSE</code> will use\n",
       "memory proportional to <code>n</code>.</p>\n",
       "</td></tr>\n",
       "</table>\n",
       "\n",
       "\n",
       "<h3>Details</h3>\n",
       "\n",
       "<p>If <code>x</code> has length 1, is numeric (in the sense of\n",
       "<code>is.numeric</code>) and <code>x &gt;= 1</code>, sampling <em>via</em>\n",
       "<code>sample</code> takes place from <code>1:x</code>.  <em>Note</em> that this\n",
       "convenience feature may lead to undesired behaviour when <code>x</code> is\n",
       "of varying length in calls such as <code>sample(x)</code>.  See the examples.\n",
       "</p>\n",
       "<p>Otherwise <code>x</code> can be any <span style=\"font-family: Courier New, Courier; color: #666666;\"><b>R</b></span> object for which <code>length</code> and\n",
       "subsetting by integers make sense: S3 or S4 methods for these\n",
       "operations will be dispatched as appropriate.\n",
       "</p>\n",
       "<p>For <code>sample</code> the default for <code>size</code> is the number of items\n",
       "inferred from the first argument, so that <code>sample(x)</code> generates a\n",
       "random permutation of the elements of <code>x</code> (or <code>1:x</code>).\n",
       "</p>\n",
       "<p>It is allowed to ask for <code>size = 0</code> samples with <code>n = 0</code> or\n",
       "a length-zero <code>x</code>, but otherwise <code>n &gt; 0</code> or positive\n",
       "<code>length(x)</code> is required.\n",
       "</p>\n",
       "<p>Non-integer positive numerical values of <code>n</code> or <code>x</code> will be\n",
       "truncated to the next smallest integer, which has to be no larger than\n",
       "<code>.Machine$integer.max</code>.\n",
       "</p>\n",
       "<p>The optional <code>prob</code> argument can be used to give a vector of\n",
       "weights for obtaining the elements of the vector being sampled.  They\n",
       "need not sum to one, but they should be non-negative and not all zero.\n",
       "If <code>replace</code> is true, Walker's alias method (Ripley, 1987) is\n",
       "used when there are more than 200 reasonably probable values: this\n",
       "gives results incompatible with those from <span style=\"font-family: Courier New, Courier; color: #666666;\"><b>R</b></span> &lt; 2.2.0.\n",
       "</p>\n",
       "<p>If <code>replace</code> is false, these probabilities are applied\n",
       "sequentially, that is the probability of choosing the next item is\n",
       "proportional to the weights amongst the remaining items.  The number\n",
       "of nonzero weights must be at least <code>size</code> in this case.\n",
       "</p>\n",
       "<p><code>sample.int</code> is a bare interface in which both <code>n</code> and\n",
       "<code>size</code> must be supplied as integers.\n",
       "</p>\n",
       "<p>Argument <code>n</code> can be larger than the largest integer of\n",
       "type <code>integer</code>, up to the largest representable integer in type\n",
       "<code>double</code>.  Only uniform sampling is supported.  Two\n",
       "random numbers are used to ensure uniform sampling of large integers.\n",
       "</p>\n",
       "\n",
       "\n",
       "<h3>Value</h3>\n",
       "\n",
       "<p>For <code>sample</code> a vector of length <code>size</code> with elements\n",
       "drawn from either <code>x</code> or from the integers <code>1:x</code>.\n",
       "</p>\n",
       "<p>For <code>sample.int</code>, an integer vector of length <code>size</code> with\n",
       "elements from <code>1:n</code>, or a double vector if\n",
       "<code class=\"reqn\">n \\ge 2^{31}</code>.\n",
       "</p>\n",
       "\n",
       "\n",
       "<h3>References</h3>\n",
       "\n",
       "<p>Becker, R. A., Chambers, J. M. and Wilks, A. R. (1988)\n",
       "<em>The New S Language</em>.\n",
       "Wadsworth &amp; Brooks/Cole.\n",
       "</p>\n",
       "<p>Ripley, B. D. (1987) <em>Stochastic Simulation</em>. Wiley.\n",
       "</p>\n",
       "\n",
       "\n",
       "<h3>See Also</h3>\n",
       "\n",
       "<p><code>RNGkind(sample.kind = ..)</code> about random number generation,\n",
       "notably the change of <code>sample()</code> results with <span style=\"font-family: Courier New, Courier; color: #666666;\"><b>R</b></span> version 3.6.0.\n",
       "</p>\n",
       "<p>CRAN package <a href=\"https://CRAN.R-project.org/package=sampling\"><span class=\"pkg\">sampling</span></a> for other methods of weighted sampling\n",
       "without replacement.\n",
       "</p>\n",
       "\n",
       "\n",
       "<h3>Examples</h3>\n",
       "\n",
       "<pre><code class='language-R'>x &lt;- 1:12\n",
       "# a random permutation\n",
       "sample(x)\n",
       "# bootstrap resampling -- only if length(x) &gt; 1 !\n",
       "sample(x, replace = TRUE)\n",
       "\n",
       "# 100 Bernoulli trials\n",
       "sample(c(0,1), 100, replace = TRUE)\n",
       "\n",
       "## More careful bootstrapping --  Consider this when using sample()\n",
       "## programmatically (i.e., in your function or simulation)!\n",
       "\n",
       "# sample()'s surprise -- example\n",
       "x &lt;- 1:10\n",
       "    sample(x[x &gt;  8]) # length 2\n",
       "    sample(x[x &gt;  9]) # oops -- length 10!\n",
       "    sample(x[x &gt; 10]) # length 0\n",
       "\n",
       "## safer version:\n",
       "resample &lt;- function(x, ...) x[sample.int(length(x), ...)]\n",
       "resample(x[x &gt;  8]) # length 2\n",
       "resample(x[x &gt;  9]) # length 1\n",
       "resample(x[x &gt; 10]) # length 0\n",
       "\n",
       "## R 3.0.0 and later\n",
       "sample.int(1e10, 12, replace = TRUE)\n",
       "sample.int(1e10, 12) # not that there is much chance of duplicates\n",
       "</code></pre>\n",
       "\n",
       "<hr /><div style=\"text-align: center;\">[Package <em>base</em> version 4.2.3 ]</div>\n",
       "</div>"
      ],
      "text/latex": [
       "\\inputencoding{utf8}\n",
       "\\HeaderA{sample}{Random Samples and Permutations}{sample}\n",
       "\\methaliasA{sample.int}{sample}{sample.int}\n",
       "\\keyword{distribution}{sample}\n",
       "%\n",
       "\\begin{Description}\\relax\n",
       "\\code{sample} takes a sample of the specified size from the elements\n",
       "of \\code{x} using either with or without replacement.\n",
       "\\end{Description}\n",
       "%\n",
       "\\begin{Usage}\n",
       "\\begin{verbatim}\n",
       "sample(x, size, replace = FALSE, prob = NULL)\n",
       "\n",
       "sample.int(n, size = n, replace = FALSE, prob = NULL,\n",
       "           useHash = (n > 1e+07 && !replace && is.null(prob) && size <= n/2))\n",
       "\\end{verbatim}\n",
       "\\end{Usage}\n",
       "%\n",
       "\\begin{Arguments}\n",
       "\\begin{ldescription}\n",
       "\\item[\\code{x}] either a vector of one or more elements from which to choose,\n",
       "or a positive integer.  See `Details.'\n",
       "\\item[\\code{n}] a positive number, the number of items to choose from.  See\n",
       "`Details.'\n",
       "\\item[\\code{size}] a non-negative integer giving the number of items to choose.\n",
       "\\item[\\code{replace}] should sampling be with replacement?\n",
       "\\item[\\code{prob}] a vector of probability weights for obtaining the elements\n",
       "of the vector being sampled.\n",
       "\\item[\\code{useHash}] \\code{\\LinkA{logical}{logical}} indicating if the hash-version of\n",
       "the algorithm should be used.  Can only be used for \\code{replace =\n",
       "      FALSE}, \\code{prob = NULL}, and \\code{size <= n/2}, and really\n",
       "should be used for large \\code{n}, as \\code{useHash=FALSE} will use\n",
       "memory proportional to \\code{n}.\n",
       "\\end{ldescription}\n",
       "\\end{Arguments}\n",
       "%\n",
       "\\begin{Details}\\relax\n",
       "If \\code{x} has length 1, is numeric (in the sense of\n",
       "\\code{\\LinkA{is.numeric}{is.numeric}}) and \\code{x >= 1}, sampling \\emph{via}\n",
       "\\code{sample} takes place from \\code{1:x}.  \\emph{Note} that this\n",
       "convenience feature may lead to undesired behaviour when \\code{x} is\n",
       "of varying length in calls such as \\code{sample(x)}.  See the examples.\n",
       "\n",
       "Otherwise \\code{x} can be any \\R{} object for which \\code{length} and\n",
       "subsetting by integers make sense: S3 or S4 methods for these\n",
       "operations will be dispatched as appropriate.\n",
       "\n",
       "For \\code{sample} the default for \\code{size} is the number of items\n",
       "inferred from the first argument, so that \\code{sample(x)} generates a\n",
       "random permutation of the elements of \\code{x} (or \\code{1:x}).\n",
       "\n",
       "It is allowed to ask for \\code{size = 0} samples with \\code{n = 0} or\n",
       "a length-zero \\code{x}, but otherwise \\code{n > 0} or positive\n",
       "\\code{length(x)} is required.\n",
       "\n",
       "Non-integer positive numerical values of \\code{n} or \\code{x} will be\n",
       "truncated to the next smallest integer, which has to be no larger than\n",
       "\\code{\\LinkA{.Machine}{.Machine}\\$integer.max}.\n",
       "\n",
       "The optional \\code{prob} argument can be used to give a vector of\n",
       "weights for obtaining the elements of the vector being sampled.  They\n",
       "need not sum to one, but they should be non-negative and not all zero.\n",
       "If \\code{replace} is true, Walker's alias method (Ripley, 1987) is\n",
       "used when there are more than 200 reasonably probable values: this\n",
       "gives results incompatible with those from \\R{} < 2.2.0.\n",
       "\n",
       "If \\code{replace} is false, these probabilities are applied\n",
       "sequentially, that is the probability of choosing the next item is\n",
       "proportional to the weights amongst the remaining items.  The number\n",
       "of nonzero weights must be at least \\code{size} in this case.\n",
       "\n",
       "\\code{sample.int} is a bare interface in which both \\code{n} and\n",
       "\\code{size} must be supplied as integers.\n",
       "\n",
       "Argument \\code{n} can be larger than the largest integer of\n",
       "type \\code{integer}, up to the largest representable integer in type\n",
       "\\code{double}.  Only uniform sampling is supported.  Two\n",
       "random numbers are used to ensure uniform sampling of large integers.\n",
       "\\end{Details}\n",
       "%\n",
       "\\begin{Value}\n",
       "For \\code{sample} a vector of length \\code{size} with elements\n",
       "drawn from either \\code{x} or from the integers \\code{1:x}.\n",
       "\n",
       "For \\code{sample.int}, an integer vector of length \\code{size} with\n",
       "elements from \\code{1:n}, or a double vector if\n",
       "\\eqn{n \\ge 2^{31}}{}.\n",
       "\\end{Value}\n",
       "%\n",
       "\\begin{References}\\relax\n",
       "Becker, R. A., Chambers, J. M. and Wilks, A. R. (1988)\n",
       "\\emph{The New S Language}.\n",
       "Wadsworth \\& Brooks/Cole.\n",
       "\n",
       "Ripley, B. D. (1987) \\emph{Stochastic Simulation}. Wiley.\n",
       "\\end{References}\n",
       "%\n",
       "\\begin{SeeAlso}\\relax\n",
       "\\code{\\LinkA{RNGkind}{RNGkind}(sample.kind = ..)} about random number generation,\n",
       "notably the change of \\code{sample()} results with \\R{} version 3.6.0.\n",
       "\n",
       "CRAN package \\Rhref{https://CRAN.R-project.org/package=sampling}{\\pkg{sampling}} for other methods of weighted sampling\n",
       "without replacement.\n",
       "\\end{SeeAlso}\n",
       "%\n",
       "\\begin{Examples}\n",
       "\\begin{ExampleCode}\n",
       "x <- 1:12\n",
       "# a random permutation\n",
       "sample(x)\n",
       "# bootstrap resampling -- only if length(x) > 1 !\n",
       "sample(x, replace = TRUE)\n",
       "\n",
       "# 100 Bernoulli trials\n",
       "sample(c(0,1), 100, replace = TRUE)\n",
       "\n",
       "## More careful bootstrapping --  Consider this when using sample()\n",
       "## programmatically (i.e., in your function or simulation)!\n",
       "\n",
       "# sample()'s surprise -- example\n",
       "x <- 1:10\n",
       "    sample(x[x >  8]) # length 2\n",
       "    sample(x[x >  9]) # oops -- length 10!\n",
       "    sample(x[x > 10]) # length 0\n",
       "\n",
       "## safer version:\n",
       "resample <- function(x, ...) x[sample.int(length(x), ...)]\n",
       "resample(x[x >  8]) # length 2\n",
       "resample(x[x >  9]) # length 1\n",
       "resample(x[x > 10]) # length 0\n",
       "\n",
       "## R 3.0.0 and later\n",
       "sample.int(1e10, 12, replace = TRUE)\n",
       "sample.int(1e10, 12) # not that there is much chance of duplicates\n",
       "\\end{ExampleCode}\n",
       "\\end{Examples}"
      ],
      "text/plain": [
       "sample                  package:base                   R Documentation\n",
       "\n",
       "_\bR_\ba_\bn_\bd_\bo_\bm _\bS_\ba_\bm_\bp_\bl_\be_\bs _\ba_\bn_\bd _\bP_\be_\br_\bm_\bu_\bt_\ba_\bt_\bi_\bo_\bn_\bs\n",
       "\n",
       "_\bD_\be_\bs_\bc_\br_\bi_\bp_\bt_\bi_\bo_\bn:\n",
       "\n",
       "     ‘sample’ takes a sample of the specified size from the elements of\n",
       "     ‘x’ using either with or without replacement.\n",
       "\n",
       "_\bU_\bs_\ba_\bg_\be:\n",
       "\n",
       "     sample(x, size, replace = FALSE, prob = NULL)\n",
       "     \n",
       "     sample.int(n, size = n, replace = FALSE, prob = NULL,\n",
       "                useHash = (n > 1e+07 && !replace && is.null(prob) && size <= n/2))\n",
       "     \n",
       "_\bA_\br_\bg_\bu_\bm_\be_\bn_\bt_\bs:\n",
       "\n",
       "       x: either a vector of one or more elements from which to choose,\n",
       "          or a positive integer.  See ‘Details.’\n",
       "\n",
       "       n: a positive number, the number of items to choose from.  See\n",
       "          ‘Details.’\n",
       "\n",
       "    size: a non-negative integer giving the number of items to choose.\n",
       "\n",
       " replace: should sampling be with replacement?\n",
       "\n",
       "    prob: a vector of probability weights for obtaining the elements of\n",
       "          the vector being sampled.\n",
       "\n",
       " useHash: ‘logical’ indicating if the hash-version of the algorithm\n",
       "          should be used.  Can only be used for ‘replace = FALSE’,\n",
       "          ‘prob = NULL’, and ‘size <= n/2’, and really should be used\n",
       "          for large ‘n’, as ‘useHash=FALSE’ will use memory\n",
       "          proportional to ‘n’.\n",
       "\n",
       "_\bD_\be_\bt_\ba_\bi_\bl_\bs:\n",
       "\n",
       "     If ‘x’ has length 1, is numeric (in the sense of ‘is.numeric’) and\n",
       "     ‘x >= 1’, sampling _via_ ‘sample’ takes place from ‘1:x’.  _Note_\n",
       "     that this convenience feature may lead to undesired behaviour when\n",
       "     ‘x’ is of varying length in calls such as ‘sample(x)’.  See the\n",
       "     examples.\n",
       "\n",
       "     Otherwise ‘x’ can be any R object for which ‘length’ and\n",
       "     subsetting by integers make sense: S3 or S4 methods for these\n",
       "     operations will be dispatched as appropriate.\n",
       "\n",
       "     For ‘sample’ the default for ‘size’ is the number of items\n",
       "     inferred from the first argument, so that ‘sample(x)’ generates a\n",
       "     random permutation of the elements of ‘x’ (or ‘1:x’).\n",
       "\n",
       "     It is allowed to ask for ‘size = 0’ samples with ‘n = 0’ or a\n",
       "     length-zero ‘x’, but otherwise ‘n > 0’ or positive ‘length(x)’ is\n",
       "     required.\n",
       "\n",
       "     Non-integer positive numerical values of ‘n’ or ‘x’ will be\n",
       "     truncated to the next smallest integer, which has to be no larger\n",
       "     than ‘.Machine$integer.max’.\n",
       "\n",
       "     The optional ‘prob’ argument can be used to give a vector of\n",
       "     weights for obtaining the elements of the vector being sampled.\n",
       "     They need not sum to one, but they should be non-negative and not\n",
       "     all zero.  If ‘replace’ is true, Walker's alias method (Ripley,\n",
       "     1987) is used when there are more than 200 reasonably probable\n",
       "     values: this gives results incompatible with those from R < 2.2.0.\n",
       "\n",
       "     If ‘replace’ is false, these probabilities are applied\n",
       "     sequentially, that is the probability of choosing the next item is\n",
       "     proportional to the weights amongst the remaining items.  The\n",
       "     number of nonzero weights must be at least ‘size’ in this case.\n",
       "\n",
       "     ‘sample.int’ is a bare interface in which both ‘n’ and ‘size’ must\n",
       "     be supplied as integers.\n",
       "\n",
       "     Argument ‘n’ can be larger than the largest integer of type\n",
       "     ‘integer’, up to the largest representable integer in type\n",
       "     ‘double’.  Only uniform sampling is supported.  Two random numbers\n",
       "     are used to ensure uniform sampling of large integers.\n",
       "\n",
       "_\bV_\ba_\bl_\bu_\be:\n",
       "\n",
       "     For ‘sample’ a vector of length ‘size’ with elements drawn from\n",
       "     either ‘x’ or from the integers ‘1:x’.\n",
       "\n",
       "     For ‘sample.int’, an integer vector of length ‘size’ with elements\n",
       "     from ‘1:n’, or a double vector if n >= 2^31.\n",
       "\n",
       "_\bR_\be_\bf_\be_\br_\be_\bn_\bc_\be_\bs:\n",
       "\n",
       "     Becker, R. A., Chambers, J. M. and Wilks, A. R. (1988) _The New S\n",
       "     Language_.  Wadsworth & Brooks/Cole.\n",
       "\n",
       "     Ripley, B. D. (1987) _Stochastic Simulation_. Wiley.\n",
       "\n",
       "_\bS_\be_\be _\bA_\bl_\bs_\bo:\n",
       "\n",
       "     ‘RNGkind(sample.kind = ..)’ about random number generation,\n",
       "     notably the change of ‘sample()’ results with R version 3.6.0.\n",
       "\n",
       "     CRAN package ‘sampling’ for other methods of weighted sampling\n",
       "     without replacement.\n",
       "\n",
       "_\bE_\bx_\ba_\bm_\bp_\bl_\be_\bs:\n",
       "\n",
       "     x <- 1:12\n",
       "     # a random permutation\n",
       "     sample(x)\n",
       "     # bootstrap resampling -- only if length(x) > 1 !\n",
       "     sample(x, replace = TRUE)\n",
       "     \n",
       "     # 100 Bernoulli trials\n",
       "     sample(c(0,1), 100, replace = TRUE)\n",
       "     \n",
       "     ## More careful bootstrapping --  Consider this when using sample()\n",
       "     ## programmatically (i.e., in your function or simulation)!\n",
       "     \n",
       "     # sample()'s surprise -- example\n",
       "     x <- 1:10\n",
       "         sample(x[x >  8]) # length 2\n",
       "         sample(x[x >  9]) # oops -- length 10!\n",
       "         sample(x[x > 10]) # length 0\n",
       "     \n",
       "     ## safer version:\n",
       "     resample <- function(x, ...) x[sample.int(length(x), ...)]\n",
       "     resample(x[x >  8]) # length 2\n",
       "     resample(x[x >  9]) # length 1\n",
       "     resample(x[x > 10]) # length 0\n",
       "     \n",
       "     ## R 3.0.0 and later\n",
       "     sample.int(1e10, 12, replace = TRUE)\n",
       "     sample.int(1e10, 12) # not that there is much chance of duplicates\n",
       "     "
      ]
     },
     "metadata": {},
     "output_type": "display_data"
    }
   ],
   "source": [
    "help(sample)"
   ]
  },
  {
   "cell_type": "code",
   "execution_count": 91,
   "metadata": {
    "id": "tOjtmrwbBu1N"
   },
   "outputs": [
    {
     "data": {
      "text/html": [
       "<table class=\"dataframe\">\n",
       "<caption>A data.frame: 20 × 2</caption>\n",
       "<thead>\n",
       "\t<tr><th></th><th scope=col>Xvar</th><th scope=col>Yvar</th></tr>\n",
       "\t<tr><th></th><th scope=col>&lt;dbl&gt;</th><th scope=col>&lt;dbl&gt;</th></tr>\n",
       "</thead>\n",
       "<tbody>\n",
       "\t<tr><th scope=row>365</th><td>1.3701804</td><td>0.7474357</td></tr>\n",
       "\t<tr><th scope=row>70</th><td>0.6271743</td><td>0.9346030</td></tr>\n",
       "\t<tr><th scope=row>64</th><td>2.4127856</td><td>1.6647248</td></tr>\n",
       "\t<tr><th scope=row>500</th><td>2.7603206</td><td>0.8825305</td></tr>\n",
       "\t<tr><th scope=row>281</th><td>2.0892184</td><td>0.9773200</td></tr>\n",
       "\t<tr><th scope=row>42</th><td>0.1238477</td><td>1.0158780</td></tr>\n",
       "\t<tr><th scope=row>39</th><td>0.6691182</td><td>0.9584457</td></tr>\n",
       "\t<tr><th scope=row>205</th><td>2.3229058</td><td>1.3180341</td></tr>\n",
       "\t<tr><th scope=row>225</th><td>0.2137275</td><td>1.1109325</td></tr>\n",
       "\t<tr><th scope=row>396</th><td>0.3335671</td><td>1.0662892</td></tr>\n",
       "\t<tr><th scope=row>103</th><td>2.0772345</td><td>0.5875749</td></tr>\n",
       "\t<tr><th scope=row>458</th><td>1.4600601</td><td>1.0011638</td></tr>\n",
       "\t<tr><th scope=row>185</th><td>1.2443487</td><td>0.7457332</td></tr>\n",
       "\t<tr><th scope=row>496</th><td>2.5506012</td><td>0.9916612</td></tr>\n",
       "\t<tr><th scope=row>378</th><td>2.2749699</td><td>1.3308069</td></tr>\n",
       "\t<tr><th scope=row>1</th><td>1.9454108</td><td>0.6358329</td></tr>\n",
       "\t<tr><th scope=row>138</th><td>1.4001403</td><td>0.9196471</td></tr>\n",
       "\t<tr><th scope=row>412</th><td>0.3155912</td><td>1.1018845</td></tr>\n",
       "\t<tr><th scope=row>165</th><td>2.8741683</td><td>2.2937229</td></tr>\n",
       "\t<tr><th scope=row>245</th><td>2.4786974</td><td>1.3711992</td></tr>\n",
       "</tbody>\n",
       "</table>\n"
      ],
      "text/latex": [
       "A data.frame: 20 × 2\n",
       "\\begin{tabular}{r|ll}\n",
       "  & Xvar & Yvar\\\\\n",
       "  & <dbl> & <dbl>\\\\\n",
       "\\hline\n",
       "\t365 & 1.3701804 & 0.7474357\\\\\n",
       "\t70 & 0.6271743 & 0.9346030\\\\\n",
       "\t64 & 2.4127856 & 1.6647248\\\\\n",
       "\t500 & 2.7603206 & 0.8825305\\\\\n",
       "\t281 & 2.0892184 & 0.9773200\\\\\n",
       "\t42 & 0.1238477 & 1.0158780\\\\\n",
       "\t39 & 0.6691182 & 0.9584457\\\\\n",
       "\t205 & 2.3229058 & 1.3180341\\\\\n",
       "\t225 & 0.2137275 & 1.1109325\\\\\n",
       "\t396 & 0.3335671 & 1.0662892\\\\\n",
       "\t103 & 2.0772345 & 0.5875749\\\\\n",
       "\t458 & 1.4600601 & 1.0011638\\\\\n",
       "\t185 & 1.2443487 & 0.7457332\\\\\n",
       "\t496 & 2.5506012 & 0.9916612\\\\\n",
       "\t378 & 2.2749699 & 1.3308069\\\\\n",
       "\t1 & 1.9454108 & 0.6358329\\\\\n",
       "\t138 & 1.4001403 & 0.9196471\\\\\n",
       "\t412 & 0.3155912 & 1.1018845\\\\\n",
       "\t165 & 2.8741683 & 2.2937229\\\\\n",
       "\t245 & 2.4786974 & 1.3711992\\\\\n",
       "\\end{tabular}\n"
      ],
      "text/markdown": [
       "\n",
       "A data.frame: 20 × 2\n",
       "\n",
       "| <!--/--> | Xvar &lt;dbl&gt; | Yvar &lt;dbl&gt; |\n",
       "|---|---|---|\n",
       "| 365 | 1.3701804 | 0.7474357 |\n",
       "| 70 | 0.6271743 | 0.9346030 |\n",
       "| 64 | 2.4127856 | 1.6647248 |\n",
       "| 500 | 2.7603206 | 0.8825305 |\n",
       "| 281 | 2.0892184 | 0.9773200 |\n",
       "| 42 | 0.1238477 | 1.0158780 |\n",
       "| 39 | 0.6691182 | 0.9584457 |\n",
       "| 205 | 2.3229058 | 1.3180341 |\n",
       "| 225 | 0.2137275 | 1.1109325 |\n",
       "| 396 | 0.3335671 | 1.0662892 |\n",
       "| 103 | 2.0772345 | 0.5875749 |\n",
       "| 458 | 1.4600601 | 1.0011638 |\n",
       "| 185 | 1.2443487 | 0.7457332 |\n",
       "| 496 | 2.5506012 | 0.9916612 |\n",
       "| 378 | 2.2749699 | 1.3308069 |\n",
       "| 1 | 1.9454108 | 0.6358329 |\n",
       "| 138 | 1.4001403 | 0.9196471 |\n",
       "| 412 | 0.3155912 | 1.1018845 |\n",
       "| 165 | 2.8741683 | 2.2937229 |\n",
       "| 245 | 2.4786974 | 1.3711992 |\n",
       "\n"
      ],
      "text/plain": [
       "    Xvar      Yvar     \n",
       "365 1.3701804 0.7474357\n",
       "70  0.6271743 0.9346030\n",
       "64  2.4127856 1.6647248\n",
       "500 2.7603206 0.8825305\n",
       "281 2.0892184 0.9773200\n",
       "42  0.1238477 1.0158780\n",
       "39  0.6691182 0.9584457\n",
       "205 2.3229058 1.3180341\n",
       "225 0.2137275 1.1109325\n",
       "396 0.3335671 1.0662892\n",
       "103 2.0772345 0.5875749\n",
       "458 1.4600601 1.0011638\n",
       "185 1.2443487 0.7457332\n",
       "496 2.5506012 0.9916612\n",
       "378 2.2749699 1.3308069\n",
       "1   1.9454108 0.6358329\n",
       "138 1.4001403 0.9196471\n",
       "412 0.3155912 1.1018845\n",
       "165 2.8741683 2.2937229\n",
       "245 2.4786974 1.3711992"
      ]
     },
     "metadata": {},
     "output_type": "display_data"
    },
    {
     "data": {
      "text/html": [
       "<table class=\"dataframe\">\n",
       "<caption>A data.frame: 20 × 2</caption>\n",
       "<thead>\n",
       "\t<tr><th></th><th scope=col>Xvar</th><th scope=col>Yvar</th></tr>\n",
       "\t<tr><th></th><th scope=col>&lt;dbl&gt;</th><th scope=col>&lt;dbl&gt;</th></tr>\n",
       "</thead>\n",
       "<tbody>\n",
       "\t<tr><th scope=row>305</th><td>2.9940080</td><td>1.7156475</td></tr>\n",
       "\t<tr><th scope=row>33</th><td>2.0412826</td><td>1.1690420</td></tr>\n",
       "\t<tr><th scope=row>95</th><td>0.8968136</td><td>0.6275851</td></tr>\n",
       "\t<tr><th scope=row>328</th><td>2.5625852</td><td>1.8185672</td></tr>\n",
       "\t<tr><th scope=row>258</th><td>1.4720441</td><td>0.5118487</td></tr>\n",
       "\t<tr><th scope=row>71</th><td>2.9580561</td><td>1.3992631</td></tr>\n",
       "\t<tr><th scope=row>103</th><td>2.0772345</td><td>0.5875749</td></tr>\n",
       "\t<tr><th scope=row>368</th><td>1.0166533</td><td>0.7309967</td></tr>\n",
       "\t<tr><th scope=row>450</th><td>0.9267735</td><td>0.9471256</td></tr>\n",
       "\t<tr><th scope=row>376</th><td>0.2077355</td><td>0.9907566</td></tr>\n",
       "\t<tr><th scope=row>153</th><td>1.4840281</td><td>0.8761777</td></tr>\n",
       "\t<tr><th scope=row>478</th><td>2.7902806</td><td>1.1248269</td></tr>\n",
       "\t<tr><th scope=row>134</th><td>0.4713828</td><td>1.0070678</td></tr>\n",
       "\t<tr><th scope=row>60</th><td>0.9627255</td><td>0.8970635</td></tr>\n",
       "\t<tr><th scope=row>214</th><td>1.0106613</td><td>0.6736433</td></tr>\n",
       "\t<tr><th scope=row>102</th><td>0.7110621</td><td>0.8209460</td></tr>\n",
       "\t<tr><th scope=row>241</th><td>1.2143888</td><td>0.6604694</td></tr>\n",
       "\t<tr><th scope=row>66</th><td>1.2383567</td><td>0.8015349</td></tr>\n",
       "\t<tr><th scope=row>161</th><td>2.6344890</td><td>1.6030574</td></tr>\n",
       "\t<tr><th scope=row>133</th><td>2.4906814</td><td>1.4692744</td></tr>\n",
       "</tbody>\n",
       "</table>\n"
      ],
      "text/latex": [
       "A data.frame: 20 × 2\n",
       "\\begin{tabular}{r|ll}\n",
       "  & Xvar & Yvar\\\\\n",
       "  & <dbl> & <dbl>\\\\\n",
       "\\hline\n",
       "\t305 & 2.9940080 & 1.7156475\\\\\n",
       "\t33 & 2.0412826 & 1.1690420\\\\\n",
       "\t95 & 0.8968136 & 0.6275851\\\\\n",
       "\t328 & 2.5625852 & 1.8185672\\\\\n",
       "\t258 & 1.4720441 & 0.5118487\\\\\n",
       "\t71 & 2.9580561 & 1.3992631\\\\\n",
       "\t103 & 2.0772345 & 0.5875749\\\\\n",
       "\t368 & 1.0166533 & 0.7309967\\\\\n",
       "\t450 & 0.9267735 & 0.9471256\\\\\n",
       "\t376 & 0.2077355 & 0.9907566\\\\\n",
       "\t153 & 1.4840281 & 0.8761777\\\\\n",
       "\t478 & 2.7902806 & 1.1248269\\\\\n",
       "\t134 & 0.4713828 & 1.0070678\\\\\n",
       "\t60 & 0.9627255 & 0.8970635\\\\\n",
       "\t214 & 1.0106613 & 0.6736433\\\\\n",
       "\t102 & 0.7110621 & 0.8209460\\\\\n",
       "\t241 & 1.2143888 & 0.6604694\\\\\n",
       "\t66 & 1.2383567 & 0.8015349\\\\\n",
       "\t161 & 2.6344890 & 1.6030574\\\\\n",
       "\t133 & 2.4906814 & 1.4692744\\\\\n",
       "\\end{tabular}\n"
      ],
      "text/markdown": [
       "\n",
       "A data.frame: 20 × 2\n",
       "\n",
       "| <!--/--> | Xvar &lt;dbl&gt; | Yvar &lt;dbl&gt; |\n",
       "|---|---|---|\n",
       "| 305 | 2.9940080 | 1.7156475 |\n",
       "| 33 | 2.0412826 | 1.1690420 |\n",
       "| 95 | 0.8968136 | 0.6275851 |\n",
       "| 328 | 2.5625852 | 1.8185672 |\n",
       "| 258 | 1.4720441 | 0.5118487 |\n",
       "| 71 | 2.9580561 | 1.3992631 |\n",
       "| 103 | 2.0772345 | 0.5875749 |\n",
       "| 368 | 1.0166533 | 0.7309967 |\n",
       "| 450 | 0.9267735 | 0.9471256 |\n",
       "| 376 | 0.2077355 | 0.9907566 |\n",
       "| 153 | 1.4840281 | 0.8761777 |\n",
       "| 478 | 2.7902806 | 1.1248269 |\n",
       "| 134 | 0.4713828 | 1.0070678 |\n",
       "| 60 | 0.9627255 | 0.8970635 |\n",
       "| 214 | 1.0106613 | 0.6736433 |\n",
       "| 102 | 0.7110621 | 0.8209460 |\n",
       "| 241 | 1.2143888 | 0.6604694 |\n",
       "| 66 | 1.2383567 | 0.8015349 |\n",
       "| 161 | 2.6344890 | 1.6030574 |\n",
       "| 133 | 2.4906814 | 1.4692744 |\n",
       "\n"
      ],
      "text/plain": [
       "    Xvar      Yvar     \n",
       "305 2.9940080 1.7156475\n",
       "33  2.0412826 1.1690420\n",
       "95  0.8968136 0.6275851\n",
       "328 2.5625852 1.8185672\n",
       "258 1.4720441 0.5118487\n",
       "71  2.9580561 1.3992631\n",
       "103 2.0772345 0.5875749\n",
       "368 1.0166533 0.7309967\n",
       "450 0.9267735 0.9471256\n",
       "376 0.2077355 0.9907566\n",
       "153 1.4840281 0.8761777\n",
       "478 2.7902806 1.1248269\n",
       "134 0.4713828 1.0070678\n",
       "60  0.9627255 0.8970635\n",
       "214 1.0106613 0.6736433\n",
       "102 0.7110621 0.8209460\n",
       "241 1.2143888 0.6604694\n",
       "66  1.2383567 0.8015349\n",
       "161 2.6344890 1.6030574\n",
       "133 2.4906814 1.4692744"
      ]
     },
     "metadata": {},
     "output_type": "display_data"
    },
    {
     "data": {
      "text/html": [
       "0.977173605158623"
      ],
      "text/latex": [
       "0.977173605158623"
      ],
      "text/markdown": [
       "0.977173605158623"
      ],
      "text/plain": [
       "[1] 0.9771736"
      ]
     },
     "metadata": {},
     "output_type": "display_data"
    },
    {
     "data": {
      "text/html": [
       "0.0102508507068293"
      ],
      "text/latex": [
       "0.0102508507068293"
      ],
      "text/markdown": [
       "0.0102508507068293"
      ],
      "text/plain": [
       "[1] 0.01025085"
      ]
     },
     "metadata": {},
     "output_type": "display_data"
    }
   ],
   "source": [
    "# VIII. Sampling and bootstrapping \n",
    "\n",
    "trials <- sample.int(length(xy[,1]),20) # 20 random rows\n",
    "xy[trials,]\t\n",
    "\n",
    "# 20 bootstrap resamples\n",
    "\n",
    "trials <- sample.int(length(xy[,1]),20, replace=T) \n",
    "xy[trials,]\t\n",
    "\n",
    "# Estimate the standard error of the median of Yvar\n",
    "\n",
    "median(xy[,2]) \n",
    "\n",
    "# Median absolute deviation estimate of median s.e.\n",
    "\n",
    "mad(xy[,2]) / sqrt(500)\t"
   ]
  },
  {
   "cell_type": "code",
   "execution_count": 97,
   "metadata": {},
   "outputs": [
    {
     "name": "stderr",
     "output_type": "stream",
     "text": [
      "Updating HTML index of packages in '.Library'\n",
      "\n",
      "Making 'packages.html' ...\n",
      " done\n",
      "\n"
     ]
    }
   ],
   "source": [
    "install.packages(\"boot\")"
   ]
  },
  {
   "cell_type": "code",
   "execution_count": 98,
   "metadata": {
    "id": "0Uhwm1bHBu1O"
   },
   "outputs": [
    {
     "data": {
      "text/plain": [
       "\n",
       "ORDINARY NONPARAMETRIC BOOTSTRAP\n",
       "\n",
       "\n",
       "Call:\n",
       "boot(data = xy[, 2], statistic = med, R = 1000)\n",
       "\n",
       "\n",
       "Bootstrap Statistics :\n",
       "     original        bias    std. error\n",
       "t1* 0.9771736 -1.271103e-05  0.01299467"
      ]
     },
     "metadata": {},
     "output_type": "display_data"
    },
    {
     "data": {
      "image/png": "[encoded data removed]",
      "text/plain": [
       "Plot with title “Histogram of boot(xy[, 2], med, R = 1000)$t”"
      ]
     },
     "metadata": {
      "image/png": {
       "height": 600,
       "width": 840
      }
     },
     "output_type": "display_data"
    }
   ],
   "source": [
    "library(boot)  \t\t\t# The following function in a base-R library\n",
    "med <- function(x,index) median(x[index])\n",
    "\n",
    "# Read help(boot) to understand its output list structure\n",
    "\n",
    "boot(xy[,2], med, R=1000) # Bootstrap estimate of median s.e. \n",
    "hist(boot(xy[,2], med, R=1000)$t, breaks=50, \n",
    "     xlab='Bootstrap median of Yvar')"
   ]
  },
  {
   "cell_type": "markdown",
   "metadata": {
    "id": "MEMiVMZLBu1O"
   },
   "source": [
    "> **Exercise 3.**  Bootstrap resampling. Use bootstrap resampling (random sampling with replacement) to estimate uncertainties of a statistic. Create a univariate sample with a weird distribution … maybe sampling from a polynomial or nonlinear function over some interval.  First, calculate the median and a robust measure of its standard error: $1.48*(MAD$ where MAD is the median absolute deviation and the 1.48 scales it to the standard deviation for a Gaussian distribution.   Second, estimate the uncertainty of the median from a bootstrap resampling.  Give the standard error, 95% confidence interval, and plot a histogram of the bootstrap medians."
   ]
  },
  {
   "cell_type": "code",
   "execution_count": 99,
   "metadata": {
    "id": "bP5QyQIaBu1O"
   },
   "outputs": [
    {
     "data": {
      "image/png": "[encoded data removed]",
      "text/plain": [
       "plot without title"
      ]
     },
     "metadata": {
      "image/png": {
       "height": 600,
       "width": 840
      }
     },
     "output_type": "display_data"
    }
   ],
   "source": [
    "# IX. Bivariate plots and correlation tests\n",
    "\n",
    "# Scatterplot. See help(points) for symbol shapes.\n",
    "par(mfrow=c(1,2))\n",
    "plot(xy, pch=20, cex=0.5)\t \n",
    "plot(log10(xy), pch=20, cex=0.5, xlab='log(Xvar)', ylab='log(Yvar)')"
   ]
  },
  {
   "cell_type": "code",
   "execution_count": 100,
   "metadata": {
    "id": "X2gfTmdfBu1P"
   },
   "outputs": [
    {
     "data": {
      "text/html": [
       "167"
      ],
      "text/latex": [
       "167"
      ],
      "text/markdown": [
       "167"
      ],
      "text/plain": [
       "[1] 167"
      ]
     },
     "metadata": {},
     "output_type": "display_data"
    },
    {
     "data": {
      "text/plain": [
       "\n",
       "\tPearson's product-moment correlation\n",
       "\n",
       "data:  x[x > 2] and y[x > 2]\n",
       "t = 5.4633, df = 165, p-value = 1.695e-07\n",
       "alternative hypothesis: true correlation is not equal to 0\n",
       "95 percent confidence interval:\n",
       " 0.2546585 0.5127717\n",
       "sample estimates:\n",
       "      cor \n",
       "0.3913858 \n"
      ]
     },
     "metadata": {},
     "output_type": "display_data"
    },
    {
     "data": {
      "text/plain": [
       "\n",
       "\tKendall's rank correlation tau\n",
       "\n",
       "data:  x[x > 2] and y[x > 2]\n",
       "z = 5.1525, p-value = 2.571e-07\n",
       "alternative hypothesis: true tau is not equal to 0\n",
       "sample estimates:\n",
       "      tau \n",
       "0.2685953 \n"
      ]
     },
     "metadata": {},
     "output_type": "display_data"
    }
   ],
   "source": [
    "length(x[x>2])\t\t# State length of a vector.  Use `dim' for an array or data.frame.\n",
    "# Parametric hypothesis test for bivariate correlation \n",
    "cor.test(x[x>2],y[x>2], method='pearson')\t\n",
    "# Nonparametric hypothesis test for bivariate correlation\n",
    "cor.test(x[x>2],y[x>2], method='kendall')\t"
   ]
  },
  {
   "cell_type": "markdown",
   "metadata": {
    "id": "I-vUcMm8Bu1P"
   },
   "source": [
    "# X. R for astronomical data analysis\n",
    "\n",
    "R was designed in the 1990s for interactive data exploration and analysis by a single user using a single CPU core with a graphics window.  The compiler was not optimized for speed.  However, today R has much improved compilers and considerable ability to use a multi-core environment (including GPUs).  It also was not viewed at a language appropriate for pipeline analysis of large datasets such as those emerging from astronomical satellites or observatories.  This criticism is valid in the sense that it does not have a large and growing software library of specialized code for astronomical data, such as the ~2000 CRAN packages in the _Bioconductor_ toolbox for genomics or the diverse packages in the _astropy_ project in Python.  \n",
    "\n",
    "However, R can be operated in batch mode, running scripts with the _Rscript_ (or with more flexibility, CRAN package _littler_) command line interface from the operating system prompt.  These commands can be embedded in parallelized scripts for supercomputers using PBS or related scripts.  Using Rscript, we at Penn State have reanalized the full dataset of a major NASA satellite survey (4-year lightcurves for ~150,000 stars observed by Kepler) and ~2 million lightcurves from a ground-based observatory.  The motivation for this approach is that the instrument-specific characteristics of the data reduction had already been performed in Python (Levels 2 and 3  data products), and the data were ready for advanced statistical analysis using CRAN packages.  In our case, sophisticated packages originally designed for econometrics play a central role, along with a Fortran code we wrote for a computationally intensive step.  R code for astronomical pipelines can be remarkably brief if one effectively uses the tens-of-thousands of advanced functions available in CRAN.\n",
    "\n",
    "The many statistical functionalities of R can also be run directly from Python and several other languages through bi-language interfaces.  R scripts can be embedded in Python using [rpy2](https://pypi.org/project/rpy2/) and, conversely, Python programs can be embedded in R scripts using CRAN package [reticulate](https://cran.r-project.org/web/packages/reticulate/index.html) or several other options.\n"
   ]
  },
  {
   "cell_type": "markdown",
   "metadata": {
    "id": "8Dbz7QYABu1P"
   },
   "source": [
    "# XI.  Resources for further study of R\n",
    "\n",
    "We give here a miscellaneous collection of commands and resources useful for learning more about R as a programming language.  \n",
    "\n",
    "* There are >700 books with 'R' in the title, most presenting both methodology and code tutorials.  A new book on R is published every ~10 days.  Two are devoted specifically to astronomy:\n",
    "  * [_Modern Statistical Methods for Astronomy with R Applications_](https://doi.org/10.1017/CBO9781139015653), 2012 E. D. Feigelson & G. J. Babu, Cambridge Univ Press\n",
    "  * [_Bayesian Models for Astrophysical Data Using R, JAGS, Python, and Stan_](https://doi.org/10.1017/CBO9781316459515), 2018, J. M. Hilbe, R. S. de Souza & E. E. O. Ishida, Cambridge Univ Press\n",
    "\n",
    "* Two high-quality introductions to R:\n",
    "  * From the R Core Team: https://cran.r-project.org/doc/manuals/R-intro.html\n",
    "  * From Carnegie-Mellon University: http://www.stat.cmu.edu/~cshalizi/statcomp/14/\n",
    "\n",
    "* There are vast informal online learning resources about R programming: \n",
    "  *  [R-bloggers](https://www.r-bloggers.com) aggregates entries from ~1100 blogs.  \n",
    "  * [Stack Overflow] has ~400,000 questions and answers about R programming.\n",
    "  * CRAN packages are often described in two open-access journals: Journal of Statistical Software and The R Journal.  These articles also appear as _vignettes_ within the R environment.  \n",
    "\n"
   ]
  },
  {
   "cell_type": "code",
   "execution_count": 101,
   "metadata": {
    "id": "6VeAHqTxBu1Q"
   },
   "outputs": [
    {
     "data": {
      "text/html": [
       "<style>\n",
       ".list-inline {list-style: none; margin:0; padding: 0}\n",
       ".list-inline>li {display: inline-block}\n",
       ".list-inline>li:not(:last-child)::after {content: \"\\00b7\"; padding: 0 .5ex}\n",
       "</style>\n",
       "<ol class=list-inline><li>'a'</li><li>'ageUniv'</li><li>'ageUniv_DE'</li><li>'ageUniv_matter'</li><li>'ageUniv_realistic'</li><li>'ang'</li><li>'b_list'</li><li>'d'</li><li>'d2'</li><li>'dist'</li><li>'distGR'</li><li>'E.H0'</li><li>'fcn'</li><li>'H_0'</li><li>'high_x1'</li><li>'high_x2'</li><li>'i'</li><li>'lum.dist'</li><li>'med'</li><li>'Omega_Lambda'</li><li>'Omega_m'</li><li>'output'</li><li>'speed.light'</li><li>'trials'</li><li>'univ.age'</li><li>'x'</li><li>'xy'</li><li>'y'</li><li>'ymax'</li><li>'ymin'</li><li>'z'</li></ol>\n"
      ],
      "text/latex": [
       "\\begin{enumerate*}\n",
       "\\item 'a'\n",
       "\\item 'ageUniv'\n",
       "\\item 'ageUniv\\_DE'\n",
       "\\item 'ageUniv\\_matter'\n",
       "\\item 'ageUniv\\_realistic'\n",
       "\\item 'ang'\n",
       "\\item 'b\\_list'\n",
       "\\item 'd'\n",
       "\\item 'd2'\n",
       "\\item 'dist'\n",
       "\\item 'distGR'\n",
       "\\item 'E.H0'\n",
       "\\item 'fcn'\n",
       "\\item 'H\\_0'\n",
       "\\item 'high\\_x1'\n",
       "\\item 'high\\_x2'\n",
       "\\item 'i'\n",
       "\\item 'lum.dist'\n",
       "\\item 'med'\n",
       "\\item 'Omega\\_Lambda'\n",
       "\\item 'Omega\\_m'\n",
       "\\item 'output'\n",
       "\\item 'speed.light'\n",
       "\\item 'trials'\n",
       "\\item 'univ.age'\n",
       "\\item 'x'\n",
       "\\item 'xy'\n",
       "\\item 'y'\n",
       "\\item 'ymax'\n",
       "\\item 'ymin'\n",
       "\\item 'z'\n",
       "\\end{enumerate*}\n"
      ],
      "text/markdown": [
       "1. 'a'\n",
       "2. 'ageUniv'\n",
       "3. 'ageUniv_DE'\n",
       "4. 'ageUniv_matter'\n",
       "5. 'ageUniv_realistic'\n",
       "6. 'ang'\n",
       "7. 'b_list'\n",
       "8. 'd'\n",
       "9. 'd2'\n",
       "10. 'dist'\n",
       "11. 'distGR'\n",
       "12. 'E.H0'\n",
       "13. 'fcn'\n",
       "14. 'H_0'\n",
       "15. 'high_x1'\n",
       "16. 'high_x2'\n",
       "17. 'i'\n",
       "18. 'lum.dist'\n",
       "19. 'med'\n",
       "20. 'Omega_Lambda'\n",
       "21. 'Omega_m'\n",
       "22. 'output'\n",
       "23. 'speed.light'\n",
       "24. 'trials'\n",
       "25. 'univ.age'\n",
       "26. 'x'\n",
       "27. 'xy'\n",
       "28. 'y'\n",
       "29. 'ymax'\n",
       "30. 'ymin'\n",
       "31. 'z'\n",
       "\n",
       "\n"
      ],
      "text/plain": [
       " [1] \"a\"                 \"ageUniv\"           \"ageUniv_DE\"       \n",
       " [4] \"ageUniv_matter\"    \"ageUniv_realistic\" \"ang\"              \n",
       " [7] \"b_list\"            \"d\"                 \"d2\"               \n",
       "[10] \"dist\"              \"distGR\"            \"E.H0\"             \n",
       "[13] \"fcn\"               \"H_0\"               \"high_x1\"          \n",
       "[16] \"high_x2\"           \"i\"                 \"lum.dist\"         \n",
       "[19] \"med\"               \"Omega_Lambda\"      \"Omega_m\"          \n",
       "[22] \"output\"            \"speed.light\"       \"trials\"           \n",
       "[25] \"univ.age\"          \"x\"                 \"xy\"               \n",
       "[28] \"y\"                 \"ymax\"              \"ymin\"             \n",
       "[31] \"z\"                "
      ]
     },
     "metadata": {},
     "output_type": "display_data"
    },
    {
     "name": "stdout",
     "output_type": "stream",
     "text": [
      "Do nothing Num =  1 \n",
      " Num =  2 \n",
      " Num =  3 \n",
      " Num =  4 \n",
      " Num =  5 \n",
      " Num =  6 \n",
      " Num =  7 \n",
      " Num =  8 \n",
      " Num =  9 \n",
      " Num =  10 \n"
     ]
    },
    {
     "data": {
      "text/html": [
       "<style>\n",
       ".dl-inline {width: auto; margin:0; padding: 0}\n",
       ".dl-inline>dt, .dl-inline>dd {float: none; width: auto; display: inline-block}\n",
       ".dl-inline>dt::after {content: \":\\0020\"; padding-right: .5ex}\n",
       ".dl-inline>dt:not(:first-of-type) {padding-left: .5ex}\n",
       "</style><dl class=dl-inline><dt>sysname</dt><dd>'Darwin'</dd><dt>release</dt><dd>'24.5.0'</dd><dt>version</dt><dd>'Darwin Kernel Version 24.5.0: Tue Apr 22 19:54:33 PDT 2025; root:xnu-11417.121.6~2/RELEASE_ARM64_T8122'</dd><dt>nodename</dt><dd>'Eckharts-MacBook-Air.local'</dd><dt>machine</dt><dd>'arm64'</dd><dt>login</dt><dd>'eckhartspalding'</dd><dt>user</dt><dd>'eckhartspalding'</dd><dt>effective_user</dt><dd>'eckhartspalding'</dd></dl>\n"
      ],
      "text/latex": [
       "\\begin{description*}\n",
       "\\item[sysname] 'Darwin'\n",
       "\\item[release] '24.5.0'\n",
       "\\item[version] 'Darwin Kernel Version 24.5.0: Tue Apr 22 19:54:33 PDT 2025; root:xnu-11417.121.6\\textasciitilde{}2/RELEASE\\_ARM64\\_T8122'\n",
       "\\item[nodename] 'Eckharts-MacBook-Air.local'\n",
       "\\item[machine] 'arm64'\n",
       "\\item[login] 'eckhartspalding'\n",
       "\\item[user] 'eckhartspalding'\n",
       "\\item[effective\\textbackslash{}\\_user] 'eckhartspalding'\n",
       "\\end{description*}\n"
      ],
      "text/markdown": [
       "sysname\n",
       ":   'Darwin'release\n",
       ":   '24.5.0'version\n",
       ":   'Darwin Kernel Version 24.5.0: Tue Apr 22 19:54:33 PDT 2025; root:xnu-11417.121.6~2/RELEASE_ARM64_T8122'nodename\n",
       ":   'Eckharts-MacBook-Air.local'machine\n",
       ":   'arm64'login\n",
       ":   'eckhartspalding'user\n",
       ":   'eckhartspalding'effective_user\n",
       ":   'eckhartspalding'\n",
       "\n"
      ],
      "text/plain": [
       "                                                                                                 sysname \n",
       "                                                                                                \"Darwin\" \n",
       "                                                                                                 release \n",
       "                                                                                                \"24.5.0\" \n",
       "                                                                                                 version \n",
       "\"Darwin Kernel Version 24.5.0: Tue Apr 22 19:54:33 PDT 2025; root:xnu-11417.121.6~2/RELEASE_ARM64_T8122\" \n",
       "                                                                                                nodename \n",
       "                                                                            \"Eckharts-MacBook-Air.local\" \n",
       "                                                                                                 machine \n",
       "                                                                                                 \"arm64\" \n",
       "                                                                                                   login \n",
       "                                                                                       \"eckhartspalding\" \n",
       "                                                                                                    user \n",
       "                                                                                       \"eckhartspalding\" \n",
       "                                                                                          effective_user \n",
       "                                                                                       \"eckhartspalding\" "
      ]
     },
     "metadata": {},
     "output_type": "display_data"
    },
    {
     "data": {
      "text/plain": [
       "   user  system elapsed \n",
       "  0.016   0.003   0.019 "
      ]
     },
     "metadata": {},
     "output_type": "display_data"
    },
    {
     "data": {
      "text/html": [
       "'NGC1068.J.FITS'"
      ],
      "text/latex": [
       "'NGC1068.J.FITS'"
      ],
      "text/markdown": [
       "'NGC1068.J.FITS'"
      ],
      "text/plain": [
       "[1] \"NGC1068.J.FITS\""
      ]
     },
     "metadata": {},
     "output_type": "display_data"
    },
    {
     "name": "stderr",
     "output_type": "stream",
     "text": [
      "Updating HTML index of packages in '.Library'\n",
      "\n",
      "Making 'packages.html' ...\n",
      " done\n",
      "\n",
      "Warning message:\n",
      "“package ‘astrolibR’ is not available for this version of R\n",
      "\n",
      "A version of this package for your version of R might be available elsewhere,\n",
      "see the ideas at\n",
      "https://cran.r-project.org/doc/manuals/r-patched/R-admin.html#Installing-packages”\n"
     ]
    },
    {
     "ename": "ERROR",
     "evalue": "Error in library(astrolibR): there is no package called ‘astrolibR’\n",
     "output_type": "error",
     "traceback": [
      "Error in library(astrolibR): there is no package called ‘astrolibR’\nTraceback:\n",
      "1. library(astrolibR)"
     ]
    }
   ],
   "source": [
    "# A list of the ~30 important CRAN packages embedded in the base-R environment\n",
    "library()\n",
    "\n",
    "# A full list of ~400 functions in R's `base' package\n",
    "library(help = \"base\")\n",
    "\n",
    "# Statistics in base R (~400 functions, tens-of-thousands more in CRAN and elsewhere in R)\n",
    "library(help='stats')\n",
    "\n",
    "# List current contents of your session environment\n",
    "ls()\n",
    "\n",
    "# Programming utilities including:\n",
    "#    Use `source' to bring in external R scripts\n",
    "#    Use `edit' to edit an R object\n",
    "#    Use 'environment' to segregate a collection of objects\n",
    "#    Functions `debug', `trace' and `browser' assist with code testing\n",
    "#    Function 'process.events' allows low-level handling of R commands\n",
    "library(help = 'utils')\n",
    "\n",
    "# Loops:  for( i in 1:100) { ... }\n",
    "# Program flow control:  if/else, ifelse, switch, while, repeat, next, break, stop\n",
    "foo <- 2\n",
    "if(foo == 1) cat('Hello world!') else cat('Do nothing')\n",
    "for(i in 1:10) { cat(' Num = ', i, '\\n') }\n",
    "\n",
    "# Graphics and devices in base R (other packages in CRAN)\n",
    "library(help='graphics')\n",
    "library(help='grDevices')\n",
    "\n",
    "# Parallel computing control in base R \n",
    "# CRAN has dozens of other high performance computing packages\n",
    "library(help='parallel')\n",
    "\n",
    "# Run an R script residing on disk\n",
    "help(source)\n",
    "\n",
    "# Save R objects (or your full environment) onto disk\n",
    "help(save) ; help(load)\n",
    "\n",
    "# Save or load history of R commands\n",
    "help(savehistory)  ;  help(loadhistory)\n",
    "\n",
    "# Connections, pipes, sockets, URLs, clipboard, compression, etc.\n",
    "help(connections)\n",
    " \n",
    "# Interact with host computer \n",
    "Sys.info()\n",
    "system('ls -l')\n",
    "system.time(fft(seq(0,1,length.out=1000000)))\t# A million fast Fourier transforms\n",
    "\n",
    "# Construct composite strings using 'paste'\n",
    "# Extract postions of a string using `substring'\n",
    "band_ir <- 'J'\n",
    "paste('NGC1068',band_ir,'FITS', sep='.')\n",
    "\n",
    "# FITS format reader/writer\n",
    "install.packages('FITSio') ; library(FITSio)\n",
    "\n",
    "# IDL Astro Library translated into R\n",
    "install.packages('astrolibR') ; library(astrolibR)\n",
    "\n",
    "# R/CRAN functions are public domain and can be wrapped from Python\n",
    "# programs using package rpy2.  Example:\n",
    "### pip install rpy2\n",
    "### import rpy2\n",
    "### import rpy2.robjects as robjects\n",
    "### R = robjects.r\n",
    "### ranGauss = R.rnorm(100)\n",
    "### print ranGauss\n",
    "\n",
    "# Python code can be wrapped into R using CRAN package 'reticulate' (among others)\n",
    "# R has similar interfaces to many other languages."
   ]
  },
  {
   "cell_type": "code",
   "execution_count": null,
   "metadata": {},
   "outputs": [],
   "source": []
  }
 ],
 "metadata": {
  "colab": {
   "provenance": []
  },
  "kernelspec": {
   "display_name": "R",
   "language": "R",
   "name": "ir"
  },
  "language_info": {
   "codemirror_mode": "r",
   "file_extension": ".r",
   "mimetype": "text/x-r-source",
   "name": "R",
   "pygments_lexer": "r",
   "version": "4.2.3"
  }
 },
 "nbformat": 4,
 "nbformat_minor": 4
}
