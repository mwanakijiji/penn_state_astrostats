{
 "cells": [
  {
   "cell_type": "markdown",
   "metadata": {
    "id": "spdr1DcPBu09"
   },
   "source": [
    "# R tutorial: Introduction to R\n",
    "### Summer School in Statistics for Astronomers\n",
    "### Instructor: Eric Feigelson (Penn State)"
   ]
  },
  {
   "cell_type": "markdown",
   "metadata": {
    "id": "D3x6fhQxBu0_"
   },
   "source": [
    "R is a powerful software environment for data analysis, graphics, and especially statistical analysis. It is available free to the public at www.r-project.org with easily installed binaries for Linux, MacOS and Windows.  This notebook provides an introduction to R designed for students and researchers in astronomy.  Some familiarity with scripting languages like Matlab or IDL is helpful.\n",
    "\n",
    "To use Jupyter notebooks, both Python and R need to be installed on your computer.  Python's *anaconda* distribution and *conda* package management system automatically include Jupyter Notebooks as an application accessed through the *Anaconda Navigator*.  \n",
    "\n",
    "However, it is possible that your Anaconda release did not automatically include the R kernel for Jupyter.  You can tell whether it is present if the R logo (blue R in front of gray ellipse) is shown at the top-right of the Jupyter page.  If it is missing, then the code cells below will fail upon execution. To install the R kernel within Python, type:\n",
    "\n",
    "    conda install -c r r-irkernel \n",
    "\n",
    "Alternatively, you can make R available to Jupyter from an R console by typing:\n",
    "\n",
    "    install.packages('IRkernel')  ;  IRkernel::installspec() \n",
    "\n",
    "For further discussion of the relationship between Python, R, Jupyter and other notebook environments, see https://www.datacamp.com/community/blog/jupyter-notebook-r\n",
    "\n",
    "---\n",
    "\n",
    "Some basic information:\n",
    "- R is driven by the command line in the R console.  Double-click the R icon or (in Linux) type 'R' in the terminal to open the console. \n",
    "- R has >100,000 'functions' that perform various tasks. Each function uses () brackets to list arguments and parameters.  \n",
    "- Every function has a 'help(fn)' page telling how it is used, what operation is run, and what output it produces with references an examples that can be cut-and-paste into an R console. It is essential for both novice and experienced R programmers to read help files.\n",
    "- A hash mark ( # ) denotes comments in an R script.  A semi-colon ( ; ) has the same action as a carriage return. Lines do not need to end with a semi-colon.\n",
    "- The commands in the Summer School tutorials can be run interactively in Jupyter, or cut-and-pasted into a separate R console."
   ]
  },
  {
   "cell_type": "code",
   "execution_count": null,
   "metadata": {
    "id": "eAJABtv8Bu1A"
   },
   "outputs": [],
   "source": [
    "# I.  Set up your session\n",
    "\n",
    "getwd()                     # find working directory.  \n",
    "#setwd('/Users/ericfeigelson/Desktop/Rdir')\n",
    "getwd()                     # see the working directory has changed\n",
    "citation()                  # quote this citation in any publication using R"
   ]
  },
  {
   "cell_type": "code",
   "execution_count": null,
   "metadata": {
    "id": "50368P1KBu1B"
   },
   "outputs": [],
   "source": [
    "sessionInfo()               # learn about your software environment"
   ]
  },
  {
   "cell_type": "code",
   "execution_count": null,
   "metadata": {
    "id": "NllX9mqjBu1C"
   },
   "outputs": [],
   "source": [
    "library()                   # see packages installed on your computer\n",
    "                            # ~30 are installed automatically with R"
   ]
  },
  {
   "cell_type": "code",
   "execution_count": null,
   "metadata": {
    "id": "MOe3iNpPBu1C"
   },
   "outputs": [],
   "source": [
    "# II. Create and characterize a vector\n",
    "\n",
    "a <- c(33, 44, 92, 58)      # combine numbers into a vector\n",
    "length(a)\n",
    "ls()                        # list names of objects in your environment\n",
    "class(a)                    # state the `class' of an R object (described in III below)\n",
    "str(a)                      # state the structure of an R object\n",
    "a                           # state the contents of an R object"
   ]
  },
  {
   "cell_type": "code",
   "execution_count": null,
   "metadata": {
    "id": "uombxsufBu1D"
   },
   "outputs": [],
   "source": [
    "# R vectors and arrays start at index 1, \n",
    "# unlike Python where the first element has index 0"
   ]
  },
  {
   "cell_type": "code",
   "execution_count": null,
   "metadata": {
    "id": "-ElvNLprBu1D"
   },
   "outputs": [],
   "source": [
    "write(file='output', a)     # write an ASCII file into the working directory\n",
    "save(file='output_bin', a)  # write a binary file\n",
    "Save(file='output_bin', a)  # error because 'Save' is not a known function.\n",
    "                            # R syntax is case sensitive."
   ]
  },
  {
   "cell_type": "code",
   "execution_count": null,
   "metadata": {
    "id": "P_QsFqwcBu1E"
   },
   "outputs": [],
   "source": [
    "sum(a)\n",
    "\n",
    "# Annotated write to console. The \\n symbol is a carriage return.\n",
    "cat('Sum of ', length(a), ' elements in the vector a = ', sum(a), '\\n')\n",
    "summary(a)                  # many R objects have a built-in 'summary' function"
   ]
  },
  {
   "cell_type": "code",
   "execution_count": null,
   "metadata": {
    "id": "HjYr11B9Bu1E"
   },
   "outputs": [],
   "source": [
    "# Manipulation of vector indices\n",
    "\n",
    "a[1:4]          # show all four elements of the vector\n",
    "a[3]            # note that R vectors start with index 1 not 0, unlike Python\n",
    "a > 40          # logical operation\n",
    "sum(a[a>40])    # note the self-referential use of vector/array indices here\n",
    "which.max(a)    # R has many built-in functions for vectors and arrays\n",
    "match(44, a)    # find the index of the element equal to 44"
   ]
  },
  {
   "cell_type": "markdown",
   "metadata": {
    "id": "E1HVblZ-Bu1F"
   },
   "source": [
    "### R classes\n",
    "\n",
    "R objects are placed into **classes**: numeric, character, logical, vector, matrix, factor, data.frame, list, and dozens of others designed by advanced R functions and CRAN packages. *plot, print, summary* functions are adapted to class objects; see e.g. methods(summary).  \n",
    "\n",
    "Two particularly important classes are the 'data frame' used for tabular data and the 'list' used as a bucket with heterogeneous content.  The data frame is a 2-dimensional array with associated column names. The list class allows a hierarchical structure of R objects such as scalars, vectors, arrays, and attributes.  Here we make a hierarchical list, use 'str' (structure) to show its contents, and access an element of the list using the $ delimiter. "
   ]
  },
  {
   "cell_type": "code",
   "execution_count": null,
   "metadata": {
    "id": "MVbc0JZzBu1F"
   },
   "outputs": [],
   "source": [
    "# III.  R classes and packages\n",
    "\n",
    "# Make and write a data.frame, a 2D array with column names\n",
    "\n",
    "d <- data.frame(cbind(seq(1:4), a, a^3))  # Bind columns into data frame\n",
    "names(d) <- c('ID', 'a', 'a_cubed') # Column names for data frame                                         \n",
    "d2 <- d[-4,-1]                            # Remove 4th row and 1st column\n",
    "d ; d2\n",
    "write.table(d, file='d.txt', quote=FALSE, row.names=FALSE)"
   ]
  },
  {
   "cell_type": "code",
   "execution_count": null,
   "metadata": {
    "id": "ztTRx65CBu1G"
   },
   "outputs": [],
   "source": [
    "# Make and show a list.\n",
    "\n",
    "b_list <- list(star=c('Sirius', 'Procyon'), SpTy=c('O','B','A'), Hubble_km.s=68)\n",
    "str(b_list)\n",
    "b_list[['SpTy']] = list(subtype=seq(0.1:0.9, by=0.1))\n",
    "str(b_list)\n",
    "\n",
    "# Access named elements of a list with the dollar sign ($)\n",
    "b_list$SpTy$subtype[1:3]"
   ]
  },
  {
   "cell_type": "markdown",
   "metadata": {
    "id": "l3gzeeavBu1G"
   },
   "source": [
    "### R packages\n",
    "\n",
    "The ~20,000 CRAN packages are obtained on-the-fly when they are needed. Several dozen packages are already in the base-R release, and can be used with the *library* or *require* command.  Most packages are on mirror sites hosted by institutions around the world, but are most easily downloaded from the commercial cloud at *https://cloud.r-project.org*. \n",
    "\n",
    "There is no useful index of the CRAN packages and their many functions. The collection expanded exponentially during the 2000s and is now growing by sevearal packages every day.  Expert volunteers in ~40 statistical areas update lists of CRAN packages in their area; these are accesses on the Web at [CRAN Task Views](https://cran.r-project.org/web/views/). Task Views of particular interest to astronomers include _Bayesian_, _Cluster_, _HighPerformanceComputing_, _MachineLearning_, _Multivariate_, _Optimization_, _Robust_, _Spatial_, _Survival_, and _TimeSeries_. \n",
    "\n",
    "Astronomy-specific packages (e.g. stellar evolutionary tracks, celestial mechanics) are listed in the _ChemPhys_ CRAN Task View. The package _FITSio_ reads astronomical FITS formatted files and headers, converting them into an R list. The package _astrolibR_ is a collection of long-established functionalities useful in astronomical research, translated from the _IDL Astronomy Library_."
   ]
  },
  {
   "cell_type": "code",
   "execution_count": null,
   "metadata": {
    "id": "CfyTfVFjBu1H"
   },
   "outputs": [],
   "source": [
    "# Download and use a CRAN package\n",
    "install.packages('xtable') # Download CRAN package\n",
    "library(xtable)                         # Bring LaTeX package into this R session\n",
    "print(xtable(d), file='d.tex')          # Use a function in the package\n",
    "                                        # Here we write an ASCII table with LaTeX format"
   ]
  },
  {
   "cell_type": "markdown",
   "metadata": {
    "id": "y3wODSx7Bu1H"
   },
   "source": [
    "### R help files\n",
    "\n",
    "R help files give essential information on all functions in a standard format:  \n",
    "1. The top lines give the package where the function resides and a brief description.  \n",
    "2. _Usage_ gives the list of inputs for the function.  Input parameters with an _=_ have a default and do not need to be specified by the user.  \n",
    "3. _Arguments_ describes these input parameters.  \n",
    "4. _Details_ summarizes the functionality including formulae and algorithms. \n",
    "5. _Value_ gives the output of the function.  Typically the program specifies _outfn <- fn(x,y,z, option='special')_ so the full list of output values are available for use, such as _plot(outfn$x, outfn$y)_. \n",
    "6. _References_ to published literature where the function is described.\n",
    "7. _See also_ links to R functions with related purpose to the current function.\n",
    "8. _Examples_ show usage of the function, often with a built-in dataset.  Examples in R help files can always be cut-and-pasted into any R console.\n",
    "9. Use the arrow keys to scroll. Press the space bar to page down. Type 'q' to exit.\n",
    "\n",
    "R programmers are constantly referring help files.  Read a few help files used below in this tutorial, such as _seq_, _mad_, and _integrate_. "
   ]
  },
  {
   "cell_type": "code",
   "execution_count": null,
   "metadata": {
    "id": "9oz0EHpqBu1I"
   },
   "outputs": [],
   "source": [
    "help(seq)"
   ]
  },
  {
   "cell_type": "code",
   "execution_count": null,
   "metadata": {
    "id": "Xsoo2wwXBu1I"
   },
   "outputs": [],
   "source": [
    "help(mad)"
   ]
  },
  {
   "cell_type": "code",
   "execution_count": null,
   "metadata": {
    "id": "E8FVcV7qBu1I"
   },
   "outputs": [],
   "source": [
    "help(integrate)"
   ]
  },
  {
   "cell_type": "code",
   "execution_count": null,
   "metadata": {
    "id": "jR8gkmzYBu1J"
   },
   "outputs": [],
   "source": [
    "# IV. Arithmetic, algebra, trigonometry, and formatting numerics\n",
    "\n",
    "5 + 3 ; 5-3 ; 5*3 ; 5/3 ; 5^3\n",
    "x <- 5 ; y <- 3\n",
    "x+y "
   ]
  },
  {
   "cell_type": "code",
   "execution_count": null,
   "metadata": {
    "id": "aSxCAf16Bu1J"
   },
   "outputs": [],
   "source": [
    "sin(0)  ; sin(pi/2)         # note angles are in radians\n",
    "ang <- seq(0, pi/2, length=30) \n",
    "sin(ang)"
   ]
  },
  {
   "cell_type": "code",
   "execution_count": null,
   "metadata": {
    "id": "Q9KE-u3wBu1K"
   },
   "outputs": [],
   "source": [
    "trunc(12345.6789) ; round(12345.6789)  \n",
    "format(12345.6789, digits=2, scientific=TRUE)   \n",
    "\n",
    "log(20)  ;  log10(20)   # log() in R is base-e. Use log10() for base-10 logarithms."
   ]
  },
  {
   "cell_type": "markdown",
   "metadata": {
    "id": "EKXQQmynBu1K"
   },
   "source": [
    "> **Exercise 1:** Practice R syntax.  Practice with some elementary R functions: arithmetic and algebra, 2-dimensional array manipulation, producing multi-element lists.  Write a brief program exercising program flow control (if, ifelse, when, repeat, break, stop, etc.)"
   ]
  },
  {
   "cell_type": "code",
   "execution_count": null,
   "metadata": {
    "id": "xedKpyEZBu1K"
   },
   "outputs": [],
   "source": [
    "# V. Astrophysical calculations of galaxy distances \n",
    "\n",
    "# The `function' function: Note how one function uses another\n",
    "# This how R builds new capabilities based on old capabilities in a compact syntax.\n",
    "\n",
    "# First, make a simple calculation without functions\n",
    "\n",
    "z <- seq(0.0, 0.5, 0.1)\n",
    "z\n",
    "H_0 <- 68  \t \t\t\t# km/s/Mpc,  Planck value\n",
    "\n",
    "# Unlike in Python, names of variables and functions are allowed to contain period\n",
    "# characters. The period is not an operator.\n",
    "speed.light <- 3.0E5  \t# km/s\n",
    "dist <- speed.light*z / H_0\n",
    "dist\n",
    "class(dist)"
   ]
  },
  {
   "cell_type": "code",
   "execution_count": null,
   "metadata": {
    "id": "0XeBS0vYBu1L"
   },
   "outputs": [],
   "source": [
    "# Now, make a more complicated calculation with function\n",
    "\n",
    "Omega_m <- (0.022068 + 0.12029) / (H_0/100)^2    \n",
    "Omega_Lambda <- 0.6825                    # Planck satellite values\n",
    "\n",
    "E.H0 <- function(redshift) {sqrt(Omega_m*(1+redshift)^3 + Omega_Lambda)}\n",
    "\n",
    "lum.dist <- function(redshift) {  \n",
    "\tluminosity.distance = (speed.light/H_0) * integrate(E.H0, 0, redshift)$value \n",
    "\treturn(luminosity.distance)\n",
    "}\n",
    "\n",
    "# Vectorize() takes the name of a function and creates a new function which\n",
    "# can be applied to a vector, rather than a number. In the line below we\n",
    "# create a vectorized version of `lum.dist` and immediately call it with our\n",
    "# vector `z` as the argument to compute the distance to each value in `z`.\n",
    "distGR <- Vectorize(lum.dist)(z)"
   ]
  },
  {
   "cell_type": "code",
   "execution_count": null,
   "metadata": {
    "id": "GVUw7oudBu1L"
   },
   "outputs": [],
   "source": [
    "# Plot the results\n",
    "# The 'plot' function has extensive options to change format; see 'help(par)'\n",
    "\n",
    "options(jupyter.plot_scale=1)\n",
    "options(repr.plot.width = 7, repr.plot.height = 5)\n",
    "\n",
    "plot(z, distGR, type='l', lty=2, lwd=2, ylab='Distance (Mpc)')\n",
    "lines(z, dist, lty=1, lwd=2)   \n",
    "legend(0.0, 2500, lty=c(1,2), lwd=c(2,2), title='Galaxy distances', \n",
    "     \tlegend=c('Euclidean', expression(Lambda*CDM)))"
   ]
  },
  {
   "cell_type": "markdown",
   "metadata": {
    "id": "DzR3md3qBu1L"
   },
   "source": [
    "> **Exercise 2.** Integrate an astrophysical function.  Estimate the age of the Universe as a function of redshift for a standard $\\Lambda$CDM universe model: \n",
    "$$ t(z) = H_0^{-1} \\int_{z}^{\\infty}\\frac{dz'}{(1+z')h(z')} $$ \n",
    "where $ h(z) = \\sqrt{(1-\\Omega_{total})(1+z)^2 + \\Omega_m(1+z)^3 + \\Omega_{\\Lambda} } $, $\\Omega_m$ is the matter density parameter, and $\\Omega_{\\Lambda}$ is the dark energy density parameter. Plot the age of the Universe vs. redshift ($z=0$ to 10) for three hypothetical universes: matter-dominated ($\\Omega_m=1.0$ and $\\Omega_{\\Lambda}=0.0$), dark-energy-dominated ($\\Omega_m=0.01$ and $\\Omega_{\\Lambda}=0.99$), and a realistic universe ($\\Omega_m=0.31$ and $\\Omega_{\\Lambda}=0.69$).  This problem and solution is courtesy of graduate student Phoebe Sandhaus, Penn State."
   ]
  },
  {
   "cell_type": "code",
   "execution_count": null,
   "metadata": {
    "id": "12_Y8En8Bu1M"
   },
   "outputs": [],
   "source": [
    "# VI. Examine, summarize and plot univariate distributions: \n",
    "# dot plot, box plot, histogram\n",
    "\n",
    "set.seed(1)\n",
    "x <- sample(seq(0.01, 3, length.out=500))\n",
    "y <- 0.5*x + 0.3^(x^2) + rnorm(500, mean=0, sd=(0.05*(1+x^2)))\n",
    "xy <- cbind(x, y)\n",
    "\n",
    "plot(xy, pch=20)\n",
    "summary(x) ; summary(y)   \t# Summarizes properties of an R object"
   ]
  },
  {
   "cell_type": "code",
   "execution_count": null,
   "metadata": {
    "id": "ij9bEU1hBu1M"
   },
   "outputs": [],
   "source": [
    "par(mfrow=c(1,2))  \t\t# Set up a two-panel figure\n",
    "boxplot(x,  notch=T, main='Boxplot for X')\n",
    "boxplot(y,  notch=T, pch=20, cex=0.5, main='Boxplot for Y')\n",
    "dev.copy2pdf(file='box.pdf')"
   ]
  },
  {
   "cell_type": "code",
   "execution_count": null,
   "metadata": {
    "id": "DLtSdNdaBu1M"
   },
   "outputs": [],
   "source": [
    "par(mfrow=c(1,1))\n",
    "hist(x, breaks=30, main='', xlim=range(x), ylim=c(0,100), \n",
    "     xlab='Yvar', col='royalblue4')\n",
    "\n",
    "# add=TRUE suppresses a new plot, and plots on top of the existing one instead\n",
    "hist(y, breaks=30, main='', xlab='Yvar', \n",
    "     col='#ee3b3b70', add=TRUE)"
   ]
  },
  {
   "cell_type": "code",
   "execution_count": null,
   "metadata": {
    "id": "ok9hIMnSBu1N"
   },
   "outputs": [],
   "source": [
    "qqnorm(y, pch=20, cex=0.5)  # Quantile function of y compared to normal distribution\n",
    "qqline(y)\t\t\t\t\t# Expected relationship if y is normal"
   ]
  },
  {
   "cell_type": "code",
   "execution_count": null,
   "metadata": {
    "id": "YpY2ku3QBu1N"
   },
   "outputs": [],
   "source": [
    "plot(ecdf(x), pch=20, cex=0.0, verticals=TRUE, main='',ylab='EDF',xlab='')  \n",
    "plot(ecdf(y), pch=20, cex=0.0, verticals=TRUE, add=T)\n",
    "text(2.0,0.5,\"X\") ; text(1.4,0.8,\"Y\")             # text adds annotation within a plot\n",
    "dev.copy2pdf(file='ecdf.pdf')"
   ]
  },
  {
   "cell_type": "code",
   "execution_count": null,
   "metadata": {
    "id": "ncdJ73d5Bu1N"
   },
   "outputs": [],
   "source": [
    "# VII. Arrays, data frames and filtering\n",
    "\n",
    "# Here xy is an `array' of numbers created by `column bind'\n",
    "\n",
    "xy <- cbind(x, y)  ;  str(xy) \t\n",
    "\n",
    "# A data.frame associates names to the columns\n",
    "\n",
    "xy <- as.data.frame(xy)         \n",
    "names(xy) <- c('Xvar', 'Yvar')\n",
    "\n",
    "# As with lists, access named columns with $\n",
    "\n",
    "xy$Xvar[1]\n",
    "\n",
    "# Collect rows where the first column value exceeds 2\n",
    "# A lack of index means \"all indices\". Spaces added here for readability\n",
    "high_x1 <- xy[xy[ ,1]>2, ]        \n",
    "high_x2 <- subset(xy, xy[ ,1]>2)\t# Another way to extract rows\n",
    "setequal(high_x1, high_x2)      # test equality of two vectors"
   ]
  },
  {
   "cell_type": "code",
   "execution_count": null,
   "metadata": {
    "id": "tOjtmrwbBu1N"
   },
   "outputs": [],
   "source": [
    "# VIII. Sampling and bootstrapping \n",
    "\n",
    "trials <- sample.int(length(xy[,1]),20) # 20 random rows\n",
    "xy[trials,]\t\n",
    "\n",
    "# 20 bootstrap resamples\n",
    "\n",
    "trials <- sample.int(length(xy[,1]),20, replace=T) \n",
    "xy[trials,]\t\n",
    "\n",
    "# Estimate the standard error of the median of Yvar\n",
    "\n",
    "median(xy[,2]) \n",
    "\n",
    "# Median absolute deviation estimate of median s.e.\n",
    "\n",
    "mad(xy[,2]) / sqrt(500)\t"
   ]
  },
  {
   "cell_type": "code",
   "execution_count": null,
   "metadata": {
    "id": "0Uhwm1bHBu1O"
   },
   "outputs": [],
   "source": [
    "library(boot)  \t\t\t# The following function in a base-R library\n",
    "med <- function(x,index) median(x[index])\n",
    "\n",
    "# Read help(boot) to understand its output list structure\n",
    "\n",
    "boot(xy[,2], med, R=1000) # Bootstrap estimate of median s.e. \n",
    "hist(boot(xy[,2], med, R=1000)$t, breaks=50, \n",
    "     xlab='Bootstrap median of Yvar')"
   ]
  },
  {
   "cell_type": "markdown",
   "metadata": {
    "id": "MEMiVMZLBu1O"
   },
   "source": [
    "> **Exercise 3.**  Bootstrap resampling. Use bootstrap resampling (random sampling with replacement) to estimate uncertainties of a statistic. Create a univariate sample with a weird distribution … maybe sampling from a polynomial or nonlinear function over some interval.  First, calculate the median and a robust measure of its standard error: $1.48*(MAD$ where MAD is the median absolute deviation and the 1.48 scales it to the standard deviation for a Gaussian distribution.   Second, estimate the uncertainty of the median from a bootstrap resampling.  Give the standard error, 95% confidence interval, and plot a histogram of the bootstrap medians."
   ]
  },
  {
   "cell_type": "code",
   "execution_count": null,
   "metadata": {
    "id": "bP5QyQIaBu1O"
   },
   "outputs": [],
   "source": [
    "# IX. Bivariate plots and correlation tests\n",
    "\n",
    "# Scatterplot. See help(points) for symbol shapes.\n",
    "par(mfrow=c(1,2))\n",
    "plot(xy, pch=20, cex=0.5)\t \n",
    "plot(log10(xy), pch=20, cex=0.5, xlab='log(Xvar)', ylab='log(Yvar)')"
   ]
  },
  {
   "cell_type": "code",
   "execution_count": null,
   "metadata": {
    "id": "X2gfTmdfBu1P"
   },
   "outputs": [],
   "source": [
    "length(x[x>2])\t\t# State length of a vector.  Use `dim' for an array or data.frame.\n",
    "# Parametric hypothesis test for bivariate correlation \n",
    "cor.test(x[x>2],y[x>2], method='pearson')\t\n",
    "# Nonparametric hypothesis test for bivariate correlation\n",
    "cor.test(x[x>2],y[x>2], method='kendall')\t"
   ]
  },
  {
   "cell_type": "markdown",
   "metadata": {
    "id": "I-vUcMm8Bu1P"
   },
   "source": [
    "# X. R for astronomical data analysis\n",
    "\n",
    "R was designed in the 1990s for interactive data exploration and analysis by a single user using a single CPU core with a graphics window.  The compiler was not optimized for speed.  However, today R has much improved compilers and considerable ability to use a multi-core environment (including GPUs).  It also was not viewed at a language appropriate for pipeline analysis of large datasets such as those emerging from astronomical satellites or observatories.  This criticism is valid in the sense that it does not have a large and growing software library of specialized code for astronomical data, such as the ~2000 CRAN packages in the _Bioconductor_ toolbox for genomics or the diverse packages in the _astropy_ project in Python.  \n",
    "\n",
    "However, R can be operated in batch mode, running scripts with the _Rscript_ (or with more flexibility, CRAN package _littler_) command line interface from the operating system prompt.  These commands can be embedded in parallelized scripts for supercomputers using PBS or related scripts.  Using Rscript, we at Penn State have reanalized the full dataset of a major NASA satellite survey (4-year lightcurves for ~150,000 stars observed by Kepler) and ~2 million lightcurves from a ground-based observatory.  The motivation for this approach is that the instrument-specific characteristics of the data reduction had already been performed in Python (Levels 2 and 3  data products), and the data were ready for advanced statistical analysis using CRAN packages.  In our case, sophisticated packages originally designed for econometrics play a central role, along with a Fortran code we wrote for a computationally intensive step.  R code for astronomical pipelines can be remarkably brief if one effectively uses the tens-of-thousands of advanced functions available in CRAN.\n",
    "\n",
    "The many statistical functionalities of R can also be run directly from Python and several other languages through bi-language interfaces.  R scripts can be embedded in Python using [rpy2](https://pypi.org/project/rpy2/) and, conversely, Python programs can be embedded in R scripts using CRAN package [reticulate](https://cran.r-project.org/web/packages/reticulate/index.html) or several other options.\n"
   ]
  },
  {
   "cell_type": "markdown",
   "metadata": {
    "id": "8Dbz7QYABu1P"
   },
   "source": [
    "# XI.  Resources for further study of R\n",
    "\n",
    "We give here a miscellaneous collection of commands and resources useful for learning more about R as a programming language.  \n",
    "\n",
    "* There are >700 books with 'R' in the title, most presenting both methodology and code tutorials.  A new book on R is published every ~10 days.  Two are devoted specifically to astronomy:\n",
    "  * [_Modern Statistical Methods for Astronomy with R Applications_](https://doi.org/10.1017/CBO9781139015653), 2012 E. D. Feigelson & G. J. Babu, Cambridge Univ Press\n",
    "  * [_Bayesian Models for Astrophysical Data Using R, JAGS, Python, and Stan_](https://doi.org/10.1017/CBO9781316459515), 2018, J. M. Hilbe, R. S. de Souza & E. E. O. Ishida, Cambridge Univ Press\n",
    "\n",
    "* Two high-quality introductions to R:\n",
    "  * From the R Core Team: https://cran.r-project.org/doc/manuals/R-intro.html\n",
    "  * From Carnegie-Mellon University: http://www.stat.cmu.edu/~cshalizi/statcomp/14/\n",
    "\n",
    "* There are vast informal online learning resources about R programming: \n",
    "  *  [R-bloggers](https://www.r-bloggers.com) aggregates entries from ~1100 blogs.  \n",
    "  * [Stack Overflow] has ~400,000 questions and answers about R programming.\n",
    "  * CRAN packages are often described in two open-access journals: Journal of Statistical Software and The R Journal.  These articles also appear as _vignettes_ within the R environment.  \n",
    "\n"
   ]
  },
  {
   "cell_type": "code",
   "execution_count": null,
   "metadata": {
    "id": "6VeAHqTxBu1Q"
   },
   "outputs": [],
   "source": [
    "# A list of the ~30 important CRAN packages embedded in the base-R environment\n",
    "library()\n",
    "\n",
    "# A full list of ~400 functions in R's `base' package\n",
    "library(help = \"base\")\n",
    "\n",
    "# Statistics in base R (~400 functions, tens-of-thousands more in CRAN and elsewhere in R)\n",
    "library(help='stats')\n",
    "\n",
    "# List current contents of your session environment\n",
    "ls()\n",
    "\n",
    "# Programming utilities including:\n",
    "#    Use `source' to bring in external R scripts\n",
    "#    Use `edit' to edit an R object\n",
    "#    Use 'environment' to segregate a collection of objects\n",
    "#    Functions `debug', `trace' and `browser' assist with code testing\n",
    "#    Function 'process.events' allows low-level handling of R commands\n",
    "library(help = 'utils')\n",
    "\n",
    "# Loops:  for( i in 1:100) { ... }\n",
    "# Program flow control:  if/else, ifelse, switch, while, repeat, next, break, stop\n",
    "foo <- 2\n",
    "if(foo == 1) cat('Hello world!') else cat('Do nothing')\n",
    "for(i in 1:10) { cat(' Num = ', i, '\\n') }\n",
    "\n",
    "# Graphics and devices in base R (other packages in CRAN)\n",
    "library(help='graphics')\n",
    "library(help='grDevices')\n",
    "\n",
    "# Parallel computing control in base R \n",
    "# CRAN has dozens of other high performance computing packages\n",
    "library(help='parallel')\n",
    "\n",
    "# Run an R script residing on disk\n",
    "help(source)\n",
    "\n",
    "# Save R objects (or your full environment) onto disk\n",
    "help(save) ; help(load)\n",
    "\n",
    "# Save or load history of R commands\n",
    "help(savehistory)  ;  help(loadhistory)\n",
    "\n",
    "# Connections, pipes, sockets, URLs, clipboard, compression, etc.\n",
    "help(connections)\n",
    " \n",
    "# Interact with host computer \n",
    "Sys.info()\n",
    "system('ls -l')\n",
    "system.time(fft(seq(0,1,length.out=1000000)))\t# A million fast Fourier transforms\n",
    "\n",
    "# Construct composite strings using 'paste'\n",
    "# Extract postions of a string using `substring'\n",
    "band_ir <- 'J'\n",
    "paste('NGC1068',band_ir,'FITS', sep='.')\n",
    "\n",
    "# FITS format reader/writer\n",
    "install.packages('FITSio') ; library(FITSio)\n",
    "\n",
    "# IDL Astro Library translated into R\n",
    "install.packages('astrolibR') ; library(astrolibR)\n",
    "\n",
    "# R/CRAN functions are public domain and can be wrapped from Python\n",
    "# programs using package rpy2.  Example:\n",
    "### pip install rpy2\n",
    "### import rpy2\n",
    "### import rpy2.robjects as robjects\n",
    "### R = robjects.r\n",
    "### ranGauss = R.rnorm(100)\n",
    "### print ranGauss\n",
    "\n",
    "# Python code can be wrapped into R using CRAN package 'reticulate' (among others)\n",
    "# R has similar interfaces to many other languages."
   ]
  }
 ],
 "metadata": {
  "colab": {
   "provenance": []
  },
  "kernelspec": {
   "display_name": "R (system-wide)",
   "language": "r",
   "metadata": {
    "cocalc": {
     "description": "R statistical programming language",
     "priority": 10,
     "url": "https://www.r-project.org/"
    }
   },
   "name": "ir",
   "resource_dir": "/ext/jupyter/kernels/ir"
  },
  "language_info": {
   "codemirror_mode": "r",
   "file_extension": ".r",
   "mimetype": "text/x-r-source",
   "name": "R",
   "pygments_lexer": "r",
   "version": "4.0.5"
  }
 },
 "nbformat": 4,
 "nbformat_minor": 1
}
