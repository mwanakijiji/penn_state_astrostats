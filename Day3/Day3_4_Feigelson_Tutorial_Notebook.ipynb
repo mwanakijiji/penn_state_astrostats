{
 "cells": [
  {
   "cell_type": "markdown",
   "metadata": {},
   "source": [
    "# Linear and Nonlinear Regression\n",
    "## Eric Feigelson \n",
    "## Summer School in Statistics for Astronomers"
   ]
  },
  {
   "cell_type": "markdown",
   "metadata": {},
   "source": [
    "**In this tutorial, we exercise two types of regression using R and its CRAN packages.  First, we consider cases where a global mathematical function is assumed to apply to the full dataset.  These include linear and nonlinear regression with options such as weighting my measurement errors and robust treatment of outliers.  A crucial aspect is goodness-of-fit and residual analysis to confirm that the best-fit model is indeed a good fit.  Second we consider several local regression methods where a continuous curve is estimated from sequential pieces of the data.**"
   ]
  },
  {
   "cell_type": "markdown",
   "metadata": {},
   "source": [
    "## 1. Linear modeling\n",
    "\n",
    "We start by running one of the most widely used functions in R, _lm_ for linear modeling, and related procedures. But vefore we start, it is important to note that, in statistical parlance, 'linear' refers to a much broader range of models than $Y = \\beta_0 + \\beta_1 X + \\epsilon$.  It includes any model that is linear in the model **parameters**.  Thus the following models are 'linear' and an encompassed by the powerful theorems underlying linear modeling:\n",
    "- $Y = \\beta_0 + \\beta_1 X + \\beta_2 X^2 + \\epsilon$ (polynomial)\n",
    "- $Y = \\beta_0 e^{-X} + \\epsilon$ (exponential)\n",
    "- $Y = \\beta_0 + \\beta_1 sin X + \\beta_2 cos X + \\epsilon$ (sinusoid)\n",
    "\n",
    "In contrast the following models are nonlinear:\n",
    "- $Y = (X/\\beta_0)^{-\\beta_1}+ \\epsilon$  power law (Pareto)\n",
    "- $Y = \\beta_0 e^{-X/\\beta_1} + \\epsilon$ (scaled exponential)\n",
    "- $Y = \\beta_0 / (1 + (X/\\beta_1)^2) + \\epsilon$  isothermal sphere\n",
    "- $Y = \\beta_0 + \\beta_1 sin(X + \\beta_2) + \\beta_3 cos(X + \\beta_2) + \\epsilon$  sinusoid with arbitrary phase\n",
    "- $Y = [\\beta_0 + \\beta_1 X for X < \\beta_2] and [\\beta_3 + \\beta_4 X for X > \\beta_2]$ segmented linear\n",
    "- Most astrophysical models like $\\Lambda$CDM cosmology "
   ]
  },
  {
   "cell_type": "markdown",
   "metadata": {},
   "source": [
    "We will practice linear modeling with a collection of photometry of spectroscopically confirmed quasars from the Sloan Digital Sky Sruvey.  We examine a relationship between the magnitdues in two bands; this is scientifically rather useless, but gives opportunity to test methodology for simple linear regression with difficulties common in astronomical regressions:  non-Gaussian scatter, heteroscedastic measurement errors, and outliers.  \n",
    "\n",
    "Note that the theory of linear modeling is not restricted to bivariate problems: it is intrinsically multivariate in the sense that a single response variable $Y$ can be a function of a vector of covariates $\\bf{X}$ as in the simple model: $Y = \\beta_0 + \\beta_1 X_1 + \\beta_2 X_2 + ... + \\beta_p X_p + \\epsilon$."
   ]
  },
  {
   "cell_type": "code",
   "execution_count": 0,
   "metadata": {},
   "outputs": [],
   "source": [
    "# I. Construct large and small samples of 77K SDSS quasars\n",
    "\n",
    "if(!require(\"astrodatR\", quietly=T)) {\n",
    "  install.packages(\"astrodatR\", repos=\"https://cloud.r-project.org\", dependencies=TRUE)\n",
    "}; library(\"astrodatR\")\n",
    "data(SDSS_QSO)     # brings tabular data into an R data.frame\n",
    "\n",
    "# Basic information about a data.frame\n",
    "dim(SDSS_QSO)      # number of rows and columns\n",
    "names(SDSS_QSO)    # names of columns\n",
    "summary(SDSS_QSO)  # 5-number summary of each column"
   ]
  },
  {
   "cell_type": "code",
   "execution_count": 0,
   "metadata": {},
   "outputs": [],
   "source": [
    "# Remove some bad photometry\n",
    "\n",
    "qso <- SDSS_QSO[-which(SDSS_QSO[,3] == 0 | SDSS_QSO[,9] == 0),]\n",
    "qso <- qso[-which(qso[,4] == 9.999 | qso[,12] == 9.999),]\n",
    "qso[(qso[,4]<0.02),4 ] <- 0.02        # set threshold on magnitude errors\n",
    "dim(qso) ; summary(qso)\n",
    "attach(qso)"
   ]
  },
  {
   "cell_type": "markdown",
   "metadata": {},
   "source": [
    "When applied to a data.frame, the R function `attach` allows the user to access a column by its names (e.g. r_mag) without remembering their column number (e.g. qso[,3])."
   ]
  },
  {
   "cell_type": "code",
   "execution_count": 0,
   "metadata": {},
   "outputs": [],
   "source": [
    "# Plot dataset of SDSS quasar i vs. u magnitudes showing \n",
    "# heteroscedastic measurement errors, with contours for dense regions\n",
    "\n",
    "options(jupyter.plot_scale=1)\n",
    "options(repr.plot.width = 7, repr.plot.height = 5)\n",
    "\n",
    "plot(i_mag, u_mag, pch=20, cex=0.1, col='#00000040', xlim=c(16,21), \n",
    "   ylim=c(16.5,23.5), xlab=\"SDSS i (mag)\", ylab=\"SDSS u (mag)\")\n",
    "for(i in 50:150) {\n",
    "   lines(c(i_mag[i],i_mag[i]),c((u_mag[i]+sig_u_mag[i]),\n",
    "      (u_mag[i]-sig_u_mag[i])), lwd=2, col='purple2')\n",
    "   lines(c((i_mag[i]+sig_i_mag[i]),(i_mag[i]-sig_i_mag[i])),\n",
    "      c(u_mag[i],u_mag[i]), lwd=2, col='purple2')   }\n",
    "\n",
    "if(!require(\"KernSmooth\", quietly=T)) {\n",
    "  install.packages(\"KernSmooth\", repos=\"https://cloud.r-project.org\", dependencies=TRUE)\n",
    "}; library(\"KernSmooth\")\n",
    "smqso <- bkde2D(cbind(i_mag, u_mag), bandwidth=c(0.05, 0.05), gridsize=c(400,400))\n",
    "contour(smqso$x1, smqso$x2, smqso$fhat, add=T, col='gold', nlevels=9)"
   ]
  },
  {
   "cell_type": "markdown",
   "metadata": {},
   "source": [
    "Here we see a disturbed dataset. There is wide asymmetrical scatter towards main magnitudes in the SDSS u (ultraviolet) band.  Much of the scatter is attributable to measurement errors, but not all of it. Let us now run _lm_ with the formula: $u = \\beta_0 + \\beta_1 i + \\epsilon$, obtain 90% confidence interval of the intercept and slope parameters, and show the scatter plot with the fitted line. "
   ]
  },
  {
   "cell_type": "code",
   "execution_count": 0,
   "metadata": {},
   "outputs": [],
   "source": [
    "# II. Ordinary least squares fit\n",
    "\n",
    "fit_ols <- lm(u_mag~i_mag)\n",
    "summary(fit_ols) \n",
    "confint(fit_ols, level=0.90)          # 3 sigma equivalent for Gaussian distribution\n",
    "\n",
    "plot(i_mag, u_mag, pch=20, cex=0.1, col='#00000040', xlim=c(16,21), \n",
    "   ylim=c(16.5,23.5), xlab=\"SDSS i (mag)\", ylab=\"SDSS u (mag)\")\n",
    "abline(fit_ols$coef, lty=1, lwd=2)     # solid black line"
   ]
  },
  {
   "cell_type": "markdown",
   "metadata": {},
   "source": [
    "Note that, since the scatter is non-Gaussian, the theorems underlying ordinary least squares means that the fit is not a maximum likelihood estimator and the parameter uncertainties may not be reliable.  Visually, this is a terrible fit, missing most of the data points.  We now try to improve it in three ways:  weighting by measurement errors; applying `robust` downweighting of outliers; and applying both corrections.  "
   ]
  },
  {
   "cell_type": "code",
   "execution_count": 0,
   "metadata": {},
   "outputs": [],
   "source": [
    "# III. Weighted least squares fit\n",
    "\n",
    "fit_wt <- lm(u_mag~i_mag, x=T, weights=1/(sig_u_mag*sig_u_mag))\n",
    "summary(fit_wt)\n",
    "\n",
    "plot(i_mag, u_mag, pch=20, cex=0.1, col='#00000040', xlim=c(16,21), \n",
    "   ylim=c(16.5,23.5), xlab=\"SDSS i (mag)\", ylab=\"SDSS u (mag)\")\n",
    "abline(fit_wt$coef,lty=2,lwd=2, col='green')    # dashed green line"
   ]
  },
  {
   "cell_type": "markdown",
   "metadata": {},
   "source": [
    "This is the ***minimum chi-squared regression*** commonly used by astronomers; statisticians would call it ***weighted least squares regression with weights from heteroscedastic measurement errors***.  Here we see that most of the problems can be removed with measurement error weighting. However, the calculation is obviously wrong in this case because (in statistical parlance) the model is misspecified because only a portion of the scatter is caused by measurement error.  \n",
    "\n",
    "Astronomers often do not carefully examine the accuracy and validity of their regression fits.  Diagnostic graphics are very useful for this.  Here are the plots produced automatically by R's `lm` function. For interpretation and details, see the text [_A Modern Approach to Regression with R_](https://link.springer.com/book/10.1007%2F978-0-387-09608-7) (S. Sheather, 2009)."
   ]
  },
  {
   "cell_type": "code",
   "execution_count": 0,
   "metadata": {},
   "outputs": [],
   "source": [
    "# Diagnostic plots involving regression residuals help identify outliers\n",
    "\n",
    "par(mfrow=c(2,2))\t\t\n",
    "plot(fit_wt, which=c(2:5), caption='', sub.caption='' ,pch=20, cex=0.3, \n",
    "   cex.lab=1.3, cex.axis=1.3)"
   ]
  },
  {
   "cell_type": "markdown",
   "metadata": {},
   "source": [
    "Other regression diagnostic tests can be applied to help evaluate the validity of the statistical model and its best-fit parameters.  The most important is a nonparametric two-sample test between the cumulative distribution functions of the observed and fitted values of the response variable. The Kolmogorov-Smirnov test is commonly used, but the Cramer-von Mises and Anderson-Darling tests are more sensitive.   However, theorems show that tabulated probabilities are inapplicable when the second distribution is from a model based on the first distribution.  We thus use bootstrap replications to estimate probabilities. This capability is provided by CRAN package 'cramer' for the Cramer-von Mises test.  To avoid excessive computational time, we only treat the first 1000 points here. The weighted linear fit is obviously rejected by the test.  "
   ]
  },
  {
   "cell_type": "code",
   "execution_count": 0,
   "metadata": {},
   "outputs": [],
   "source": [
    "# Goodness-of-fit for a 2D regression\n",
    "\n",
    "if(!require(\"cramer\", quietly=T)) {\n",
    "  install.packages(\"cramer\", repos=\"https://cloud.r-project.org\", dependencies=TRUE)\n",
    "}; library(\"cramer\")\n",
    "cramer.test(fit_wt$model$u_mag[1:1000], fit_wt$fitted.values[1:1000], replicates=100)\n",
    "\n",
    "plot(ecdf(fit_wt$model$u_mag[1:1000]), cex=0, col='royalblue', lwd=2, xlab='SDSS u (mag)', ylab='c.d.f.', main='Observed and fitted u magnitude')\n",
    "plot(ecdf(fit_wt$fitted.values[1:1000]), cex=0, col='magenta', lwd=2, add=TRUE)\n",
    "text(22, 0.5, 'Observed', cex=1.5, col='royalblue')\n",
    "text(19, 0.8, 'Model', cex=1.5, col='magenta')"
   ]
  },
  {
   "cell_type": "markdown",
   "metadata": {},
   "source": [
    "Another approach to non-Gaussianity and outliers is to apply _robust_ regression techniques.  These are many variants; here R's _rlm_ (robust linear modeling) function, downweighting outliers using Huber's psi function, with and without measurement error weighting.  Unfortunately, this code does not have a built-in line plotting option, so we draw the lines manually from information in the _rlm_ output.  See various approaches in R at the CRAN Task View on Robust Statistics."
   ]
  },
  {
   "cell_type": "code",
   "execution_count": 0,
   "metadata": {},
   "outputs": [],
   "source": [
    "# Robust M-estimator\n",
    "\n",
    "library(MASS)\n",
    "fit_M <- rlm(u_mag~i_mag, method='M')\t# robust fit with Huber's psi functon\n",
    "summary(fit_M)  \n",
    "aM <- fit_M$coef[[1]] ; bM <- fit_M$coef[[2]]\n",
    "\n",
    "plot(i_mag, u_mag, pch=20, cex=0.1, col='#00000040', xlim=c(16,21), \n",
    "   ylim=c(16.5,23.5), xlab=\"SDSS i (mag)\", ylab=\"SDSS u (mag)\")\n",
    "lines(c(16,21), c(aM+bM*16, aM+bM*21), lty=3, lwd=3, col='royalblue3') # dotted royal blue line\n",
    "\n",
    "fit_Mwt <- rlm(u_mag~i_mag, method='M', weights=1/(sig_u_mag*sig_u_mag), \n",
    "   wt.method='inv.var')   # robust fit with measurement error weighting \n",
    "summary(fit_Mwt)  \n",
    "aMwt <- fit_Mwt$coef[[1]] ; bMwt <- fit_Mwt$coef[[2]]\n",
    "\n",
    "lines(c(16,21), c(aMwt+bMwt*16, aMwt+bMwt*21), lty=3, lwd=5, col='orange')\n",
    "text(19.5, 17, 'u = 0.13 + 1.02*i', cex=1.3, col='orange')\n",
    "\n",
    "abline(fit_wt$coef,lty=2,lwd=2, col='green')    # dashed green line (weighted LS fit)"
   ]
  },
  {
   "cell_type": "markdown",
   "metadata": {},
   "source": [
    "Here we see that a robust regression line that downweights outliers treated most of the problem with bad u-band photometry.  And a line that treats ***both outliers and measurement errors*** did a great job (orange line).  This is probably the preferred result for this problem.  But of course, the model is misspecified as the residuals are far from homoscedastic Gaussian noise, so the scientific meaning of the result (slope = 1.02) is suspect. \n"
   ]
  },
  {
   "cell_type": "markdown",
   "metadata": {},
   "source": [
    "> **Exercise 1**.  Try different robustification options in _rlm_ such as MM estimation and different choices of removal of outlying points (options in _lqs_). "
   ]
  },
  {
   "cell_type": "markdown",
   "metadata": {},
   "source": [
    "### 2. Nonlinear regression\n",
    "\n",
    "<center><img src=\"Ilc_9yr_moll4096.png\" width=400>  <img src=\"587px-PowerSpectrumExt.svg.png\" width=400></center>\n",
    "\n",
    "Astronomers often fit data with nonlinear functions derived from astrophysical theory that we believe apply to the observed situation. Among important recent applications of nonlinear regression are the fitting of the consensus Lambda-CDM model of cosmology to the fluctuations in the cosmic microwave background (images above, WMAP results) and the fitting of Keplerian exoplanetary orbits to stellar radial velocity time series.  \n",
    "\n",
    "But astronomers also often fit data with heuristic nonlinear functions that do not have a clear astrophysical interpretation such as the stellar Initial Mass Function (several distributions used), galaxy luminosity function (Schechter function = gamma distribution), Navarro-Frenk-White Dark Matter profile, and various galaxy scaling relations.\n",
    "\n",
    "Here we fit radial profiles from nearby Virgo Cluster elliptical galaxies to a heuristic nonlinear function proposed by Jose Luis Sersic in 1968. Here the surface brightness $B$ of an elliptical galaxy (or spiral galaxy bulge) as a function of radius $r$ follows: $B \\propto -2.5*log(I_e * 10^{-(0.868*n-0.142)}((r/r_e)^{1/n}-1))$.  The data are obtained from [Kormendy et al. 2009](https://ui.adsabs.harvard.edu/abs/2009ApJS..182..216K/abstract). We fit using R's _nls_ (nonlinear least squares) function;  see also CRAN package _nmle_ for maximum likelihood fitting."
   ]
  },
  {
   "cell_type": "code",
   "execution_count": 0,
   "metadata": {},
   "outputs": [],
   "source": [
    "# Unpack galaxy profile data\n",
    "\n",
    "data(ell_gal_profile)\n",
    "summary(ell_gal_profile)\n",
    "NGC4472 <- ell_gal_profile[ell_gal_profile[,1] == 'NGC.4472',2:3]\n",
    "NGC4472\n",
    "radius <- NGC4472[,1]\n",
    "surf_mag <- NGC4472[,2]\n",
    "\n",
    "NGC4472.fit <-  nls(surf_mag ~ -2.5*log10(I.e * 10^(-(0.868*n-0.142)*\n",
    "   ((radius/r.e)^{1/n}-1))) + 26, data=list(NGC4472), start=list(I.e=20.,\n",
    "   r.e=120.,n=4.), model=T, trace=T)\n",
    "summary(NGC4472.fit)\n",
    "logLik(NGC4472.fit)\n"
   ]
  },
  {
   "cell_type": "code",
   "execution_count": 0,
   "metadata": {},
   "outputs": [],
   "source": [
    "# Plot NGC 4472 data and best-fit model\n",
    "\n",
    "par(mai=c(1,1,0.8,0.44))   # improve left-hand margin\n",
    "plot(NGC4472.fit$model$radius, NGC4472.fit$model$surf_mag, pch=20, \n",
    "   xlab=\"r  (arcsec)\", ylab=expression(mu ~~ (mag/sq.arcsec)), ylim=c(16,28), \n",
    "   cex.lab=1.5, cex.axis=1.5)\n",
    "lines(NGC4472.fit$model$radius, fitted(NGC4472.fit), lw=2, col='red')"
   ]
  },
  {
   "cell_type": "markdown",
   "metadata": {},
   "source": [
    "We can examine various scalar quantities from the _nls_ fit, and plot the residuals between the data and model.  A nonparametric smoother is added to assist seeing the amazing structure in the residuals: periodic shells of stars in excess of the monotonic Sersic model.  This is a well-known effect due to past galaxy mergers that form large elliptical galaxies. A similar residual plot appears in Kormendy's paper. "
   ]
  },
  {
   "cell_type": "code",
   "execution_count": 0,
   "metadata": {},
   "outputs": [],
   "source": [
    "# Details information about the nls fit\n",
    "\n",
    "formula(NGC4472.fit)    # formula used\n",
    "coef(NGC4472.fit)       # best-fit parameters\n",
    "vcov(NGC4472.fit)       # best-fit parameter covariance matrix\n",
    "logLik(NGC4472.fit)     # log-likelihood of best fit"
   ]
  },
  {
   "cell_type": "code",
   "execution_count": 0,
   "metadata": {},
   "outputs": [],
   "source": [
    "confint(NGC4472.fit)    # 95% confidence intervals\n",
    "profile(NGC4472.fit)    # profiles (cuts) around the best fit (unfortunately the console output is verbose here)"
   ]
  },
  {
   "cell_type": "code",
   "execution_count": 0,
   "metadata": {},
   "outputs": [],
   "source": [
    "fitted(NGC4472.fit)     # fitted values\n",
    "residuals(NGC4472.fit)  # residuals from the fitted values\n",
    "\n",
    "# Residual plot\n",
    "\n",
    "plot(NGC4472.fit$model$radius,residuals(NGC4472.fit), xlab=\"r (arcsec)\", \n",
    "   ylab=\"Residuals\", pch=20, cex.lab=1.5, cex.axis=1.5)\n",
    "lines(supsmu(NGC4472.fit$model$radius, residuals(NGC4472.fit), span=0.05), \n",
    "   lwd=2, col='red')"
   ]
  },
  {
   "cell_type": "markdown",
   "metadata": {},
   "source": [
    "We can perform more analysis of the residuals.  First, we show the residuals are normally distributed (Shapiro-Wilks test) but exhibit strong spatial autocorrelation (Durbin-Watson test). "
   ]
  },
  {
   "cell_type": "code",
   "execution_count": 0,
   "metadata": {},
   "outputs": [],
   "source": [
    "# Test for normality (OK) and autocorrelation (not OK) of residuals\n",
    "# For linear models, also use the Durbin-Watson test in CRAN packages lmtest and car\n",
    "\n",
    "qqnorm(residuals(NGC4472.fit) / summary(NGC4472.fit)$sigma) \n",
    "abline(a=0,b=1)\n",
    "shapiro.test(residuals(NGC4472.fit) / summary(NGC4472.fit)$sigma) \n",
    "acf(residuals(NGC4472.fit))"
   ]
  },
  {
   "cell_type": "markdown",
   "metadata": {},
   "source": [
    "There is an oddity: the error on Sersic's _n_ parameter from `nls` is much smaller than the error quoted by Kormendy.  Reading Kormendy's appendix, I find that he did not know how to evaluate the uncertainty of a nonlinear fit and chose an _ad hoc_ procedure that overestimated the error.  His estimate of _n_ was much more accurate than he thought."
   ]
  },
  {
   "cell_type": "markdown",
   "metadata": {},
   "source": [
    "> **Exercise 2.**  (a) See whether the best-fit model is significantly different using maximum likelihood estimation (CRAN package _nmle_) rather than Iteratively Weighted Least Squares (_nls_ in R).  (b) Estimate parameter confidence intervals using bootstrap techniques using CRAN _nlstools_."
   ]
  },
  {
   "cell_type": "markdown",
   "metadata": {},
   "source": [
    "### Some useful books for regression\n",
    "\n",
    "- S. Sheather, [_A Modern Approach to Regression with R_](https://link.springer.com/book/10.1007%2F978-0-387-09608-7), 2009, Springer\n",
    "- J. Fox, [_An R Companion to Applied Regression_](https://socialsciences.mcmaster.ca/jfox/Books/Companion/), 3rd ed, 2019, Sage \n",
    "- C. Ritz & J. Streibig, [_Nonlinear Regression with R_](https://link.springer.com/book/10.1007/978-0-387-09616-2), 2008, Springer\n",
    "- K. Takezawa, [_Introduction to Nonparametric Regression_](https://onlinelibrary.wiley.com/doi/book/10.1002/0471771457), 2005, Wiley\n",
    "- J. Harazlak, D. Ruppert & M. Wand, [_Semiparametric Regression with R_](https://link.springer.com/book/10.1007/978-1-4939-8853-2),  2018, Springer"
   ]
  }
 ],
 "metadata": {
  "kernelspec": {
   "display_name": "R (system-wide)",
   "language": "r",
   "metadata": {
    "cocalc": {
     "description": "R statistical programming language",
     "priority": 10,
     "url": "https://www.r-project.org/"
    }
   },
   "name": "ir",
   "resource_dir": "/ext/jupyter/kernels/ir"
  },
  "language_info": {
   "codemirror_mode": "r",
   "file_extension": ".r",
   "mimetype": "text/x-r-source",
   "name": "R",
   "pygments_lexer": "r",
   "version": "4.0.5"
  }
 },
 "nbformat": 4,
 "nbformat_minor": 4
}
